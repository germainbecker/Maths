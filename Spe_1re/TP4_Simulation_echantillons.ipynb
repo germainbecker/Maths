{
 "cells": [
  {
   "cell_type": "markdown",
   "id": "chronic-julian",
   "metadata": {},
   "source": [
    "<h1 style=\"font-size: 30px; text-align: center\">TP 4 : Simulation d'échantillons d'une variable aléatoire</h1>\n",
    "\n",
    "---"
   ]
  },
  {
   "cell_type": "markdown",
   "id": "artificial-suite",
   "metadata": {},
   "source": [
    "# I. Simuler une variable aléatoire avec Python"
   ]
  },
  {
   "cell_type": "markdown",
   "id": "competent-think",
   "metadata": {},
   "source": [
    "<div style=\"box-shadow: 1px 1px 5px #333; padding: 5px;\"><span><strong style=\"background-color: black; color: white; padding: 0px;\" >Définition</strong></span>\n",
    "    <p><strong>Simuler une expérience aléatoire</strong>, c’est la remplacer par une autre expérience qui conduit aux mêmes résultats dans les mêmes conditions.\n",
    "        <br><strong>Simuler une variable aléatoire</strong> définie à partir d’une expérience aléatoire revient donc à simuler l’expérience aléatoire pour obtenir une valeur de la variable aléatoire.</p>\n",
    "</div>"
   ]
  },
  {
   "cell_type": "markdown",
   "id": "greek-hawaiian",
   "metadata": {},
   "source": [
    "> On va utiliser Python pour simuler des expériences aléatoires (on pourrait aussi utiliser un tableur, ou des pièces de monnaies, des dés, etc.)\n",
    "\n",
    "## Exemple : simuler un Pile ou Face\n",
    "\n",
    "On veut simuler le jeu classique du « Pile ou Face » d’une pièce bien équilibrée. On sait que les probabilités des deux issues (P et F) sont égales (à 0,5).\n",
    "\n",
    "Pour effectuer la simulation on va utiliser le module `random` permettant notamment de générer des nombres aléatoirement.\n",
    "\n",
    "### Utilisation de la fonction `randint()`\n",
    "\n",
    "<div style=\"border:1px solid black; padding:10px; margin:20px\">\n",
    "    <p>Si <code>m</code> et <code>n</code> sont deux entiers, avec <code>m <= n</code> alors <code>randint(m, n)</code> renvoie un entier aléatoire entre <code>m</code> et <code>n</code>.</p>\n",
    "</div>\n",
    "\n",
    "Pour simuler notre expérience avec Python, on peut générer aléatoirement un entier `a` égal à 0 ou 1 et poser la convention (0 ↔ Pile) et (1 ↔ Face). On peut utiliser pour cela l'instruction `a = randint(0, 1)`. La fonction `pile_ou_face` suivante permet de simuler l’expérience aléatoire."
   ]
  },
  {
   "cell_type": "code",
   "execution_count": null,
   "id": "animal-aberdeen",
   "metadata": {},
   "outputs": [],
   "source": [
    "from random import randint  # ne pas oublier d'importer la fonction randint du module random\n",
    "\n",
    "def pile_ou_face():\n",
    "    a = randint(0, 1)  # a est un entier aléatoire entre 0 et 1 (donc vaut 0 ou 1)\n",
    "    if a == 0:\n",
    "        piece = \"P\"\n",
    "    else:\n",
    "        piece = \"F\"\n",
    "    return piece\n",
    "\n",
    "# pensez à exécuter le code de cette cellule"
   ]
  },
  {
   "cell_type": "markdown",
   "id": "allied-schema",
   "metadata": {},
   "source": [
    "On peut alors appeler la fonction pour simuler l'expérience aléatoire et voir le résultat obtenu :"
   ]
  },
  {
   "cell_type": "code",
   "execution_count": null,
   "id": "systematic-abortion",
   "metadata": {},
   "outputs": [],
   "source": [
    "# exécutez la cellule plusieurs fois pour simuler plusieurs fois l'expérience\n",
    "pile_ou_face()"
   ]
  },
  {
   "cell_type": "markdown",
   "id": "lyric-knock",
   "metadata": {},
   "source": [
    "### Utilisation de la fonction `random()`\n",
    "\n",
    "<div style=\"border:1px solid black; padding:10px; margin:20px\">\n",
    "    <p>La fonction <code>random()</code> renvoie un nombre décimal aléatoire compris entre 0 et 1.</p>\n",
    "</div>\n",
    "\n",
    "Pour simuler notre expérience avec Python, on peut aussi générer aléatoirement un nombre décimal `a` compris entre 0 et 1 et poser la convention (`a < 0.5` ↔ Pile) et (`a >= 0.5` ↔ Face). On peut utiliser pour cela l'instruction `a = random()`. Voici donc une autre fonction `pile_ou_face_bis` qui simule notre expérience :\n"
   ]
  },
  {
   "cell_type": "code",
   "execution_count": null,
   "id": "spectacular-norway",
   "metadata": {},
   "outputs": [],
   "source": [
    "from random import random  # ne pas oublier d'importer la fonction randint du module random\n",
    "\n",
    "def pile_ou_face_bis():\n",
    "    a = random()  # a est un nombre décimal compris entre 0 et 1\n",
    "    if a < 0.5:\n",
    "        piece = \"P\"\n",
    "    else:\n",
    "        piece = \"F\"\n",
    "    return piece\n",
    "\n",
    "# pensez à exécuter la cellule"
   ]
  },
  {
   "cell_type": "markdown",
   "id": "professional-central",
   "metadata": {},
   "source": [
    "**Remarque** : l'instruction `random()` renvoie un nombre décimal aléatoire compris entre 0 et 1\n",
    "\n",
    "On peut aussi appeler cette seconde fonction pour simuler notre expérience."
   ]
  },
  {
   "cell_type": "code",
   "execution_count": null,
   "id": "utility-fight",
   "metadata": {},
   "outputs": [],
   "source": [
    "# exécutez la cellule plusieurs fois pour simuler plusieurs fois l'expérience\n",
    "pile_ou_face_bis()"
   ]
  },
  {
   "cell_type": "markdown",
   "id": "royal-keyboard",
   "metadata": {},
   "source": [
    "## Exercice 1 : Une roulette\n",
    "\n",
    "<img src=\"https://cdn.pixabay.com/photo/2015/07/10/11/11/luck-839037_960_720.jpg\" alt=\"illustration\" width=\"300\">\n",
    "\n",
    "Une roulette est formée de 10 cases, 1 case rouge et 9 cases noires. Lorsque la case rouge sort, on gagne 100 €, sinon on perd 12 €.\n",
    "\n",
    "$X$ est la variable aléatoire qui donne le gain algébrique du joueur. \n",
    "\n",
    "On veut écrire une fonction appelée `gain` qui simule la variable aléatoire $X$. Une version incomplète est donnée ci-dessous."
   ]
  },
  {
   "cell_type": "code",
   "execution_count": null,
   "id": "available-session",
   "metadata": {},
   "outputs": [],
   "source": [
    "from random import randint\n",
    "\n",
    "def gain():\n",
    "    a = randint(..., ...)\n",
    "    if a == 1:\n",
    "        x = 100\n",
    "    else:\n",
    "        x = ...\n",
    "    return ..."
   ]
  },
  {
   "cell_type": "markdown",
   "id": "growing-arrival",
   "metadata": {},
   "source": [
    "**Question 1** : Remplacez ci-dessus les pointillés par les bonnes instructions puis exécutez le code pour mémoriser la fonction.\n",
    "\n",
    "**Question 2** : Appelez plusieurs fois cette fonction pour simuler plusieurs parties :"
   ]
  },
  {
   "cell_type": "code",
   "execution_count": null,
   "id": "searching-contribution",
   "metadata": {},
   "outputs": [],
   "source": [
    "# Appel à faire ici :\n"
   ]
  },
  {
   "cell_type": "markdown",
   "id": "exclusive-chorus",
   "metadata": {},
   "source": [
    "## Exercice 2 : Un jeu de dé\n",
    "\n",
    "<img src=\"https://cdn.pixabay.com/photo/2013/07/12/17/21/dice-152068_960_720.png\" alt=\"illustration\" width=\"150\">\n",
    "\n",
    "On lance un dé équilibré dont les faces sont numérotées de 1 à 6. \n",
    "\n",
    "La variable aléatoire $X$ donne le gain du joueur : on gagne 10 € s’il sort un numéro supérieur ou égal à 5, on perd 5 € sinon.\n",
    "\n",
    "**Question 1** : Recopiez et adaptez la fonction `gain()` de l’exercice précédent pour qu’elle simule cette nouvelle variable aléatoire $X$."
   ]
  },
  {
   "cell_type": "code",
   "execution_count": null,
   "id": "objective-conservation",
   "metadata": {},
   "outputs": [],
   "source": [
    "# à vous de jouer (n'oubliez pas d'exécuter le code lorsque la fonction est écrite) :\n"
   ]
  },
  {
   "cell_type": "markdown",
   "id": "intellectual-amsterdam",
   "metadata": {},
   "source": [
    "**Question 2** :  Appelez plusieurs fois cette fonction pour simuler plusieurs parties :"
   ]
  },
  {
   "cell_type": "code",
   "execution_count": null,
   "id": "loaded-explorer",
   "metadata": {},
   "outputs": [],
   "source": [
    "# Appel à faire ici :\n"
   ]
  },
  {
   "cell_type": "markdown",
   "id": "paperback-baseball",
   "metadata": {},
   "source": [
    "# II.  Simuler un échantillon"
   ]
  },
  {
   "cell_type": "markdown",
   "id": "unavailable-omaha",
   "metadata": {},
   "source": [
    "<div style=\"box-shadow: 1px 1px 5px #333; padding: 5px;\"><span><strong style=\"background-color: black; color: white; padding: 0px;\" >Définition</strong></span>\n",
    "    <p>Pour une expérience aléatoire, un échantillon de taille $n$ est la liste des $n$ résultats obtenus lorsque l’on répète $n$ fois de façon indépendante cette expérience.\n",
    "        <br>De la même manière, un <strong>échantillon de taille $n$ d’une variable aléatoire</strong> est la liste des $n$ valeurs de la variable aléatoire si on la simule $n$ fois de façon indépendante.</p>\n",
    "</div>"
   ]
  },
  {
   "cell_type": "markdown",
   "id": "sudden-football",
   "metadata": {},
   "source": [
    "Dans les exemples précédents il était nécessaire d’appeler plusieurs fois la fonction « manuellement » pour simuler plusieurs fois l’expérience ou la variable aléatoire et ainsi obtenir un échantillon. Comme c’est fastidieux de procéder ainsi, on va préférer automatiser la création d’un échantillon.\n",
    "\n",
    ">On va pour cela s’appuyer sur la notion de _liste_ en Python"
   ]
  },
  {
   "cell_type": "markdown",
   "id": "nasty-impression",
   "metadata": {},
   "source": [
    "## Exemple : simuler un échantillon du jeu Pile ou Face\n",
    "\n",
    "On veut simuler un échantillon de taille $n$ de notre expérience aléatoire du « Pile ou Face ». La fonction `echantillon()` donnée ci-dessous utilise $n$ fois la fonction `pile_ou_face` pour simuler un tel échantillon.\n",
    "\n",
    "```python\n",
    "def echantillon(n):\n",
    "    L = []  # création d'une liste vide L\n",
    "    for k in range(n):  # on répète n fois la simulation\n",
    "        x = pile_ou_face()  # x est le résultat d'une simulation (ici \"P\" ou \"F\")\n",
    "        L.append(x)  # on ajoute x à la liste L\n",
    "    return L  # on renvoie la liste L qui est notre échantillon\n",
    "```\n",
    "\n",
    "**Explications** : \n",
    "- la fonction crée une liste vide `L` au départ (grâce aux crochets vides `[]`), \n",
    "- puis, grâce à une boucle `for`, simule n fois l’expérience aléatoire en stockant les n résultats obtenus dans la liste `L` par ajouts successifs grâce à l’instruction `append()`,\n",
    "- enfin, renvoie la liste `L` qui est notre *échantillon* de taille n de l'expérience aléatoire"
   ]
  },
  {
   "cell_type": "markdown",
   "id": "4a1b2122",
   "metadata": {},
   "source": [
    "Ainsi, le code qui suit (on a juste recopié la fonction `pile_ou_face()` définie précédemment), permet de mémoriser cette nouvelle fonction `echantillon()` pour simuler un échantillon du jeu \"Pile ou Face\". "
   ]
  },
  {
   "cell_type": "code",
   "execution_count": null,
   "id": "42eeeaf7",
   "metadata": {},
   "outputs": [],
   "source": [
    "from random import randint\n",
    "\n",
    "# SIMULATION DE L'EXPÉRIENCE ALÉATOIRE\n",
    "\n",
    "def pile_ou_face():  # on a juste recopié la fonction pile_ou_face() donnée précédemment\n",
    "    a = randint(0, 1)\n",
    "    if a == 0:\n",
    "        piece = \"P\"\n",
    "    else:\n",
    "        piece = \"F\"\n",
    "    return piece\n",
    "\n",
    "# SIMULATION D'UN ÉCHANTILLON\n",
    "\n",
    "def echantillon(n):\n",
    "    L = []  # création d'une liste vide L\n",
    "    for k in range(n):  # on répète n fois la simulation\n",
    "        x = pile_ou_face()  # x est le résultat d'une simulation (ici \"P\" ou \"F\")\n",
    "        L.append(x)  # on ajoute x à la liste L\n",
    "    return L  # on renvoie la liste L qui est notre échantillon"
   ]
  },
  {
   "cell_type": "markdown",
   "id": "68c4aae0",
   "metadata": {},
   "source": [
    "Ainsi, l'appel `echantillon(4)` va créer un échantillon de taille 5 notre jeu du Pile ou Face :"
   ]
  },
  {
   "cell_type": "code",
   "execution_count": null,
   "id": "dafb7d49",
   "metadata": {},
   "outputs": [],
   "source": [
    "echantillon(4)"
   ]
  },
  {
   "cell_type": "markdown",
   "id": "imported-inquiry",
   "metadata": {},
   "source": [
    "## Exercice 3\n",
    "\n",
    "**Question 1** : Cliquez sur [ce lien](https://pythontutor.com/visualize.html#code=from%20random%20import%20randint%0A%0Adef%20pile_ou_face%28%29%3A%0A%20%20%20%20a%20%3D%20randint%280,%201%29%0A%20%20%20%20if%20a%20%3D%3D%200%3A%0A%20%20%20%20%20%20%20%20piece%20%3D%20%22P%22%0A%20%20%20%20else%3A%0A%20%20%20%20%20%20%20%20piece%20%3D%20%22F%22%0A%20%20%20%20return%20piece%0A%0Adef%20echantillon%28n%29%3A%0A%20%20%20%20L%20%3D%20%5B%5D%0A%20%20%20%20for%20k%20in%20range%28n%29%3A%0A%20%20%20%20%20%20%20%20x%20%3D%20pile_ou_face%28%29%0A%20%20%20%20%20%20%20%20L.append%28x%29%0A%20%20%20%20return%20L%0A%0A%23%20appel%20pour%20cr%C3%A9er%20un%20%C3%A9chantillon%20%28de%20taille%204%29%0Aechantillon%284%29&cumulative=false&curInstr=4&heapPrimitives=nevernest&mode=display&origin=opt-frontend.js&py=3&rawInputLstJSON=%5B%5D&textReferences=false) pour ouvrir le code avec Pythontutor et visualisez la construction d’un échantillon étape par étape en cliquant sur le bouton `Next >` et en observant bien les valeurs des différentes variables.\n",
    "\n",
    "**Question 2** : Écrivez et exécutez l'instruction permettant de créer un échantillon **de taille 10** de notre jeu du Pile ou Face. Faites ensuite de même pour un échantillon **de taille 100**. "
   ]
  },
  {
   "cell_type": "code",
   "execution_count": null,
   "id": "federal-surfing",
   "metadata": {},
   "outputs": [],
   "source": [
    "# à vous de jouer :\n"
   ]
  },
  {
   "cell_type": "markdown",
   "id": "underlying-beaver",
   "metadata": {},
   "source": [
    "**Question 3** : Exécutez plusieurs fois la cellule précédente pour constater qu'à chaque fois un nouvel échantillon est généré (les valeurs de l'échantillon diffèrent)."
   ]
  },
  {
   "cell_type": "markdown",
   "id": "executive-hawaiian",
   "metadata": {},
   "source": [
    "## Exercice 4\n",
    "\n",
    "<img src=\"https://cdn.pixabay.com/photo/2015/07/10/11/11/luck-839037_960_720.jpg\" alt=\"illustration\" width=\"300\">\n",
    "\n",
    "On reprend l’expérience et la variable aléatoire $X$ de l’exercice 1 dont on rappelle le contexte ci-dessous.\n",
    "\n",
    "_Une roulette est formée de 10 cases, 1 case rouge et 9 cases noires. Lorsque la case rouge sort, on gagne 100 €, sinon on perd 12 €.\n",
    "$X$ est la variable aléatoire qui donne le gain algébrique du joueur._\n",
    "\n",
    ">L’objectif est de simuler un échantillon de taille $n$ de la variable aléatoire $X$."
   ]
  },
  {
   "cell_type": "markdown",
   "id": "ordinary-donor",
   "metadata": {},
   "source": [
    "**Question 1** : On a recopié ci-dessous le code de la fonction `gain()` (voir exercice 1) et le code incomplet d'une fonction `echantillon()`. Complétez la fonction `echantillon()` pour qu’elle simule un échantillon de taille `n` de la variable aléatoire $X$."
   ]
  },
  {
   "cell_type": "code",
   "execution_count": null,
   "id": "hazardous-information",
   "metadata": {},
   "outputs": [],
   "source": [
    "from random import randint\n",
    "\n",
    "def gain():\n",
    "    a = randint(1, 10)\n",
    "    if a == 1:\n",
    "        x = 100\n",
    "    else:\n",
    "        x = -12\n",
    "    return x\n",
    "\n",
    "# à compléter :\n",
    "def echantillon(n):\n",
    "    L = []\n",
    "    for k in range(...):\n",
    "        x = ...\n",
    "        L.append(x)\n",
    "    return L"
   ]
  },
  {
   "cell_type": "markdown",
   "id": "timely-eligibility",
   "metadata": {},
   "source": [
    "**Question 2** : Après avoir exécutez la cellule ci-dessus avec les fonctions, appelez la fonction `echantillon()` dans la console pour simuler un échantillon **de taille 10** de la variable aléatoire $X$. Simulez ensuite des échantillons plus grands."
   ]
  },
  {
   "cell_type": "code",
   "execution_count": null,
   "id": "substantial-infrastructure",
   "metadata": {},
   "outputs": [],
   "source": [
    "# à vous de jouer :\n"
   ]
  },
  {
   "cell_type": "markdown",
   "id": "baking-honey",
   "metadata": {},
   "source": [
    "# III. Renvoyer la moyenne d'un échantillon\n",
    "\n",
    "À partir d’un échantillon d’une variable aléatoire, on peut facilement calculer la moyenne des valeurs stockées dans la liste. La fonction `moyenne()` ci-dessous utilise la fonction `echantillon()` pour créer un échantillon de taille `n`, puis calcule et renvoie la moyenne de l’échantillon.\n",
    "\n",
    "```python\n",
    "def moyenne(n):\n",
    "    L = echantillon(n)  # construction d'un échantillon L de taille n\n",
    "    s = sum(L)  # somme des valeurs de l'échantillon\n",
    "    m = s / n  # la moyenne m est la somme divisée par la taille n de l'échantillon\n",
    "    return m  # on renvoie la moyenne\n",
    "```"
   ]
  },
  {
   "cell_type": "markdown",
   "id": "stock-conservative",
   "metadata": {},
   "source": [
    "**Explications** : La fonction `sum()` de Python utilisée ici renvoie la somme des valeurs d'une liste. Pour obtenir la moyenne il faut diviser la somme `s` des valeurs par la taille `n` de l’échantillon."
   ]
  },
  {
   "cell_type": "markdown",
   "id": "elegant-prairie",
   "metadata": {},
   "source": [
    "## Exercice 5 : Gain moyen à la roulette\n",
    "\n",
    "<img src=\"https://cdn.pixabay.com/photo/2015/07/10/11/11/luck-839037_960_720.jpg\" alt=\"illustration\" width=\"300\">\n",
    "\n",
    "On reprend le contexte de l’exercice 1 que l’on rappelle ci-dessous.\n",
    "\n",
    "_Une roulette est formée de 10 cases, 1 case rouge et 9 cases noires. Lorsque la case rouge sort, on gagne 100 €, sinon on perd 12 €. $X$ est la variable aléatoire qui donne le gain algébrique du joueur._\n",
    "\n",
    "**Question 1** : Exécutez le code ci-dessous pour mémoriser cette nouvelle fonction `moyenne()`."
   ]
  },
  {
   "cell_type": "code",
   "execution_count": null,
   "id": "important-knock",
   "metadata": {},
   "outputs": [],
   "source": [
    "from random import randint\n",
    "\n",
    "def gain():  # on a juste recopié la fonction gain donnée précédemment\n",
    "    a = randint(1, 10)\n",
    "    if a == 1:\n",
    "        x = 100\n",
    "    else:\n",
    "        x = -12\n",
    "    return x\n",
    "\n",
    "def echantillon(n):  # on a juste recopié la fonction echantillon donnée précédemment\n",
    "    L = []\n",
    "    for k in range(n):\n",
    "        x = gain()\n",
    "        L.append(x)\n",
    "    return L\n",
    "\n",
    "def moyenne(n):  # on a juste recopié la fonction moyenne donnée précédemment\n",
    "    L = echantillon(n)\n",
    "    s = sum(L)\n",
    "    m = s / n\n",
    "    return m\n"
   ]
  },
  {
   "cell_type": "markdown",
   "id": "indonesian-involvement",
   "metadata": {},
   "source": [
    "**Question 2** : Appelez plusieurs fois la fonction `moyenne` pour calculer la moyenne de la variable aléatoire $X$ (le gain moyen) pour des échantillons de taille 100. Le gain moyen varie-t-il beaucoup d’un échantillon à un autre ?"
   ]
  },
  {
   "cell_type": "code",
   "execution_count": null,
   "id": "outer-encyclopedia",
   "metadata": {},
   "outputs": [],
   "source": [
    "# à vous de jouer :\n"
   ]
  },
  {
   "cell_type": "markdown",
   "id": "invalid-iceland",
   "metadata": {},
   "source": [
    "**✍️ Question 3 (à faire à la main sur votre feuille !!)** :\n",
    "\n",
    "1. Déterminez la loi de probabilité de $X$.\n",
    "2. Déterminez l’espérance de la variable aléatoire $X$. Interpréter le résultat."
   ]
  },
  {
   "cell_type": "markdown",
   "id": "c727b766",
   "metadata": {},
   "source": [
    "**Question 4** : En utilisant la fonction `moyenne()`, vérifiez que le gain moyen se rapproche de plus en plus de l’espérance de $X$ lorsque la taille de l'échantillon est grande."
   ]
  },
  {
   "cell_type": "code",
   "execution_count": null,
   "id": "searching-interaction",
   "metadata": {},
   "outputs": [],
   "source": [
    "# à vous de jouer :\n"
   ]
  },
  {
   "cell_type": "markdown",
   "id": "cathedral-confusion",
   "metadata": {},
   "source": [
    "## Exercice 6 : Gain moyen au jeu de dé\n",
    "\n",
    "<img src=\"https://cdn.pixabay.com/photo/2013/07/12/17/21/dice-152068_960_720.png\" alt=\"illustration\" width=\"150\">\n",
    "\n",
    "On reprend le contexte de l’exercice 2 que l’on rappelle ci-dessous.\n",
    "\n",
    "_On lance un dé équilibré dont les faces sont numérotées de 1 à 6. La variable aléatoire $X$ donne le gain du joueur : on gagne 10 € s’il sort un numéro supérieur ou égal à 5, on perd 5 € sinon._\n"
   ]
  },
  {
   "cell_type": "markdown",
   "id": "gothic-newspaper",
   "metadata": {},
   "source": [
    "**✍️ Question 1 (à faire à la main sur votre feuille !!)** :\n",
    "\n",
    "1. Déterminez la loi de probabilité de $X$.\n",
    "2. Déterminez l’espérance de la variable aléatoire $X$. Interpréter le résultat. \n",
    "\n",
    "**Question 2** : Recopiez et adaptez le programme de l'exercice 5 (question 1) pour créer les fonctions `gain()`, `echantillon()` et `moyenne()` correspondant à la variable aléatoire $X$ de cet exercice."
   ]
  },
  {
   "cell_type": "code",
   "execution_count": null,
   "id": "short-fifth",
   "metadata": {},
   "outputs": [],
   "source": [
    "# à vous de jouer :\n"
   ]
  },
  {
   "cell_type": "markdown",
   "id": "attempted-finish",
   "metadata": {},
   "source": [
    "**Question 3** : Vérifiez qu’en augmentant la taille de l’échantillon de $X$, le gain moyen se rapproche de plus en plus de l’espérance de $X$."
   ]
  },
  {
   "cell_type": "code",
   "execution_count": null,
   "id": "muslim-capital",
   "metadata": {},
   "outputs": [],
   "source": [
    "# à vous de jouer :\n"
   ]
  },
  {
   "cell_type": "markdown",
   "id": "466778e2",
   "metadata": {},
   "source": [
    "## Exercice 7 : Objectif 14\n",
    "\n",
    "Un jeu consiste à lancer quatre dés à six faces et à calculer la somme des nombres obtenus.\n",
    "\n",
    "Soit $X$ la variable aléatoire qui donne la somme des nombres obtenus.\n",
    "\n",
    "On a les trois cas suivants :\n",
    "\n",
    "- si $X = 14$, alors le joueur gagne 14 euros\n",
    "- si $X<7$ ou $X>14$ alors le joueur perd 7 euros\n",
    "- sinon, le joueur gagne $X-7$ points\n",
    "\n",
    "On note $G$ la variable aléatoire égale au gain algébrique du joueur pour une partie.\n",
    "\n",
    "**Questions préliminaires** :\n",
    "\n",
    "**Q1** : Anna lance quatre dés et obtient : 4; 2; 2; 5. Combien gagne-t-elle ?\n",
    "\n",
    "**Q2** : Maxime a gagné 14 euros. Donnez deux exemples de résultats qu'il a pu obtenir\n",
    "\n",
    ">**Objectif : Déterminer expérimentalement si le jeu est favorable au joueur.**\n"
   ]
  },
  {
   "cell_type": "markdown",
   "id": "37a6a919",
   "metadata": {},
   "source": [
    "Le programme incomplet ci-dessous permet de simuler ce jeu.\n",
    "\n",
    "```python\n",
    "from random import randint\n",
    "\n",
    "def jeu():\n",
    "    de1 = randint(1, 6)\n",
    "    de2 = randint(1, 6)\n",
    "    de3 = randint(1, 6)\n",
    "    de4 = randint(1, 6)\n",
    "    X = de1 + de2 + de3 + de4\n",
    "    if ...:\n",
    "        G = 14\n",
    "    elif ...:\n",
    "        G = -7\n",
    "    else:\n",
    "        G = ...\n",
    "    return G\n",
    "```\n",
    "\n",
    "En utilisant la fonction `jeu()`, déterminez si le jeu est favorable ou défavorable au joueur."
   ]
  },
  {
   "cell_type": "code",
   "execution_count": null,
   "id": "8f0bbe59",
   "metadata": {},
   "outputs": [],
   "source": [
    "# à vous de jouer !"
   ]
  },
  {
   "cell_type": "markdown",
   "id": "incorporated-durham",
   "metadata": {},
   "source": [
    "---\n",
    "\n",
    "Germain BECKER, Lycée Mounier, ANGERS \n",
    "\n",
    "![Licence Creative Commons](https://i.creativecommons.org/l/by-nc-sa/4.0/88x31.png)\n"
   ]
  }
 ],
 "metadata": {
  "celltoolbar": "Éditer les Méta-Données",
  "kernelspec": {
   "display_name": "Python 3",
   "language": "python",
   "name": "python3"
  },
  "language_info": {
   "codemirror_mode": {
    "name": "ipython",
    "version": 3
   },
   "file_extension": ".py",
   "mimetype": "text/x-python",
   "name": "python",
   "nbconvert_exporter": "python",
   "pygments_lexer": "ipython3",
   "version": "3.7.10"
  }
 },
 "nbformat": 4,
 "nbformat_minor": 5
}
