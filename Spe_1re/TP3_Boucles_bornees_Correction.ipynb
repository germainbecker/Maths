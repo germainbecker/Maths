{
 "cells": [
  {
   "cell_type": "markdown",
   "id": "0fecef2f",
   "metadata": {},
   "source": [
    "<h1 style=\"font-size: 30px; text-align: center\">TP 3 : Boucles bornées - CORRECTION</h1>\n",
    "\n",
    "---\n"
   ]
  },
  {
   "cell_type": "markdown",
   "id": "9e0612be",
   "metadata": {},
   "source": [
    "# I. Introduction\n",
    "\n",
    "Souvent dans un programme, il est nécessaire de répéter un certain de fois un ou plusieurs instruction(s). Pour cela, on utilise ce qu’on appelle des boucles. Il en existe de deux sortes :\n",
    "\n",
    "- Les boucles **bornées**, qui sont utilisées **si on connaît** à l’avance le nombre de répétitions à effectuer.\n",
    "- Les boucles non bornées, qui sont utilisées **si on ne connaît pas** à l’avance le nombre de répétitions à effectuer.\n",
    "\n",
    "\n",
    "**Dans ce TP, nous étudierons uniquement les *boucles bornées* et des exercices seront proposés pour comprendre le principe puis pour programmer en Python ce type d'instructions. Nous en profiterons pour réinvestir les notions déjà abordées en Python.**\n"
   ]
  },
  {
   "cell_type": "markdown",
   "id": "a30bd7c3",
   "metadata": {},
   "source": [
    "<div class=\"alert alert-success\">\n",
    "    <p>Une <strong>boucle bornée</strong> permet de répéter des instructions un certain nombre de fois, connu à l'avance. Ce type de boucle s'appelle aussi <strong>boucle pour</strong> ou encore <strong>boucle for</strong> en anglais (et en Python).</p>\n",
    "</div>"
   ]
  },
  {
   "cell_type": "markdown",
   "id": "d4277842",
   "metadata": {},
   "source": [
    "## Exemple concret\n",
    "\n",
    "<img src=\"https://cdn.pixabay.com/photo/2015/10/21/08/22/media-998990_960_720.jpg\" width=\"300\">\n",
    "\n",
    "Le nombre d'utilisateurs d'un nouveau réseau social est égal à 500 000 en janvier 2021. Ce nombre augmente de 5 % par mois, donc est multiplié par 1.05 chaque mois. Si on veut connaître le nombre d'utilisateurs 10 mois plus tard, il faut effectuer 10 fois de suite le même calcul (une multiplication par 1.05). Au lieu d'écrire 10 lignes identiques il est préférable d'écrire une seule fois cette ligne et d'indiquer de l'exécuter 10 fois : pour cela, on utilise une boucle bornée.\n",
    "\n",
    "Ainsi, au lieu d’écrire l’algorithme\n",
    "\n",
    "```\n",
    "nb_utilisateurs ⟵ 500000\n",
    "nb_utilisateurs ⟵ nb_utilisateurs × 1,05\n",
    "nb_utilisateurs ⟵ nb_utilisateurs × 1,05\n",
    "nb_utilisateurs ⟵ nb_utilisateurs × 1,05\n",
    "nb_utilisateurs ⟵ nb_utilisateurs × 1,05\n",
    "nb_utilisateurs ⟵ nb_utilisateurs × 1,05\n",
    "nb_utilisateurs ⟵ nb_utilisateurs × 1,05\n",
    "nb_utilisateurs ⟵ nb_utilisateurs × 1,05\n",
    "nb_utilisateurs ⟵ nb_utilisateurs × 1,05\n",
    "nb_utilisateurs ⟵ nb_utilisateurs × 1,05\n",
    "nb_utilisateurs ⟵ nb_utilisateurs × 1,05\n",
    "```\n",
    "\n",
    "on écrirait celui-ci :\n",
    "\n",
    "```\n",
    "nb_utilisateurs ⟵ 500000\n",
    "pour i allant de 0 à 9 faire\n",
    "    nb_utilisateurs ⟵ nb_utilisateurs × 1,05\n",
    "fin pour\n",
    "```"
   ]
  },
  {
   "cell_type": "markdown",
   "id": "a4a0b8bd",
   "metadata": {},
   "source": [
    "**Remarques** :\n",
    "\n",
    "- La variable `i` utilisée ici s’appelle un itérateur de boucle. Ce sont les valeurs prises par `i` qui déterminent combien de fois les instructions indentées doivent être répétées.\n",
    "- Ici `i` varie de 0 à 9. Cela signifie que `i` vaut 0 au premier tour de boucle, puis 1 au deuxième, puis 2 au troisième, …, et enfin 9 au dernier. Comme `i` prend 10 valeurs différentes, l’instruction indentée est répétée 10 fois.\n",
    "- L’itérateur de boucle est une variable qui peut intervenir (cf. exercice 2) ou non (cf. exercice 1) dans les instructions à répéter dans la boucle.\n"
   ]
  },
  {
   "cell_type": "markdown",
   "id": "7d39af0f",
   "metadata": {},
   "source": [
    "Et en **Python**, on n'écrirait pas le programme suivant :"
   ]
  },
  {
   "cell_type": "code",
   "execution_count": null,
   "id": "334c25c6",
   "metadata": {},
   "outputs": [],
   "source": [
    "nb_utilisateurs = 500000\n",
    "nb_utilisateurs = nb_utilisateurs * 1.05\n",
    "nb_utilisateurs = nb_utilisateurs * 1.05\n",
    "nb_utilisateurs = nb_utilisateurs * 1.05\n",
    "nb_utilisateurs = nb_utilisateurs * 1.05\n",
    "nb_utilisateurs = nb_utilisateurs * 1.05\n",
    "nb_utilisateurs = nb_utilisateurs * 1.05\n",
    "nb_utilisateurs = nb_utilisateurs * 1.05\n",
    "nb_utilisateurs = nb_utilisateurs * 1.05\n",
    "nb_utilisateurs = nb_utilisateurs * 1.05\n",
    "nb_utilisateurs = nb_utilisateurs * 1.05\n",
    "\n",
    "print(nb_utilisateurs)  # pour afficher la valeur de la variable à la fin"
   ]
  },
  {
   "cell_type": "markdown",
   "id": "7364224e",
   "metadata": {},
   "source": [
    "Mais plutôt celui-ci :"
   ]
  },
  {
   "cell_type": "code",
   "execution_count": null,
   "id": "af1629f2",
   "metadata": {},
   "outputs": [],
   "source": [
    "nb_utilisateurs = 500000\n",
    "for i in range(10):\n",
    "    nb_utilisateurs = nb_utilisateurs * 1.05\n",
    "\n",
    "print(nb_utilisateurs)  # pour afficher la valeur de la variable à la fin"
   ]
  },
  {
   "cell_type": "markdown",
   "id": "b1e19dd9",
   "metadata": {},
   "source": [
    "On peut visualiser ce principe de *boucle* facilement avec *pythontutor* en exécutant la cellule ci-dessous ou en suivant [ce lien](https://pythontutor.com/visualize.html#code=nb_utilisateurs%20%3D%20500000%0Afor%20i%20in%20range%2810%29%3A%0A%20%20%20%20nb_utilisateurs%20%3D%20nb_utilisateurs%20*%201.05&cumulative=false&curInstr=0&heapPrimitives=nevernest&mode=display&origin=opt-frontend.js&py=3&rawInputLstJSON=%5B%5D&textReferences=false)"
   ]
  },
  {
   "cell_type": "code",
   "execution_count": null,
   "id": "f705dbb5",
   "metadata": {},
   "outputs": [],
   "source": [
    "# REMARQUE : cette cellule ne fonctionne qu'avec Basthon\n",
    "\n",
    "from tutor import tutor\n",
    "\n",
    "nb_utilisateurs = 500000\n",
    "for i in range(10):\n",
    "    nb_utilisateurs = nb_utilisateurs * 1.05\n",
    "\n",
    "tutor()"
   ]
  },
  {
   "cell_type": "markdown",
   "id": "34c4a8d9",
   "metadata": {},
   "source": [
    "# II. Dérouler un algorithme contenant une boucle bornée\n",
    "\n",
    "---\n",
    "\n",
    "## 🖊️ Exercice 1\n",
    "\n",
    "On considère l'algorithme ci-dessous dans lequel `u` est un réel et `n`, `N` sont des entiers.\n",
    "\n",
    "```\n",
    "u ⟵ 4 \n",
    "n ⟵ 0 \n",
    "pour k allant de 0 à N faire\n",
    "    u ⟵ 2 * u - 5 \n",
    "    n ⟵ n + 1 \n",
    "fin pour\n",
    "Afficher u\n",
    "```\n",
    "\n",
    "✍️ **Q1** : Comment se note l’itérateur de la boucle pour ?\n",
    "\n",
    "✍️ **Q2** : Entourez les instructions répétées dans la boucle pour. Combien de fois sont-elles répétées ?\n",
    "\n",
    "✍️ **Q3** : On suppose que `N` vaut 4. Complétez autant que nécessaire le tableau des valeurs successives des différentes variables ci-dessous.\n"
   ]
  },
  {
   "cell_type": "markdown",
   "id": "2839f368",
   "metadata": {},
   "source": [
    "<table style=\"border: 1px solid black; background-color: white; font-size:1em;\">\n",
    "    <thead>\n",
    "        <tr>\n",
    "            <th style=\"border: 1px solid; text-align:center; background-color: white;\">Tour de boucle</th>\n",
    "            <th style=\"border: 1px solid; text-align:center; background-color: white; width:50px;\"><code>k</code></th>\n",
    "            <th style=\"border: 1px solid; text-align:center; background-color: white; width:200px;\"><code>u</code></th>\n",
    "            <th style=\"border: 1px solid; text-align:center; background-color: white; width:200px;\"><code>n</code></th>\n",
    "        </tr>\n",
    "    </thead>\n",
    "    <tbody>\n",
    "        <tr>\n",
    "            <td style=\"border: 1px solid; text-align:center; background-color: white; height:35px;\">Avant le début de la boucle</td>\n",
    "            <td style=\"border: 1px solid; text-align:center; background-color: #eee;\"></td>\n",
    "            <td style=\"border: 1px solid; text-align:center; background-color: white;\">4</td>\n",
    "            <td style=\"border: 1px solid; text-align:center; background-color: white;\">0</td>\n",
    "        </tr>\n",
    "        <tr>\n",
    "            <th style=\"border: 1px solid; text-align:center; background-color: white; font-weight: normal; height:35px;\">Fin du 1er tour</th>\n",
    "            <th style=\"border: 1px solid; text-align:center; background-color: white; font-weight: normal;\">0</th>\n",
    "            <th style=\"border: 1px solid; text-align:center; background-color: white;\"></th>\n",
    "            <th style=\"border: 1px solid; text-align:center; background-color: white;\"></th>\n",
    "        </tr>\n",
    "        <tr>\n",
    "            <th style=\"border: 1px solid; text-align:center; background-color: white; height:35px;\"></th>\n",
    "            <th style=\"border: 1px solid; text-align:center; background-color: white;\"></th>\n",
    "            <th style=\"border: 1px solid; text-align:center; background-color: white;\"></th>\n",
    "            <th style=\"border: 1px solid; text-align:center; background-color: white;\"></th>\n",
    "        </tr>\n",
    "        <tr>\n",
    "            <th style=\"border: 1px solid; text-align:center; background-color: white; height:35px;\"></th>\n",
    "            <th style=\"border: 1px solid; text-align:center; background-color: white;\"></th>\n",
    "            <th style=\"border: 1px solid; text-align:center; background-color: white;\"></th>\n",
    "            <th style=\"border: 1px solid; text-align:center; background-color: white;\"></th>\n",
    "        </tr>\n",
    "        <tr>\n",
    "            <th style=\"border: 1px solid; text-align:center; background-color: white; height:35px;\"></th>\n",
    "            <th style=\"border: 1px solid; text-align:center; background-color: white;\"></th>\n",
    "            <th style=\"border: 1px solid; text-align:center; background-color: white;\"></th>\n",
    "            <th style=\"border: 1px solid; text-align:center; background-color: white;\"></th>\n",
    "        </tr>\n",
    "        <tr>\n",
    "            <th style=\"border: 1px solid; text-align:center; background-color: white; height:35px;\"></th>\n",
    "            <th style=\"border: 1px solid; text-align:center; background-color: white;\"></th>\n",
    "            <th style=\"border: 1px solid; text-align:center; background-color: white;\"></th>\n",
    "            <th style=\"border: 1px solid; text-align:center; background-color: white;\"></th>\n",
    "        </tr>      \n",
    "    </tbody>\n",
    "</table>"
   ]
  },
  {
   "cell_type": "markdown",
   "id": "778fd189",
   "metadata": {},
   "source": [
    "✍️ **Q4** : Qu'affiche cet algorithme ?\n",
    "\n",
    "✍️ **Q5** : L’algorithme permet de calculer les termes successifs d’une suite. Laquelle ? À quoi correspond la variable n pour cette suite ? Que représente la valeur affichée par l’algorithme ?"
   ]
  },
  {
   "cell_type": "markdown",
   "id": "ed10d76b",
   "metadata": {},
   "source": [
    "**CORRECTION**\n",
    "\n",
    "**Q1.** L'itérateur est noté `k`.\n",
    "\n",
    "**Q2.** Il s'agit des deux instructions indentées\n",
    "\n",
    "```\n",
    "u ⟵ 2 * u - 5 \n",
    "n ⟵ n + 1 \n",
    "```\n",
    "\n",
    "qui sont répétées N+1 fois (car `k` prend N+1 valeurs : de 0 à N).\n",
    "\n",
    "**Q3.** Voici le tableau complété :\n",
    "\n",
    "<table style=\"border: 1px solid black; background-color: white; font-size:1em;\">\n",
    "    <thead>\n",
    "        <tr>\n",
    "            <th style=\"border: 1px solid; text-align:center; background-color: white;\">Tour de boucle</th>\n",
    "            <th style=\"border: 1px solid; text-align:center; background-color: white; width:50px;\"><code>k</code></th>\n",
    "            <th style=\"border: 1px solid; text-align:center; background-color: white; width:200px;\"><code>u</code></th>\n",
    "            <th style=\"border: 1px solid; text-align:center; background-color: white; width:200px;\"><code>n</code></th>\n",
    "        </tr>\n",
    "    </thead>\n",
    "    <tbody>\n",
    "        <tr>\n",
    "            <td style=\"border: 1px solid; text-align:center; background-color: white; height:35px;\">Avant le début de la boucle</td>\n",
    "            <td style=\"border: 1px solid; text-align:center; background-color: #eee;\"></td>\n",
    "            <td style=\"border: 1px solid; text-align:center; background-color: white;\">4</td>\n",
    "            <td style=\"border: 1px solid; text-align:center; background-color: white;\">0</td>\n",
    "        </tr>\n",
    "        <tr>\n",
    "            <th style=\"border: 1px solid; text-align:center; background-color: white; font-weight: normal; height:35px;\">Fin du 1er tour</th>\n",
    "            <th style=\"border: 1px solid; text-align:center; background-color: white; font-weight: normal;\">0</th>\n",
    "            <th style=\"border: 1px solid; text-align:center; background-color: white;\">2*4 - 5 = 3</th>\n",
    "            <th style=\"border: 1px solid; text-align:center; background-color: white;\">1</th>\n",
    "        </tr>\n",
    "        <tr>\n",
    "            <th style=\"border: 1px solid; text-align:center; background-color: white; height:35px;\">Fin du 2ème tour</th>\n",
    "            <th style=\"border: 1px solid; text-align:center; background-color: white;\">1</th>\n",
    "            <th style=\"border: 1px solid; text-align:center; background-color: white;\">2*3 - 5 = 1</th>\n",
    "            <th style=\"border: 1px solid; text-align:center; background-color: white;\">2</th>\n",
    "        </tr>\n",
    "        <tr>\n",
    "            <th style=\"border: 1px solid; text-align:center; background-color: white; height:35px;\">Fin du 3ème tour</th>\n",
    "            <th style=\"border: 1px solid; text-align:center; background-color: white;\">2</th>\n",
    "            <th style=\"border: 1px solid; text-align:center; background-color: white;\">2*1 - 5 = -3</th>\n",
    "            <th style=\"border: 1px solid; text-align:center; background-color: white;\">3</th>\n",
    "        </tr>\n",
    "        <tr>\n",
    "            <th style=\"border: 1px solid; text-align:center; background-color: white; height:35px;\">Fin du 4ème tour</th>\n",
    "            <th style=\"border: 1px solid; text-align:center; background-color: white;\">3</th>\n",
    "            <th style=\"border: 1px solid; text-align:center; background-color: white;\">2*(-3) - 5 = -11</th>\n",
    "            <th style=\"border: 1px solid; text-align:center; background-color: white;\">4</th>\n",
    "        </tr>\n",
    "        <tr>\n",
    "            <th style=\"border: 1px solid; text-align:center; background-color: white; height:35px;\">Fin du 5ème tour</th>\n",
    "            <th style=\"border: 1px solid; text-align:center; background-color: white;\">4</th>\n",
    "            <th style=\"border: 1px solid; text-align:center; background-color: white;\">2*(-11) - 5 = -27</th>\n",
    "            <th style=\"border: 1px solid; text-align:center; background-color: white;\">5</th>\n",
    "        </tr>      \n",
    "    </tbody>\n",
    "</table>\n",
    "\n",
    "**Q4** : Cet algorithme affiche la valeur de la variable `u` après la boucle `for`, soit la dernière valeur de `u` calculée : il affiche donc la valeur 27.\n",
    "\n",
    "**Q5** : Cet algorithme a permis de calculer les termes d'une suite $(u_n)$ définie par $u_0 = 4$ et pour tout entier naturel $n$ : $u_{n+1} = 2u_n - 5$. La variable `n` correspond au rang de chaque terme, la valeur affichée (c'est-à-dire -27) est la valeur de $u_5$."
   ]
  },
  {
   "cell_type": "markdown",
   "id": "3a844da7",
   "metadata": {},
   "source": [
    "## 🖊️ Exercice 2\n",
    "---\n",
    "\n",
    "On considère l'algorithme ci-dessous dans lequel `v` est un réel et `n`, `N` sont des entiers.\n",
    "\n",
    "```\n",
    "v ⟵ 3 \n",
    "n ⟵ 0 \n",
    "pour i allant de 1 à N faire\n",
    "    v ⟵ 1,5 * v + i\n",
    "    n ⟵ n + 1\n",
    "    Afficher v\n",
    "fin pour\n",
    "```\n",
    "\n",
    "✍️ **Q1** : Entourez les instructions répétées dans la boucle pour. Combien de fois sont-elles répétées ?\n",
    "\n",
    "✍️ **Q2** : On suppose que `N` vaut 3. Complétez autant que nécessaire le tableau des valeurs successives des différentes variables ci-dessous.\n"
   ]
  },
  {
   "cell_type": "markdown",
   "id": "66aeb0d0",
   "metadata": {},
   "source": [
    "<table style=\"border: 1px solid black; background-color: white; font-size:1em;\">\n",
    "    <thead>\n",
    "        <tr>\n",
    "            <th style=\"border: 1px solid; text-align:center; background-color: white;\">Tour de boucle</th>\n",
    "            <th style=\"border: 1px solid; text-align:center; background-color: white; width:50px;\"><code>i</code></th>\n",
    "            <th style=\"border: 1px solid; text-align:center; background-color: white; width:200px;\"><code>v</code></th>\n",
    "            <th style=\"border: 1px solid; text-align:center; background-color: white; width:200px;\"><code>n</code></th>\n",
    "        </tr>\n",
    "    </thead>\n",
    "    <tbody>\n",
    "        <tr>\n",
    "            <td style=\"border: 1px solid; text-align:center; background-color: white; height:35px;\">Avant le début de la boucle</td>\n",
    "            <td style=\"border: 1px solid; text-align:center; background-color: #eee;\"></td>\n",
    "            <td style=\"border: 1px solid; text-align:center; background-color: white;\"></td>\n",
    "            <td style=\"border: 1px solid; text-align:center; background-color: white;\"></td>\n",
    "        </tr>\n",
    "        <tr>\n",
    "            <th style=\"border: 1px solid; text-align:center; background-color: white; font-weight: normal; height:35px;\">Fin du 1er tour</th>\n",
    "            <th style=\"border: 1px solid; text-align:center; background-color: white; font-weight: normal;\"></th>\n",
    "            <th style=\"border: 1px solid; text-align:center; background-color: white;\"></th>\n",
    "            <th style=\"border: 1px solid; text-align:center; background-color: white;\"></th>\n",
    "        </tr>\n",
    "        <tr>\n",
    "            <th style=\"border: 1px solid; text-align:center; background-color: white; height:35px;\"></th>\n",
    "            <th style=\"border: 1px solid; text-align:center; background-color: white;\"></th>\n",
    "            <th style=\"border: 1px solid; text-align:center; background-color: white;\"></th>\n",
    "            <th style=\"border: 1px solid; text-align:center; background-color: white;\"></th>\n",
    "        </tr>\n",
    "        <tr>\n",
    "            <th style=\"border: 1px solid; text-align:center; background-color: white; height:35px;\"></th>\n",
    "            <th style=\"border: 1px solid; text-align:center; background-color: white;\"></th>\n",
    "            <th style=\"border: 1px solid; text-align:center; background-color: white;\"></th>\n",
    "            <th style=\"border: 1px solid; text-align:center; background-color: white;\"></th>\n",
    "        </tr>\n",
    "        <tr>\n",
    "            <th style=\"border: 1px solid; text-align:center; background-color: white; height:35px;\"></th>\n",
    "            <th style=\"border: 1px solid; text-align:center; background-color: white;\"></th>\n",
    "            <th style=\"border: 1px solid; text-align:center; background-color: white;\"></th>\n",
    "            <th style=\"border: 1px solid; text-align:center; background-color: white;\"></th>\n",
    "        </tr>\n",
    "        <tr>\n",
    "            <th style=\"border: 1px solid; text-align:center; background-color: white; height:35px;\"></th>\n",
    "            <th style=\"border: 1px solid; text-align:center; background-color: white;\"></th>\n",
    "            <th style=\"border: 1px solid; text-align:center; background-color: white;\"></th>\n",
    "            <th style=\"border: 1px solid; text-align:center; background-color: white;\"></th>\n",
    "        </tr>      \n",
    "    </tbody>\n",
    "</table>"
   ]
  },
  {
   "cell_type": "markdown",
   "id": "344c4df7",
   "metadata": {},
   "source": [
    "✍️ **Q3** : Qu'affiche cet algorithme ?\n",
    "\n",
    "✍️ **Q4** : L’algorithme permet de calculer les termes successifs d’une suite. Laquelle ?"
   ]
  },
  {
   "cell_type": "markdown",
   "id": "94fc33ab",
   "metadata": {},
   "source": [
    "**CORRECTION**\n",
    "\n",
    "**Q1** : Il s'agit des instructions \n",
    "\n",
    "```\n",
    "v ⟵ 1,5 * v + i\n",
    "n ⟵ n + 1\n",
    "Afficher v\n",
    "```\n",
    "\n",
    "**Q2** : Voici le tableau complété\n",
    "\n",
    "<table style=\"border: 1px solid black; background-color: white; font-size:1em;\">\n",
    "    <thead>\n",
    "        <tr>\n",
    "            <th style=\"border: 1px solid; text-align:center; background-color: white;\">Tour de boucle</th>\n",
    "            <th style=\"border: 1px solid; text-align:center; background-color: white; width:50px;\"><code>i</code></th>\n",
    "            <th style=\"border: 1px solid; text-align:center; background-color: white; width:200px;\"><code>v</code></th>\n",
    "            <th style=\"border: 1px solid; text-align:center; background-color: white; width:200px;\"><code>n</code></th>\n",
    "        </tr>\n",
    "    </thead>\n",
    "    <tbody>\n",
    "        <tr>\n",
    "            <td style=\"border: 1px solid; text-align:center; background-color: white; height:35px;\">Avant le début de la boucle</td>\n",
    "            <td style=\"border: 1px solid; text-align:center; background-color: #eee;\"></td>\n",
    "            <td style=\"border: 1px solid; text-align:center; background-color: white;\">3</td>\n",
    "            <td style=\"border: 1px solid; text-align:center; background-color: white;\">0</td>\n",
    "        </tr>\n",
    "        <tr>\n",
    "            <th style=\"border: 1px solid; text-align:center; background-color: white; font-weight: normal; height:35px;\">Fin du 1er tour</th>\n",
    "            <th style=\"border: 1px solid; text-align:center; background-color: white; font-weight: normal;\">1</th>\n",
    "            <th style=\"border: 1px solid; text-align:center; background-color: white;\">1,5*3 + 1 = 5,5</th>\n",
    "            <th style=\"border: 1px solid; text-align:center; background-color: white;\">1</th>\n",
    "        </tr>\n",
    "        <tr>\n",
    "            <th style=\"border: 1px solid; text-align:center; background-color: white; height:35px;\">Fin du 2ème tour</th>\n",
    "            <th style=\"border: 1px solid; text-align:center; background-color: white;\">2</th>\n",
    "            <th style=\"border: 1px solid; text-align:center; background-color: white;\">1,5*5,5 + 2 = 10,25</th>\n",
    "            <th style=\"border: 1px solid; text-align:center; background-color: white;\">2</th>\n",
    "        </tr>\n",
    "        <tr>\n",
    "            <th style=\"border: 1px solid; text-align:center; background-color: white; height:35px;\">Fin du 3ème tour</th>\n",
    "            <th style=\"border: 1px solid; text-align:center; background-color: white;\">3</th>\n",
    "            <th style=\"border: 1px solid; text-align:center; background-color: white;\">1,5*10,25 + 3 = 18,375</th>\n",
    "            <th style=\"border: 1px solid; text-align:center; background-color: white;\">3</th>\n",
    "        </tr> \n",
    "    </tbody>\n",
    "</table>\n",
    "\n",
    "**Q3** : Il affiche toutes les valeurs de `v` calculées dans la boucle `for`, c'est-à-dire : 5,5 ; 10,25 et 18,375.\n",
    "\n",
    "**Q4** : L'algorithme calcule les termes successifs de la suite $(v_n)$ définie par $v_0=3$ et pour tout entier naturel $n$ : $v_{n+1} = 1,5v_n+n$."
   ]
  },
  {
   "cell_type": "markdown",
   "id": "1cb0fb76",
   "metadata": {},
   "source": [
    "## 🖊️ Exercice 3\n",
    "---\n",
    "\n",
    "On considère la suite $(w_n)$ définie par $w_0=10$ et pour tout entier naturel $n$ : \n",
    "\n",
    "$$w_{n+1}=\\dfrac{1}{2} w_n + 2.$$\n",
    "\n",
    "✍️ Écrivez un algorithme permettant de calculer et d'afficher le terme $w_8$ de cette suite."
   ]
  },
  {
   "cell_type": "markdown",
   "id": "aaa385a1",
   "metadata": {},
   "source": [
    "**CORRECTION**\n",
    "\n",
    "Voici un algorithme possible (il faut 8 passages dans la boucle pour calculer successivement $w_1$, $w_2$, $w_3$, $w_4$, $w_5$, $w_6$, $w_7$ et $w_8$) :\n",
    "\n",
    "```\n",
    "w ⟵ 10 \n",
    "n ⟵ 0 \n",
    "pour i allant de 1 à 8 faire   # ou pour i allant de 0 à 7 \n",
    "    w ⟵ w/2 + 2\n",
    "    n ⟵ n + 1\n",
    "fin pour\n",
    "Afficher w\n",
    "```"
   ]
  },
  {
   "cell_type": "markdown",
   "id": "53035d3a",
   "metadata": {},
   "source": [
    "# III. Programmation en Python\n",
    "\n",
    "En Python, on utilise la fonction `range` pour fixer les modalités d'itération de la boucle. Il y a trois cas de figure :\n"
   ]
  },
  {
   "cell_type": "markdown",
   "id": "8ecfc1bd",
   "metadata": {},
   "source": [
    "<table style=\"border: 1px solid black; background-color: white; font-size:1em;\">\n",
    "    <thead>\n",
    "        <tr>\n",
    "            <th style=\"border: 1px solid; text-align:center; background-color: white;\">Algorithme</th>\n",
    "            <th style=\"border: 1px solid; text-align:center; background-color: white; width: 270px;\">Correspondance en Python</th>\n",
    "            <th style=\"border: 1px solid; text-align:center; background-color: white; width: 250px;\">Signification</th>\n",
    "        </tr>\n",
    "    </thead>\n",
    "    <tbody>\n",
    "        <tr>\n",
    "            <td style=\"border: 1px solid; text-align:left; background-color: white; height:35px;\"><pre><code>pour k allant de 0 à n-1 faire\n",
    "    instructions\n",
    "fin pour</code></pre>\n",
    "            </td>\n",
    "            <td style=\"border: 1px solid; text-align:left; background-color: white; height:35px;\">\n",
    "                <pre><code class=\"cm-s-ipython language-python\"><span class=\"cm-keyword\">for</span> <span class=\"cm-variable\">k</span> <span class=\"cm-keyword\">in</span> <span class=\"cm-builtin\">range</span>(<span class=\"cm-variable\">n</span>):\n",
    "    <span class=\"cm-variable\">instructions</span></code></pre>\n",
    "            </td>\n",
    "            <td style=\"border: 1px solid; text-align:left; background-color: white; word-wrap:break-word;\">Les instructions sont répétées <code>n</code> fois et <code>k</code> évolue de <code>0</code> à <code>n-1</code></td>\n",
    "        </tr>\n",
    "        <tr>\n",
    "            <td style=\"border: 1px solid; text-align:left; background-color: white; height:35px;\"><pre><code>pour k allant de n à m-1 faire\n",
    "    instructions\n",
    "fin pour</code></pre>\n",
    "            </td>\n",
    "            <td style=\"border: 1px solid; text-align:left; background-color: white; height:35px;\">\n",
    "                <pre><code class=\"cm-s-ipython language-python\"><span class=\"cm-keyword\">for</span> <span class=\"cm-variable\">k</span> <span class=\"cm-keyword\">in</span> <span class=\"cm-builtin\">range</span>(<span class=\"cm-variable\">n</span>, <span class=\"cm-variable\">m</span>):\n",
    "    <span class=\"cm-variable\">instructions</span></code></pre>\n",
    "            </td>\n",
    "            <td style=\"border: 1px solid; text-align:left; background-color: white;\">Les instructions sont répétées <code>m-n</code> fois et <code>k</code> évolue de <code>n</code> à <code>m-1</code></td>\n",
    "        </tr>\n",
    "        <tr>\n",
    "            <td style=\"border: 1px solid; text-align:left; background-color: white; height:35px;\"><pre><code>pour k allant de n à m-1 avec un pas p faire\n",
    "    instructions\n",
    "fin pour</code></pre>\n",
    "            </td>\n",
    "            <td style=\"border: 1px solid; text-align:left; background-color: white; height:35px;\">\n",
    "                <pre><code class=\"cm-s-ipython language-python\"><span class=\"cm-keyword\">for</span> <span class=\"cm-variable\">k</span> <span class=\"cm-keyword\">in</span> <span class=\"cm-builtin\">range</span>(<span class=\"cm-variable\">n</span>, <span class=\"cm-variable\">m</span>, <span class=\"cm-variable\">p</span>):\n",
    "    <span class=\"cm-variable\">instructions</span></code></pre>\n",
    "            </td>\n",
    "            <td style=\"border: 1px solid; text-align:left; background-color: white;\">Les instructions sont répétées un certain nombre de fois (dépend de <code>p</code>) et <code>k</code> évolue de <code>n</code> à <code>m-1</code> avec un pas égal à <code>p</code>.</td>\n",
    "        </tr>\n",
    "    </tbody>\n",
    "</table>"
   ]
  },
  {
   "cell_type": "markdown",
   "id": "7d48ed7c",
   "metadata": {},
   "source": [
    "**Remarques** :\n",
    "\n",
    "- Ne pas oublier les deux points à la fin de la ligne avec `for`.\n",
    "- Les instructions indentées sont celles exécutées à chaque itération (= passage dans la boucle).\n",
    "- En Python, on n’indique pas la fin d’une boucle pour car c’est la fin des indentations qui permet de le faire !\n"
   ]
  },
  {
   "cell_type": "markdown",
   "id": "eaf4721f",
   "metadata": {},
   "source": [
    "## Importance des indentations\n",
    "\n",
    "Les indentations sont très importantes ! Par exemple, dans le code ci-dessous la ligne `print(nb_utilisateurs)` (ligne 4) est indentée donc fait partie du bloc d'instructions de la boucle : à ce titre, cette ligne est exécutée à **chaque** passage dans la boucle `for`. S'affichent donc dans la console *toutes* les valeurs de la variable `nb_utilisateurs` calculées successivement dans la boucle :"
   ]
  },
  {
   "cell_type": "code",
   "execution_count": null,
   "id": "ad749a54",
   "metadata": {},
   "outputs": [],
   "source": [
    "nb_utilisateurs = 500000\n",
    "for i in range(10):\n",
    "    nb_utilisateurs = nb_utilisateurs * 1.05\n",
    "    print(nb_utilisateurs)  # instruction dans la boucle"
   ]
  },
  {
   "cell_type": "markdown",
   "id": "3805edad",
   "metadata": {},
   "source": [
    "En revanche, dans le code ci-dessous, elle n'est pas indentée donc ne fait pas partie du bloc d'instructions de la boucle : elle n'est donc exécutée qu'une seule fois, **après** les différents passages dans la boucle `for`. Ne s'affiche donc que la *dernière valeur* de la variable `nb_utilisateurs` :"
   ]
  },
  {
   "cell_type": "code",
   "execution_count": null,
   "id": "be232a0b",
   "metadata": {},
   "outputs": [],
   "source": [
    "nb_utilisateurs = 500000\n",
    "for i in range(10):\n",
    "    nb_utilisateurs = nb_utilisateurs * 1.05\n",
    "print(nb_utilisateurs)  # instruction après la boucle"
   ]
  },
  {
   "cell_type": "markdown",
   "id": "aab44fbc",
   "metadata": {},
   "source": [
    "## 🖊️ Exercice 4\n",
    "---\n",
    "\n",
    "✍️ **Q1** Pour chacun des trois programmes suivants, indiquez :\n",
    "\n",
    "- les valeurs successives prises par la variable `k` ;\n",
    "- le nombre de passages dans la boucle `for`.\n",
    "\n",
    "**Programme 1**\n",
    "\n",
    "```python\n",
    "for k in range(5):\n",
    "    print(k)\n",
    "```\n",
    "\n",
    "**Programme 2**\n",
    "\n",
    "```python\n",
    "for k in range(2, 8):\n",
    "    print(k)\n",
    "```\n",
    "\n",
    "**Programme 3**\n",
    "\n",
    "```python\n",
    "for k in range(1, 20, 3):\n",
    "    print(k)\n",
    "```\n",
    "\n"
   ]
  },
  {
   "cell_type": "markdown",
   "id": "510d0442",
   "metadata": {},
   "source": [
    "**Q1** : \n",
    "\n",
    "- Programme 1 : `k` varie de 0 à 4\n",
    "- Programme 2 : `k` varie de 2 à 7\n",
    "- Programme 3 : `k` varie de 1 à 19 par pas de 3 donc vaut successivement : 1, 4, 7, 10, 13, 16, 19"
   ]
  },
  {
   "cell_type": "markdown",
   "id": "a56508d5",
   "metadata": {},
   "source": [
    "💻 **Q2** : Vérifiez en recopiant et en exécutant successivement les trois programmes."
   ]
  },
  {
   "cell_type": "code",
   "execution_count": 1,
   "id": "21395e48",
   "metadata": {},
   "outputs": [
    {
     "name": "stdout",
     "output_type": "stream",
     "text": [
      "0\n",
      "1\n",
      "2\n",
      "3\n",
      "4\n"
     ]
    }
   ],
   "source": [
    "# recopiez et exécutez le programme 1 :\n",
    "\n",
    "# CORRECTION Q2\n",
    "\n",
    "for k in range(5):\n",
    "    print(k)"
   ]
  },
  {
   "cell_type": "code",
   "execution_count": 2,
   "id": "d525123d",
   "metadata": {},
   "outputs": [
    {
     "name": "stdout",
     "output_type": "stream",
     "text": [
      "2\n",
      "3\n",
      "4\n",
      "5\n",
      "6\n",
      "7\n"
     ]
    }
   ],
   "source": [
    "# recopiez et exécutez le programme 2 :\n",
    "\n",
    "# CORRECTION Q2\n",
    "\n",
    "for k in range(2, 8):\n",
    "    print(k)"
   ]
  },
  {
   "cell_type": "code",
   "execution_count": 3,
   "id": "3903967f",
   "metadata": {},
   "outputs": [
    {
     "name": "stdout",
     "output_type": "stream",
     "text": [
      "1\n",
      "4\n",
      "7\n",
      "10\n",
      "13\n",
      "16\n",
      "19\n"
     ]
    }
   ],
   "source": [
    "# recopiez et exécutez le programme 3 :\n",
    "\n",
    "# CORRECTION Q3\n",
    "\n",
    "for k in range(1, 20, 3):\n",
    "    print(k)"
   ]
  },
  {
   "cell_type": "markdown",
   "id": "0f341d0f",
   "metadata": {},
   "source": [
    "## 🖊️ Exercice 5\n",
    "---\n",
    "\n",
    "La fonction Python ci-dessous permet de programmer l’algorithme de l’exercice 1. Cette fonction possède un paramètre `N` permettant de déterminer le nombre de tour de la boucle `for`.\n",
    "\n",
    "```python\n",
    "def terme(N):\n",
    "    u = 4\n",
    "    n = 0\n",
    "    for k in range(0, N+1):  # on peut aussi écrire range(N+1) directement\n",
    "        u = 2*u - 5\n",
    "        n = n + 1\n",
    "    print(u)\n",
    "```"
   ]
  },
  {
   "cell_type": "markdown",
   "id": "e1576da9",
   "metadata": {},
   "source": [
    "💻 **Q1** : Écrivez cette fonction dans la cellule ci-dessous (sans faire un copier-coller, c'est pour apprendre !)."
   ]
  },
  {
   "cell_type": "code",
   "execution_count": null,
   "id": "1d653156",
   "metadata": {},
   "outputs": [],
   "source": [
    "# à vous de jouer !\n",
    "\n",
    "# Q1 : CORRECTION\n",
    "\n",
    "def terme(N):\n",
    "    u = 4\n",
    "    n = 0\n",
    "    for k in range(0, N+1):  # on peut aussi écrire range(N+1) directement\n",
    "        u = 2*u - 5\n",
    "        n = n + 1\n",
    "    print(u)"
   ]
  },
  {
   "cell_type": "markdown",
   "id": "65d99e9e",
   "metadata": {},
   "source": [
    "💻 **Q2** : Écrivez l'instruction `terme(4)` et exécutez-la pour lancer l'appel. Vérifiez que la valeur affichée correspond au résultat trouvé à la question 4 de l'exercice 1."
   ]
  },
  {
   "cell_type": "code",
   "execution_count": null,
   "id": "c5ee5416",
   "metadata": {},
   "outputs": [],
   "source": [
    "# à vous de jouer !\n",
    "\n",
    "# Q2 : CORRECTION\n",
    "\n",
    "terme(4)"
   ]
  },
  {
   "cell_type": "markdown",
   "id": "b3b0ec52",
   "metadata": {},
   "source": [
    "✍️💻 **Q3** : Que faut-il modifier dans la fonction `terme` pour que la valeur de `u` soit affichée à chaque tour de boucle ? Faites-le et testez l’appel précédent pour vérifier."
   ]
  },
  {
   "cell_type": "code",
   "execution_count": null,
   "id": "44b5bca8",
   "metadata": {},
   "outputs": [],
   "source": [
    "# modifiez ce qu'il faut :\n",
    "\n",
    "# Q3 : CORRECTION\n",
    "\n",
    "def terme(N):\n",
    "    u = 4\n",
    "    n = 0\n",
    "    for k in range(0, N+1):\n",
    "        u = 2*u - 5\n",
    "        n = n + 1\n",
    "        print(u)  # on met l'instruction dans la boucle"
   ]
  },
  {
   "cell_type": "code",
   "execution_count": null,
   "id": "5f2ff23d",
   "metadata": {},
   "outputs": [],
   "source": [
    "# puis faites l'appel pour vérifier la modification :\n",
    "\n",
    "# Q3 : CORRECTION\n",
    "\n",
    "terme(4)"
   ]
  },
  {
   "cell_type": "markdown",
   "id": "5a58ec06",
   "metadata": {},
   "source": [
    "💻 **Q4** : *On reprend le code du début d'exercice*. Modifiez ensuite la dernière ligne de la fonction pour **renvoyer** la valeur de `u` au lieu de l’afficher."
   ]
  },
  {
   "cell_type": "code",
   "execution_count": null,
   "id": "bead22a6",
   "metadata": {},
   "outputs": [],
   "source": [
    "# à vous de jouer !\n",
    "\n",
    "def terme(N):\n",
    "    u = 4\n",
    "    n = 0\n",
    "    for k in range(0, N+1):  # on peut aussi écrire range(N+1) directement\n",
    "        u = 2*u - 5\n",
    "        n = n + 1\n",
    "    return u"
   ]
  },
  {
   "cell_type": "code",
   "execution_count": null,
   "id": "54b64659",
   "metadata": {},
   "outputs": [],
   "source": [
    "terme(4)"
   ]
  },
  {
   "cell_type": "markdown",
   "id": "f13c817d",
   "metadata": {},
   "source": [
    "> <span style=\"font-size:1.5em\">⚙️</span> Vous pouvez visualiser l'exécuation pas à pas avec *pythontutor* en suivant [ce lien](https://pythontutor.com/visualize.html#code=def%20terme%28N%29%3A%0A%20%20%20%20u%20%3D%204%0A%20%20%20%20n%20%3D%200%0A%20%20%20%20for%20k%20in%20range%28N%2B1%29%3A%0A%20%20%20%20%20%20%20%20u%20%3D%202*u%20-%205%0A%20%20%20%20%20%20%20%20n%20%3D%20n%20%2B%201%0A%20%20%20%20return%20u%0A%0A%23%20on%20fait%20l'appel%20suivant%20pour%20conna%C3%AEtre%20le%20terme%20de%20rang%204%0Aterme%284%29&cumulative=false&curInstr=0&heapPrimitives=nevernest&mode=display&origin=opt-frontend.js&py=3&rawInputLstJSON=%5B%5D&textReferences=false)."
   ]
  },
  {
   "cell_type": "markdown",
   "id": "198b5fef",
   "metadata": {},
   "source": [
    "## 🖊️ Exercice 6\n",
    "---\n",
    "\n",
    "💻 **Q1** : Écrivez une fonction Python qui prend en paramètre un entier `N` et qui **renvoie** le terme de rang `N` de la suite $(w_n)$ définie par $w_0=10$ et pour tout entier naturel $n$ : $$w_{n+1}=\\dfrac 1 2 w_n+2.$$\n",
    "\n",
    "> <span style=\"font-size:1.5em\">🆘</span> Il suffit d'adapter convenablement le code de l'exercice précédent\n"
   ]
  },
  {
   "cell_type": "code",
   "execution_count": null,
   "id": "0cd8023f",
   "metadata": {},
   "outputs": [],
   "source": [
    "# à vous de jouer !\n",
    "\n",
    "# Q1 : CORRECTION\n",
    "\n",
    "def terme(N):\n",
    "    w = 10\n",
    "    n = 0\n",
    "    for k in range(0, N+1):  # on peut aussi écrire range(N+1) directement\n",
    "        w = w/2 + 2\n",
    "        n = n + 1\n",
    "    return w"
   ]
  },
  {
   "cell_type": "markdown",
   "id": "24b826f1",
   "metadata": {},
   "source": [
    "✍️💻 **Q2** : Quel appel faut-il faire pour connaître la valeur $w_8$ ? Faites-le puis vérifiez avec votre calculatrice que la valeur renvoyée est la bonne."
   ]
  },
  {
   "cell_type": "code",
   "execution_count": null,
   "id": "c86c213b",
   "metadata": {},
   "outputs": [],
   "source": [
    "# à vous de jouer !\n",
    "\n",
    "# Q2 : CORRECTION\n",
    "\n",
    "terme(8)"
   ]
  },
  {
   "cell_type": "markdown",
   "id": "e1f5c2c1",
   "metadata": {},
   "source": [
    "💻 **Q3** : Ajoutez une ligne à votre fonction pour afficher tous les termes $w_1$, $w_2$, ..., $w_N$. Appelez ensuite la fonction pour afficher les 10 premiers termes de la suite, puis les 50 premiers termes."
   ]
  },
  {
   "cell_type": "code",
   "execution_count": null,
   "id": "848f3152",
   "metadata": {},
   "outputs": [],
   "source": [
    "# à vous de jouer !\n",
    "\n",
    "# Q3 : CORRECTION\n",
    "\n",
    "def terme(N):\n",
    "    w = 10\n",
    "    n = 0\n",
    "    for k in range(0, N+1):  # on peut aussi écrire range(N+1) directement\n",
    "        w = w/2 + 2\n",
    "        n = n + 1\n",
    "        print(w)\n",
    "    return w"
   ]
  },
  {
   "cell_type": "code",
   "execution_count": null,
   "id": "e639f68e",
   "metadata": {},
   "outputs": [],
   "source": [
    "# appelez ensuite la fonction :\n",
    "\n",
    "# Q3 : CORRECTION (suite)\n",
    "\n",
    "terme(10)"
   ]
  },
  {
   "cell_type": "code",
   "execution_count": null,
   "id": "2ebea612",
   "metadata": {
    "scrolled": true
   },
   "outputs": [],
   "source": [
    "# Q3 : CORRECTION (suite)\n",
    "\n",
    "terme(50)"
   ]
  },
  {
   "cell_type": "markdown",
   "id": "5a25a829",
   "metadata": {},
   "source": [
    "✍️ **Q4** : En déduire la limite de la suite $(w_n)$."
   ]
  },
  {
   "cell_type": "markdown",
   "id": "529ef368",
   "metadata": {},
   "source": [
    "**CORRECTION Q4** : Les termes de la suite ont l'air de converger vers 4. On en déduit que la limite de la suite est 4. "
   ]
  },
  {
   "cell_type": "markdown",
   "id": "9ee42a3d",
   "metadata": {},
   "source": [
    "## 🖊️ Exercice 7\n",
    "---\n",
    "\n",
    "Une population de bactéries augmente de 40% toutes les heures. Il y a 200 000 bactéries au départ.\n",
    "\n",
    "✍️ **Q1** : Proposez un **algorithme** qui permet de calculer et d’afficher le nombre de bactéries au bout de `N` heures en arrondissant à l’unité."
   ]
  },
  {
   "cell_type": "markdown",
   "id": "4558cc7b",
   "metadata": {},
   "source": [
    "**CORRECTION**\n",
    "\n",
    "**Q1** : Voici un algorithme possible dans lequel on note `b` le nombre de bactéries.\n",
    "\n",
    "```\n",
    "b ⟵ 200000 \n",
    "n ⟵ 0 \n",
    "pour k allant de 0 à N faire\n",
    "    b ⟵ 1,4 * b \n",
    "    n ⟵ n + 1 \n",
    "fin pour\n",
    "Afficher b\n",
    "```"
   ]
  },
  {
   "cell_type": "markdown",
   "id": "f13a1e77",
   "metadata": {},
   "source": [
    "💻 **Q2** : Programmez ensuite cet algorithme en une **fonction** Python qui prend en paramètre la valeur `N`. "
   ]
  },
  {
   "cell_type": "code",
   "execution_count": null,
   "id": "08f0c013",
   "metadata": {},
   "outputs": [],
   "source": [
    "# à vous de jouer !\n",
    "\n",
    "# Q2 : CORRECTION\n",
    "\n",
    "def terme(N):\n",
    "    b = 200000\n",
    "    n = 0\n",
    "    for k in range(0, N+1):  # on peut aussi écrire range(N+1) directement\n",
    "        b = 1.4 * b\n",
    "        n = n + 1\n",
    "    return b"
   ]
  },
  {
   "cell_type": "markdown",
   "id": "e062fb6f",
   "metadata": {},
   "source": [
    "💻 **Q3** : Appelez la fonction pour savoir le nombre de bactéries au bout de 8 heures."
   ]
  },
  {
   "cell_type": "code",
   "execution_count": null,
   "id": "544f16e4",
   "metadata": {},
   "outputs": [],
   "source": [
    "# à vous de jouer !\n",
    "\n",
    "# Q3 : CORRECTION\n",
    "\n",
    "terme(8)"
   ]
  },
  {
   "cell_type": "markdown",
   "id": "6d2b80b0",
   "metadata": {},
   "source": [
    "## 🖊️ Exercice 8\n",
    "---\n",
    "\n",
    "On considère la fonction Python suivante : \n",
    "\n",
    "```python\n",
    "def termes(N):\n",
    "    for k in range(0, N+1):\n",
    "        u_k = (2*k - 1) / (k + 2)\n",
    "        print(u_k)\n",
    "```\n",
    "\n",
    "✍️ **Q1** : On fait l'appel `termes(3)`. Complétez autant que nécessaire le tableau des valeurs successives des différentes variables au cours de cet appel."
   ]
  },
  {
   "cell_type": "markdown",
   "id": "7e848052",
   "metadata": {},
   "source": [
    "<table style=\"border: 1px solid black; background-color: white; font-size:1em;\">\n",
    "    <thead>\n",
    "        <tr>\n",
    "            <th style=\"border: 1px solid; text-align:center; background-color: white;\">Tour de boucle</th>\n",
    "            <th style=\"border: 1px solid; text-align:center; background-color: white; width:50px;\"><code>k</code></th>\n",
    "            <th style=\"border: 1px solid; text-align:center; background-color: white; width:300px;\"><code>u_k</code></th>\n",
    "        </tr>\n",
    "    </thead>\n",
    "    <tbody>\n",
    "        <tr>\n",
    "            <th style=\"border: 1px solid; text-align:center; background-color: white; font-weight: normal; height:35px;\"></th>\n",
    "            <th style=\"border: 1px solid; text-align:center; background-color: white; font-weight: normal;\"></th>\n",
    "            <th style=\"border: 1px solid; text-align:center; background-color: white;\"></th>\n",
    "        </tr>\n",
    "        <tr>\n",
    "            <th style=\"border: 1px solid; text-align:center; background-color: white; height:35px;\"></th>\n",
    "            <th style=\"border: 1px solid; text-align:center; background-color: white;\"></th>\n",
    "            <th style=\"border: 1px solid; text-align:center; background-color: white;\"></th>\n",
    "        </tr>\n",
    "        <tr>\n",
    "            <th style=\"border: 1px solid; text-align:center; background-color: white; height:35px;\"></th>\n",
    "            <th style=\"border: 1px solid; text-align:center; background-color: white;\"></th>\n",
    "            <th style=\"border: 1px solid; text-align:center; background-color: white;\"></th>\n",
    "        </tr>\n",
    "        <tr>\n",
    "            <th style=\"border: 1px solid; text-align:center; background-color: white; height:35px;\"></th>\n",
    "            <th style=\"border: 1px solid; text-align:center; background-color: white;\"></th>\n",
    "            <th style=\"border: 1px solid; text-align:center; background-color: white;\"></th>\n",
    "        </tr>\n",
    "        <tr>\n",
    "            <th style=\"border: 1px solid; text-align:center; background-color: white; height:35px;\"></th>\n",
    "            <th style=\"border: 1px solid; text-align:center; background-color: white;\"></th>\n",
    "            <th style=\"border: 1px solid; text-align:center; background-color: white;\"></th>\n",
    "        </tr>\n",
    "        <tr>\n",
    "            <th style=\"border: 1px solid; text-align:center; background-color: white; height:35px;\"></th>\n",
    "            <th style=\"border: 1px solid; text-align:center; background-color: white;\"></th>\n",
    "            <th style=\"border: 1px solid; text-align:center; background-color: white;\"></th>\n",
    "        </tr>\n",
    "    </tbody>\n",
    "</table>"
   ]
  },
  {
   "cell_type": "markdown",
   "id": "135abc7a",
   "metadata": {},
   "source": [
    "**CORRECTION**\n",
    "\n",
    "**Q1** : Voici le tableau complété :\n",
    "\n",
    "<table style=\"border: 1px solid black; background-color: white; font-size:1em;\">\n",
    "    <thead>\n",
    "        <tr>\n",
    "            <th style=\"border: 1px solid; text-align:center; background-color: white;\">Tour de boucle</th>\n",
    "            <th style=\"border: 1px solid; text-align:center; background-color: white; width:50px;\"><code>k</code></th>\n",
    "            <th style=\"border: 1px solid; text-align:center; background-color: white; width:300px;\"><code>u_k</code></th>\n",
    "        </tr>\n",
    "    </thead>\n",
    "    <tbody>\n",
    "        <tr>\n",
    "            <th style=\"border: 1px solid; text-align:center; background-color: white; font-weight: normal; height:35px;\">1</th>\n",
    "            <th style=\"border: 1px solid; text-align:center; background-color: white; font-weight: normal;\">0</th>\n",
    "            <th style=\"border: 1px solid; text-align:center; background-color: white; font-weight: normal;\">(2*0-1) / (0  +2) = -1/2 = -0,5</th>\n",
    "        </tr>\n",
    "        <tr>\n",
    "            <th style=\"border: 1px solid; text-align:center; background-color: white; height:35px; font-weight: normal;\">2</th>\n",
    "            <th style=\"border: 1px solid; text-align:center; background-color: white;font-weight: normal;\">1</th>\n",
    "            <th style=\"border: 1px solid; text-align:center; background-color: white;font-weight: normal;\">(2*1-1) / (1 + 2) = 1/3 = 0,333..</th>\n",
    "        </tr>\n",
    "        <tr>\n",
    "            <th style=\"border: 1px solid; text-align:center; background-color: white; height:35px;font-weight: normal;\">3</th>\n",
    "            <th style=\"border: 1px solid; text-align:center; background-color: white;font-weight: normal;\">2</th>\n",
    "            <th style=\"border: 1px solid; text-align:center; background-color: white;font-weight: normal;\">(2*2-1) / (2 + 2) = 3/4 = 0,75</th>\n",
    "        </tr>\n",
    "        <tr>\n",
    "            <th style=\"border: 1px solid; text-align:center; background-color: white; height:35px;font-weight: normal;font-weight: normal;\">4</th>\n",
    "            <th style=\"border: 1px solid; text-align:center; background-color: white;font-weight: normal;\">3</th>\n",
    "            <th style=\"border: 1px solid; text-align:center; background-color: white;font-weight: normal;\">(2*3-1) / (3 + 2) = 5/5 = 1</th>\n",
    "        </tr>\n",
    "    </tbody>\n",
    "</table>"
   ]
  },
  {
   "cell_type": "markdown",
   "id": "88b846a8",
   "metadata": {},
   "source": [
    "💻 **Q2** : Recopiez la fonction `termes` dans la cellule ci-dessous puis exécutez l'appel `termes(3)` pour vérifier vos réponses à la question précédente."
   ]
  },
  {
   "cell_type": "code",
   "execution_count": null,
   "id": "c281579c",
   "metadata": {},
   "outputs": [],
   "source": [
    "# à vous de jouer !\n",
    "\n",
    "# CORRECTION Q2\n",
    "\n",
    "def termes(N):\n",
    "    for k in range(0, N+1):\n",
    "        u_k = (2*k - 1) / (k + 2)\n",
    "        print(u_k)\n",
    "\n",
    "termes(3)"
   ]
  },
  {
   "cell_type": "markdown",
   "id": "36c0c80b",
   "metadata": {},
   "source": [
    "✍️ **Q3** : La fonction `termes` permet de calculer et afficher tous les termes d'une suite $(u_n)$. Laquelle ? (vous donnerez sa formule explicite).\n"
   ]
  },
  {
   "cell_type": "markdown",
   "id": "5716714c",
   "metadata": {},
   "source": [
    "**Q3** : Il s'agit de la suite définie pour tout entier naturel $n$ par $u_n = \\dfrac{2n-1}{n+2}$."
   ]
  },
  {
   "cell_type": "markdown",
   "id": "bf695537",
   "metadata": {},
   "source": [
    "💻✍️ **Q4** : Faites un appel pour afficher les 100 permiers termes. Puis les 1000 permiers termes. En déduire la limite de la suite $(u_n)$."
   ]
  },
  {
   "cell_type": "code",
   "execution_count": null,
   "id": "20366e57",
   "metadata": {},
   "outputs": [],
   "source": [
    "# à vous de jouer !\n",
    "\n",
    "# CORRECTION Q4\n",
    "\n",
    "termes(1000)"
   ]
  },
  {
   "cell_type": "markdown",
   "id": "0595a7fa",
   "metadata": {},
   "source": [
    "Cela donne l'affichage suivant :\n",
    "\n",
    "```\n",
    "-0.5\n",
    "0.3333333333333333\n",
    "0.75\n",
    "1.0\n",
    "1.1666666666666667\n",
    "1.2857142857142858\n",
    "1.375\n",
    "1.4444444444444444\n",
    "1.5\n",
    "1.5454545454545454\n",
    "1.5833333333333333\n",
    "\n",
    "....  # on a tronqué une partie des termes affichés\n",
    "\n",
    "1.9949799196787148\n",
    "1.9949849548645937\n",
    "1.9949899799599198\n",
    "1.994994994994995\n",
    "1.995\n",
    "1.995004995004995\n",
    "1.9950099800399201  <-- dernier terme affiché\n",
    "```"
   ]
  },
  {
   "cell_type": "markdown",
   "id": "5f4d7a6d",
   "metadata": {},
   "source": [
    "## 🖊️ Exercice 9 - Pour aller plus loin\n",
    "---\n",
    "\n",
    "Dans cet exercice, on aimerait utiliser Python pour construire le nuage de points représentant une suite. Pour cela, on fera appel à la bibliothèque `matplotlib` : il s'agit d'une bibliothèque destinée à représenter graphiquement des données et qui s'importe avec l'instruction `import matplotlib.pyplot as plt`."
   ]
  },
  {
   "cell_type": "markdown",
   "id": "699aa4f3",
   "metadata": {},
   "source": [
    "### Afficher un nuage de points\n",
    "\n",
    "Voici un programme Python permettant de construire et afficher 5 points dans un repère. Analysez-le bien en lisant les commentaires expliquant chaque ligne puis exécutez-le en essayant de comprendre."
   ]
  },
  {
   "cell_type": "code",
   "execution_count": null,
   "id": "09350979",
   "metadata": {},
   "outputs": [],
   "source": [
    "import matplotlib.pyplot as plt  # pour importer la bibliothèque matplotlib\n",
    "\n",
    "X = [0, 2, 5, 8, 9]   # liste avec les abscisses\n",
    "Y = [5, 7, 12, 3, 8]  # liste avec les ordonnées\n",
    "plt.plot(X, Y, 'b.')  # construction du graphique (en anglais \"plot\" signifie \"tracer\")\n",
    "plt.show()  # pour afficher le graphique\n",
    "\n",
    "plt.close()  # pour fermer la fenêtre en cours (les constructions ultérieures se feront dans une nouvelle fenêtre)"
   ]
  },
  {
   "cell_type": "markdown",
   "id": "ff7860f6",
   "metadata": {},
   "source": [
    "**Remarques** : \n",
    "- Une **liste** se crée avec des crochets (`[` et `]`) entre lesquels on sépare les différents éléments par des virgules (voir lignes 3 et 4 où a créé deux listes `X` et `Y`).\n",
    "- On a donné à la fonction `plot` (ligne 5) les listes `X` et `Y` des abscisses et ordonnées des points. Le `'b.'` permet de définir la couleur des points (`b` pour *blue*) et le type de points (`.` pour des petits points)."
   ]
  },
  {
   "cell_type": "markdown",
   "id": "f3701d37",
   "metadata": {},
   "source": [
    "💻 **Q1** : Affichez dans un repère les points de coordonnées $(0,5)$, $(1,4)$, $(2,-3)$ et $(3,8)$."
   ]
  },
  {
   "cell_type": "code",
   "execution_count": null,
   "id": "747a1543",
   "metadata": {},
   "outputs": [],
   "source": [
    "# à vous de jouer !\n",
    "\n",
    "# CORRECTION Q1\n",
    "\n",
    "X = [0, 1, 2, 3]   # liste avec les abscisses\n",
    "Y = [5, 4, -3, 8]  # liste avec les ordonnées\n",
    "plt.plot(X, Y, 'b.')  # construction du graphique (en anglais \"plot\" signifie \"tracer\")\n",
    "plt.show()  # pour afficher le graphique\n",
    "plt.close()  # pour fermer la fenêtre en cours (les constructions ultérieures se feront dans une nouvelle fenêtre)"
   ]
  },
  {
   "cell_type": "markdown",
   "id": "e63e795b",
   "metadata": {},
   "source": [
    "### Ajouter des éléments à une liste\n",
    "\n",
    "Vous aurez besoin par la suite d'ajouter des éléments à une liste. Cela peut se faire très facilement avec la méthode `append`. Analysez bien le code suivant, dans lequel on crée une liste vide appelée `L` à laquelle on ajoute successivement trois valeurs."
   ]
  },
  {
   "cell_type": "code",
   "execution_count": null,
   "id": "f2de09cd",
   "metadata": {},
   "outputs": [],
   "source": [
    "L = []  # création d'une liste vide (crochets vides)\n",
    "L.append(5)  # on ajoute le nombre 5 à la liste\n",
    "L.append(2)  # puis le nombre 2\n",
    "L.append(3)  # puis le nombre 3\n",
    "print(L)  # pour afficher la liste L à la fin"
   ]
  },
  {
   "cell_type": "markdown",
   "id": "5fefc823",
   "metadata": {},
   "source": [
    "💻 **Q2** : Écrivez les instructions permettant de créer deux listes vides appelées `abscisses` et `ordonnees` puis de leur ajouter respectivement les nombres 0, 1, 2 et 10, 7, 3. *Vous afficherez les deux listes à la fin pour vérifier*."
   ]
  },
  {
   "cell_type": "code",
   "execution_count": null,
   "id": "43b47257",
   "metadata": {},
   "outputs": [],
   "source": [
    "# à vous de jouer !\n",
    "\n",
    "# CORRECTION Q2\n",
    "\n",
    "abscisses = []\n",
    "ordonnees = []\n",
    "abscisses.append(0)\n",
    "abscisses.append(1)\n",
    "abscisses.append(2)\n",
    "ordonnees.append(10)\n",
    "ordonnees.append(7)\n",
    "ordonnees.append(3)\n",
    "print(abscisses, ordonnees)"
   ]
  },
  {
   "cell_type": "markdown",
   "id": "f9efd32f",
   "metadata": {},
   "source": [
    "### Application au nuage de points d'une suite\n",
    "\n",
    "Le nuage de points représentant une suite $(u_n)$ est constitué des points de coordonnées $(n, u_n)$, où $n \\in \\mathbb{N}$, c'est-à-dire les points $(0, u_0)$, $(1, u_1)$, $(2, u_2)$, ...\n",
    "\n",
    "Pour construire et afficher ce nuage de points il faut être capable de construire la liste des abscisses (= les rangs : 0, 1, 2, ...) et la liste des ordonnées (= les termes : $u_0$, $u_1$, $u_2$, ...) de tous ces points.\n",
    "\n",
    "**Comme nous calculons les termes d'une suite au fur et à mesure avec une boucle `for`, l'idée est d'ajouter la valeur de chaque rang et chaque terme à nos listes au fur et à mesure à chaque tour de boucle.** \n",
    "\n",
    "Autrement dit, il suffit :\n",
    "\n",
    "- de créer deux listes `abscisses` et `ordonnees` vides au départ\n",
    "- de leur ajouter respectivement le premier rang et le premier terme\n",
    "- de leur ajouter respectivement, à chaque tour de boucle, le nouveau rang et le nouveau terme calculé\n",
    "- (après la boucle `for`) de construire le nuage et l'afficher\n",
    "\n",
    "💻 **Q3** : Complétez les pointillés de la fonction `nuage` suivante qui doit afficher le nuage de points correspondant aux `N` premiers termes de la suite $(w_n)$ définie par $w_0=10$ et pour tout entier naturel $n$ : $w_{n+1}=\\dfrac 1 2 w_n+2$ (c'est la suite de l'exercice 6)."
   ]
  },
  {
   "cell_type": "code",
   "execution_count": null,
   "id": "74fa1523",
   "metadata": {},
   "outputs": [],
   "source": [
    "# à compléter :\n",
    "\n",
    "def nuage(N):\n",
    "    abscisses = ...\n",
    "    ordonnees = ...\n",
    "    w = 10\n",
    "    n = 0\n",
    "    abscisses.append(...)\n",
    "    ordonnees.append(...)\n",
    "    for k in range(0, N+1):  # on peut aussi écrire range(N+1) directement\n",
    "        w = w/2 + 2\n",
    "        n = n + 1\n",
    "        ordonnees.append(...)\n",
    "        abscisses.append(...)\n",
    "    plt.plot(..., ..., 'b.')\n",
    "    plt.show()\n",
    "    plt.close()"
   ]
  },
  {
   "cell_type": "code",
   "execution_count": null,
   "id": "f4c1aeb8",
   "metadata": {},
   "outputs": [],
   "source": [
    "# CORRECTION Q3\n",
    "\n",
    "def nuage(N):\n",
    "    abscisses = []\n",
    "    ordonnees = []\n",
    "    w = 10\n",
    "    n = 0\n",
    "    abscisses.append(n)\n",
    "    ordonnees.append(w)\n",
    "    for k in range(0, N+1):  # on peut aussi écrire range(N+1) directement\n",
    "        w = w/2 + 2\n",
    "        n = n + 1\n",
    "        ordonnees.append(w)\n",
    "        abscisses.append(n)\n",
    "    plt.plot(abscisses, ordonnees, 'b.')\n",
    "    plt.show()\n",
    "    plt.close()\n"
   ]
  },
  {
   "cell_type": "markdown",
   "id": "53c48cf7",
   "metadata": {},
   "source": [
    "💻✍️ **Q4** : Appelez la fonction `nuage` pour afficher le nuage de points des 10 premiers termes. Puis les 100 premiers points. Quelle semble être la limite de la suite $(w_n)$ ? Comparez avec votre réponse à l'exercice 6."
   ]
  },
  {
   "cell_type": "code",
   "execution_count": null,
   "id": "e826b94e",
   "metadata": {},
   "outputs": [],
   "source": [
    "# à vous de jouer !\n",
    "\n",
    "# CORRECTION Q4\n",
    "nuage(10)"
   ]
  },
  {
   "cell_type": "code",
   "execution_count": null,
   "id": "c953337d",
   "metadata": {},
   "outputs": [],
   "source": [
    "# CORRECTION Q4\n",
    "nuage(100)"
   ]
  },
  {
   "cell_type": "markdown",
   "id": "fc4df22f",
   "metadata": {},
   "source": [
    "**Q4** : Les termes de la suite semblent se rapprocher de 4 : la suite $(w_n)$ converge a priori vers 4, comme nous l'avions trouvé dans l'exercice 6."
   ]
  },
  {
   "cell_type": "markdown",
   "id": "8a85c152",
   "metadata": {},
   "source": [
    "---\n",
    "\n",
    "Germain BECKER, Lycée Mounier, ANGERS \n",
    "\n",
    "![Licence Creative Commons](https://i.creativecommons.org/l/by-nc-sa/4.0/88x31.png)"
   ]
  }
 ],
 "metadata": {
  "celltoolbar": "Aucun(e)",
  "kernelspec": {
   "display_name": "Python 3",
   "language": "python",
   "name": "python3"
  },
  "language_info": {
   "codemirror_mode": {
    "name": "ipython",
    "version": 3
   },
   "file_extension": ".py",
   "mimetype": "text/x-python",
   "name": "python",
   "nbconvert_exporter": "python",
   "pygments_lexer": "ipython3",
   "version": "3.7.10"
  }
 },
 "nbformat": 4,
 "nbformat_minor": 5
}
