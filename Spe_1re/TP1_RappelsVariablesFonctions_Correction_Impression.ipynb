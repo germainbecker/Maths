{
 "cells": [
  {
   "cell_type": "markdown",
   "id": "0fecef2f",
   "metadata": {
    "deletable": false,
    "editable": false
   },
   "source": [
    "<h1 style=\"font-size: 30px; text-align: center\">CORRECTION - TP 1 : Rappels sur les variables et les fonctions</h1>\n",
    "\n",
    "---"
   ]
  },
  {
   "cell_type": "markdown",
   "id": "94efa247",
   "metadata": {},
   "source": [
    "### 🖊️ Exercice 1\n"
   ]
  },
  {
   "cell_type": "code",
   "execution_count": 1,
   "id": "149b817b",
   "metadata": {},
   "outputs": [
    {
     "name": "stdout",
     "output_type": "stream",
     "text": [
      "-1 2\n"
     ]
    }
   ],
   "source": [
    "# CORRECTION Q1\n",
    "\n",
    "xA = 2  # abscisse de A\n",
    "yA = 3  # ordonnée de A\n",
    "xB = 1  # abscisse de B\n",
    "yB = 5  # ordonnée de B\n",
    "\n",
    "x = xB - xA\n",
    "y = yB - yA\n",
    "print(x, y)"
   ]
  },
  {
   "cell_type": "markdown",
   "id": "7778e953",
   "metadata": {},
   "source": [
    "**CORRECTION Q2** : \n",
    "\n",
    "$\\overrightarrow{AB}(1-2; 5-3) = (-1; 2)$ donc on a bien obtenu les bonnes coordonnées !"
   ]
  },
  {
   "cell_type": "code",
   "execution_count": 2,
   "id": "bd008902",
   "metadata": {},
   "outputs": [
    {
     "name": "stdout",
     "output_type": "stream",
     "text": [
      "-7 -3\n"
     ]
    }
   ],
   "source": [
    "# CORRECTION Q3\n",
    "# on change juste les valeurs des variables xA, yA, xB et yB\n",
    "\n",
    "xA = 4\n",
    "yA = 2\n",
    "xB = -3\n",
    "yB = -1\n",
    "\n",
    "x = xB - xA\n",
    "y = yB - yA\n",
    "print(x, y)"
   ]
  },
  {
   "cell_type": "markdown",
   "id": "40e20fad",
   "metadata": {},
   "source": [
    "### 🖊️ Exercice 2"
   ]
  },
  {
   "cell_type": "code",
   "execution_count": 3,
   "id": "689f28b6",
   "metadata": {},
   "outputs": [
    {
     "name": "stdout",
     "output_type": "stream",
     "text": [
      "-1.0 1.5\n"
     ]
    }
   ],
   "source": [
    "# CORRECTION Q1\n",
    "xA = 1\n",
    "yA = 2\n",
    "xB = -3\n",
    "yB = 1\n",
    "\n",
    "x = (xA + xB) / 2\n",
    "y = (yA + yB) / 2\n",
    "print(x, y)"
   ]
  },
  {
   "cell_type": "markdown",
   "id": "1e2f12fd",
   "metadata": {},
   "source": [
    "**CORRECTION Q2** : \n",
    "\n",
    "Si $I$ est le milieu de $[AB]$, alors $x_I=\\dfrac{x_A + x_B}{2}=\\dfrac{1-3}{2}=-1$ et $y_I=\\dfrac{y_A + y_B}{2}=\\dfrac{2+1}{2}=\\dfrac{3}{2}=1,5$ donc c'est bon !"
   ]
  },
  {
   "cell_type": "markdown",
   "id": "68fdc310",
   "metadata": {},
   "source": [
    "### 🖊️ Exercice 3"
   ]
  },
  {
   "cell_type": "code",
   "execution_count": 4,
   "id": "3f9da7fc",
   "metadata": {},
   "outputs": [],
   "source": [
    "# CORRECTION Q1\n",
    "\n",
    "def milieu(xA, yA, xB, yB):\n",
    "    x = (xA + xB) / 2\n",
    "    y = (yA + yB) / 2\n",
    "    return x, y"
   ]
  },
  {
   "cell_type": "code",
   "execution_count": 5,
   "id": "751a972e",
   "metadata": {},
   "outputs": [
    {
     "data": {
      "text/plain": [
       "(-1.0, 1.5)"
      ]
     },
     "execution_count": 5,
     "metadata": {},
     "output_type": "execute_result"
    }
   ],
   "source": [
    "# CORRECTION Q2\n",
    "\n",
    "milieu(1, 2, -3, 1)"
   ]
  },
  {
   "cell_type": "markdown",
   "id": "a50db8f6",
   "metadata": {},
   "source": [
    "### 🖊️ Exercice 4"
   ]
  },
  {
   "cell_type": "code",
   "execution_count": 6,
   "id": "556a1a61",
   "metadata": {},
   "outputs": [],
   "source": [
    "# CORRECTION Q1\n",
    "\n",
    "def discriminant(a, b, c):\n",
    "    return b**2 - 4*a*c"
   ]
  },
  {
   "cell_type": "code",
   "execution_count": 7,
   "id": "1e945fae",
   "metadata": {},
   "outputs": [
    {
     "data": {
      "text/plain": [
       "25"
      ]
     },
     "execution_count": 7,
     "metadata": {},
     "output_type": "execute_result"
    }
   ],
   "source": [
    "# CORRECTION Q2\n",
    "\n",
    "discriminant(-1, 3, 4)  # discriminant de -x²+3x+4"
   ]
  },
  {
   "cell_type": "code",
   "execution_count": 8,
   "id": "e3d9f682",
   "metadata": {},
   "outputs": [
    {
     "data": {
      "text/plain": [
       "0"
      ]
     },
     "execution_count": 8,
     "metadata": {},
     "output_type": "execute_result"
    }
   ],
   "source": [
    "# CORRECTION Q2\n",
    "\n",
    "discriminant(1, 4, 4)  # discriminant de x²+4x+4"
   ]
  },
  {
   "cell_type": "code",
   "execution_count": 9,
   "id": "bce33068",
   "metadata": {},
   "outputs": [
    {
     "data": {
      "text/plain": [
       "-23"
      ]
     },
     "execution_count": 9,
     "metadata": {},
     "output_type": "execute_result"
    }
   ],
   "source": [
    "# CORRECTION Q2\n",
    "\n",
    "discriminant(2, 1, 3)  # discriminant de 2x²+x+3"
   ]
  },
  {
   "cell_type": "markdown",
   "id": "5be54058",
   "metadata": {},
   "source": [
    "### 🖊️ Exercice 5"
   ]
  },
  {
   "cell_type": "markdown",
   "id": "56e6b465",
   "metadata": {},
   "source": [
    "**CORRECTION**\n",
    "\n",
    "**Q1** :\n",
    "\n",
    "Pour la première fonction :\n",
    "- nom : `carre`\n",
    "- paramètre(s) : 1 --> la variable `x`\n",
    "- le bloc d'instructions est :\n",
    "```python\n",
    "return x ** 2\n",
    "```\n",
    "- valeur(s) renvoyée(s) : 1 --> la valeur de `x ** 2`\n",
    "    \n",
    "Pour la deuxième fonction :\n",
    "- nom : `aire_triangle`\n",
    "- paramètre(s) : 2 --> `base` et `hauteur`\n",
    "- le bloc d'instructions est :\n",
    "```python\n",
    "aire = base * hauteur / 2\n",
    "return aire\n",
    "```\n",
    "- valeur(s) renvoyée(s) : 1 --> `aire`\n",
    "\n",
    "**Q2** :\n",
    "\n",
    "* l'appel `carre(5)` renvoie la valeur 25 (car $5^2 = 25$)\n",
    "* l'appel `carre(-3)` renvoie la valeur 9 (car $(-3)^2 = 9$)\n",
    "* l'appel `aire_triangle(4, 3)` renvoie la valeur 6 (car $\\frac{4\\times 3}{2}=6$)\n",
    "* l'appel `aire_triangle(10, 5)` renvoie la valeur 25 (car $\\frac{10\\times 5}{2}=25$)"
   ]
  },
  {
   "cell_type": "code",
   "execution_count": 10,
   "id": "7f1e6eec",
   "metadata": {},
   "outputs": [
    {
     "data": {
      "text/plain": [
       "(25, 9, 6.0, 25.0)"
      ]
     },
     "execution_count": 10,
     "metadata": {},
     "output_type": "execute_result"
    }
   ],
   "source": [
    "# CORRECTION Q3\n",
    "\n",
    "def carre(x):\n",
    "    return x ** 2\n",
    "\n",
    "def aire_triangle(base, hauteur):\n",
    "    aire = base * hauteur / 2\n",
    "    return aire\n",
    "\n",
    "carre(5), carre(-3), aire_triangle(4, 3), aire_triangle(10, 5)"
   ]
  },
  {
   "cell_type": "markdown",
   "id": "667ec632",
   "metadata": {},
   "source": [
    "### 🖊️ Exercice 6"
   ]
  },
  {
   "cell_type": "code",
   "execution_count": 11,
   "id": "01ed7145",
   "metadata": {},
   "outputs": [],
   "source": [
    "# CORRECTION Q1\n",
    "\n",
    "def determinant(xu, yu, xv, yv):\n",
    "    d = xu * yv - yu * xv\n",
    "    return d"
   ]
  },
  {
   "cell_type": "code",
   "execution_count": 12,
   "id": "0f1583e0",
   "metadata": {},
   "outputs": [
    {
     "data": {
      "text/plain": [
       "(-8, 0)"
      ]
     },
     "execution_count": 12,
     "metadata": {},
     "output_type": "execute_result"
    }
   ],
   "source": [
    "# CORRECTION Q2 (on fait les appels nécessaires)\n",
    "\n",
    "determinant(-2, 4, 1, 2), determinant(3, -2, -6, 4)\n"
   ]
  },
  {
   "cell_type": "markdown",
   "id": "8fda5699",
   "metadata": {},
   "source": [
    "**Q3** : les deux premiers ne sont pas colinéaires mais les deux autres le sont car leur déterminant est égal à 0. "
   ]
  },
  {
   "cell_type": "code",
   "execution_count": 13,
   "id": "99677a0f",
   "metadata": {},
   "outputs": [],
   "source": [
    "# CORRECTION Q4\n",
    "\n",
    "def sont_colineaires(xu, yu, xv, yv):\n",
    "    if determinant(xu, yu, xv, yv) == 0:\n",
    "        return True\n",
    "    else:\n",
    "        return False"
   ]
  },
  {
   "cell_type": "code",
   "execution_count": 14,
   "id": "6c99c7a3",
   "metadata": {},
   "outputs": [
    {
     "data": {
      "text/plain": [
       "(False, True)"
      ]
     },
     "execution_count": 14,
     "metadata": {},
     "output_type": "execute_result"
    }
   ],
   "source": [
    "# CORRECTION Q5\n",
    "\n",
    "sont_colineaires(-2, 4, 1, 2), sont_colineaires(3, -2, -6, 4)"
   ]
  },
  {
   "cell_type": "markdown",
   "id": "8a85c152",
   "metadata": {
    "deletable": false,
    "editable": false
   },
   "source": [
    "---\n",
    "\n",
    "Germain BECKER, Lycée Mounier, ANGERS \n",
    "\n",
    "![Licence Creative Commons](https://i.creativecommons.org/l/by-nc-sa/4.0/88x31.png)"
   ]
  }
 ],
 "metadata": {
  "celltoolbar": "Aucun(e)",
  "kernelspec": {
   "display_name": "Python 3",
   "language": "python",
   "name": "python3"
  },
  "language_info": {
   "codemirror_mode": {
    "name": "ipython",
    "version": 3
   },
   "file_extension": ".py",
   "mimetype": "text/x-python",
   "name": "python",
   "nbconvert_exporter": "python",
   "pygments_lexer": "ipython3",
   "version": "3.7.10"
  }
 },
 "nbformat": 4,
 "nbformat_minor": 5
}
