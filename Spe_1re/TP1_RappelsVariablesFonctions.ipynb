{
 "cells": [
  {
   "cell_type": "markdown",
   "id": "0fecef2f",
   "metadata": {},
   "source": [
    "<h1 style=\"font-size: 30px; text-align: center\">TP 1 : Rappels sur les variables et les fonctions</h1>\n",
    "\n",
    "---"
   ]
  },
  {
   "cell_type": "markdown",
   "id": "887e9c08",
   "metadata": {},
   "source": [
    "# I. Les variables\n",
    "\n",
    "## A. Définition\n",
    "\n",
    "En informatique, il est indispensable de conserver des informations de natures diverses. Pour cela on utilise des **variables**.\n",
    "\n",
    "<div class=\"alert alert-success\">\n",
    "    <strong>Définition</strong> : Une <strong>variable</strong> est un espace de stockage de la mémoire (une case mémoire). Chaque variable est caractérisée par son <em>nom</em>, son <em>type</em> et sa <em>valeur</em> Vous pouvez vous représenter une variable comme une \"boite\" qui porte un nom et contient une valeur d'un certain type.\n",
    "</div>"
   ]
  },
  {
   "cell_type": "markdown",
   "id": "4cbff857",
   "metadata": {},
   "source": [
    "## B. Type d'une variable\n",
    "\n",
    "Le **type** d'une variable est la nature de l'information qu'elle contient. Voici les trois types de base qui nous intéressent :\n",
    "\n",
    "* le type **entier** : il désigne les entiers relatifs (positifs ou négatifs). En Python on parle du type `int` (pour integer qui signifie « entier » en anglais) ;\n",
    "* le type **flottant** : il désigne les nombres décimaux (à virgule). En Python on parle du type `float` (pour floating qui signifie « flottant » en anglais). La virgule est remplacée par un point en Python.\n",
    "* le type **chaîne de caractères** : il désigne toute suite ordonnée de caractères. En Python on parle du type `str` (pour string qui signifie « chaîne » en anglais)."
   ]
  },
  {
   "cell_type": "markdown",
   "id": "373b7dbb",
   "metadata": {},
   "source": [
    "## C. Affecter une valeur à une variable\n",
    "\n",
    "En Python, on utilise le symbole `=` pour affecter une valeur à une variable.\n",
    "\n",
    "**Exemple** : L'algorithme (écrit en langage naturel)\n",
    "\n",
    "```\n",
    "a ← 2  # a prend la valeur 2\n",
    "b ← 1,4\n",
    "c ← a + b\n",
    "Afficher(c)\n",
    "```\n",
    "\n",
    "se traduit par le programme Python :\n",
    "\n",
    "```python\n",
    "a = 2\n",
    "b = 1.4\n",
    "c = a + b\n",
    "print(c)\n",
    "```\n",
    "\n",
    "<blockquote class=\"alert alert-info\" style=\"margin:10px 0;padding:10px\">\n",
    "    ❓ Quelles sont les noms, types et valeurs des variables utilisées dans ce programme ?\n",
    "</blockquote>\n",
    "\n"
   ]
  },
  {
   "cell_type": "markdown",
   "id": "a8600a75",
   "metadata": {},
   "source": [
    "Dans un _notebook_, on peut écrire et exécuter du code dans les cellules de code (celles sur fond gris précédées par `Entrée[]`). Une fois le code écrit, pour l'exécuter il suffit d'appuyer sur les touches \"Maj + Entrée\" (ou sur le bouton \"Exécuter\" de la barre d'outils)."
   ]
  },
  {
   "cell_type": "code",
   "execution_count": null,
   "id": "09b1c865",
   "metadata": {},
   "outputs": [],
   "source": [
    "# On écrit le code puis on l'exécute\n",
    "a = 2\n",
    "b = 1.4\n",
    "c = a + b\n",
    "print(c)"
   ]
  },
  {
   "cell_type": "markdown",
   "id": "94efa247",
   "metadata": {},
   "source": [
    "### 🖊️ Exercice 1\n",
    "\n",
    "1. Compléter le programme suivant pour que les variables `x` et `y` soient égales aux coordonnées du vecteur $\\overrightarrow{AB}$ avec $A(2; 3)$ et $B(1; 5)$. Vous ajouterez une ligne permettant d'afficher les valeurs de variables `x` et `y`.  \n",
    "   **Attention**, il ne faut utiliser que les variables `xA`, `yA`, `xB` et `yB`.\n",
    "\n",
    "2. Vous vérifierez en faisant le calcul dans votre tête (ou à la main).\n",
    "3. Modifiez ensuite le programme pour qu'il calcule et affiche les coordonnées du vecteur $\\overrightarrow{AB}$ avec $A(4; 2)$ et $B(-3; -1)$."
   ]
  },
  {
   "cell_type": "code",
   "execution_count": null,
   "id": "9c8bc9e6",
   "metadata": {},
   "outputs": [],
   "source": [
    "xA = 2  # abscisse de A\n",
    "yA = 3  # ordonnée de A\n",
    "xB = 1  # abscisse de B\n",
    "yB = 5  # ordonnée de B\n",
    "# à compléter\n",
    "x = ...\n",
    "y = ...\n"
   ]
  },
  {
   "cell_type": "markdown",
   "id": "40e20fad",
   "metadata": {},
   "source": [
    "### 🖊️ Exercice 2\n",
    "\n",
    "1. En vous inspirant de l'exercice 1, écrivez un programme permettant de calculer et afficher les coordonnées du milieu du segment $[AB]$, avec $A(1; 2)$ et $B(-3; 1)$.\n",
    "2. Vous vérifierez en faisant le calcul dans votre tête (ou à la main)."
   ]
  },
  {
   "cell_type": "code",
   "execution_count": null,
   "id": "689f28b6",
   "metadata": {},
   "outputs": [],
   "source": [
    "# à vous de jouer !\n"
   ]
  },
  {
   "cell_type": "markdown",
   "id": "7f53d62e",
   "metadata": {},
   "source": [
    "# II. Les fonctions\n",
    "\n",
    "Dans un langage de programmation, on utilise ce qu'on appelle des **fonctions**.\n",
    "\n",
    "<div class=\"alert alert-success\">\n",
    "    <strong>Définition</strong> : Une <strong>fonction</strong> est un ensemble d'instructions qui peut recevoir des paramètres (qui sont des valeurs ou des variables) et qui peut renvoyer le contenu d'une ou plusieurs variables.\n",
    "    <br>Ces valeurs renvoyées peuvent ensuite être exploitées plus loin dans le programme, par d’autres fonctions par exemple\n",
    "</div>"
   ]
  },
  {
   "cell_type": "markdown",
   "id": "d84446fc",
   "metadata": {},
   "source": [
    "Le programme de l'exercice 1 s'écrit comme une fonction de la façon suivante :"
   ]
  },
  {
   "cell_type": "code",
   "execution_count": null,
   "id": "e96fc651",
   "metadata": {},
   "outputs": [],
   "source": [
    "# cellule à exécuter !\n",
    "\n",
    "def coord_vecteur(xA, yA, xB, yB):\n",
    "    x = xB - xA\n",
    "    y = yB - yA\n",
    "    return x, y"
   ]
  },
  {
   "cell_type": "markdown",
   "id": "4e026036",
   "metadata": {},
   "source": [
    "**Analyse** :\n",
    "\n",
    "* Le mot clé `def` annonce que l'on va écrire une fonction.\n",
    "* On commence par écrire le **nom** de notre fonction. Ici elle s’appelle `coord_vecteur`.\n",
    "* Ensuite, entre parenthèses, on écrit ses **paramètres** séparés par des virgules. Ici il y en 4 : `xA`, `yA`, `xB` et `yB`.\n",
    "* On termine la ligne par un deux points (`:`).\n",
    "* On **indente** et écrit toutes les instructions devant être exécutées. Le bloc d’instructions s’étend sur 3 lignes, de la ligne 2 à la ligne 4.\n",
    "* Enfin, le mot clé `return` permet de renvoyer le contenu d'une ou plusieurs variables (séparées par des virgules s'il y en a plusieurs). Ici deux valeurs sont renvoyées : `x` et `y`.\n",
    "\n",
    "<blockquote class=\"alert alert-warning\">\n",
    "    <strong>Important</strong> : Vous avez dû remarquer qu'en exécutant la cellule de la fonction, rien ne se passe, c'est normal ! Cela a juste servi à mémoriser la fonction dans la mémoire de l'ordinateur. Pour <em>utiliser</em> cette fonction il faut ensuite l'<em>appeler</em>.\n",
    "</blockquote>"
   ]
  },
  {
   "cell_type": "markdown",
   "id": "30f88171",
   "metadata": {},
   "source": [
    "Pour **appeler** une fonction il faut utiliser son nom et lui passer les valeurs des paramètres. Par exemple, si on veut connaître les coordonnées du vecteur $\\overrightarrow{AB}$ avec $A(2; 3)$ et $B(1; 5)$, on écrit et exécute simplement l'instruction suivante."
   ]
  },
  {
   "cell_type": "code",
   "execution_count": null,
   "id": "094d74d5",
   "metadata": {},
   "outputs": [],
   "source": [
    "coord_vecteur(2, 3, 1, 5)"
   ]
  },
  {
   "cell_type": "markdown",
   "id": "68fdc310",
   "metadata": {},
   "source": [
    "### 🖊️ Exercice 3\n",
    "\n",
    "**Q1** : Écrivez une fonction :\n",
    "* appelée `milieu`\n",
    "* qui possède quatre paramètres `xA`, `yA`, `xB`, `yB` correspondant aux coordonnées de deux points $A$ et $B$\n",
    "* et qui renvoie le couple de coordonnées du milieu du segment $[AB]$"
   ]
  },
  {
   "cell_type": "code",
   "execution_count": null,
   "id": "3f9da7fc",
   "metadata": {},
   "outputs": [],
   "source": [
    "# à vous de jouer !\n"
   ]
  },
  {
   "cell_type": "markdown",
   "id": "bf565f4d",
   "metadata": {},
   "source": [
    "**Q2** : Appelez la fonction `milieu` pour connaître les coordonnées du milieu du segment $[AB]$, avec $A(1; 2)$ et $B(-3; 1)$."
   ]
  },
  {
   "cell_type": "code",
   "execution_count": null,
   "id": "751a972e",
   "metadata": {},
   "outputs": [],
   "source": [
    "# à vous de jouer !\n"
   ]
  },
  {
   "cell_type": "markdown",
   "id": "a50db8f6",
   "metadata": {},
   "source": [
    "### 🖊️ Exercice 4\n",
    "\n",
    "1. Écrivez une fonction `discriminant` qui prend en paramètres les coefficients `a`, `b` et `c` d’un trinôme du second degré et qui renvoie son discriminant. \n",
    "2. Testez ensuite la fonction en l’appelant sur plusieurs exemples."
   ]
  },
  {
   "cell_type": "code",
   "execution_count": null,
   "id": "556a1a61",
   "metadata": {},
   "outputs": [],
   "source": [
    "# à vous de jouer !\n"
   ]
  },
  {
   "cell_type": "code",
   "execution_count": null,
   "id": "bce33068",
   "metadata": {},
   "outputs": [],
   "source": [
    "# à vous de jouer !\n"
   ]
  },
  {
   "cell_type": "markdown",
   "id": "5be54058",
   "metadata": {},
   "source": [
    "### 🖊️ Exercice 5\n",
    "\n",
    "Voici deux fonctions écrites dans le langage Python.\n",
    "\n",
    "```python\n",
    "def carre(x):\n",
    "    return x ** 2\n",
    "```\n",
    "\n",
    "et\n",
    "\n",
    "```python\n",
    "def aire_triangle(base, hauteur):\n",
    "    aire = base * hauteur / 2\n",
    "    return aire\n",
    "```\n",
    "\n",
    "> Rappel : dans le langage Python, le symbole `**` correspond à la puissance (`a**n` signifie $a^n$)"
   ]
  },
  {
   "cell_type": "markdown",
   "id": "242e914d",
   "metadata": {},
   "source": [
    "1. ✍️ Pour chaque fonction, répondez aux questions suivantes.\n",
    "    * Quel est le nom de la fonction ?\n",
    "    * Combien possède-t-elle d’arguments et quels sont leurs noms ?\n",
    "    * Entourez le bloc d’instructions de la fonction.\n",
    "    * Combien de valeurs sont-elles renvoyées ? Quels sont leurs noms ?\n",
    "2. ✍️ Que renvoient les appels suivants : `carre(5)`, `carre(-3)`, `aire_triangle(4, 3)`, `aire_triangle(10, 5)` ?\n",
    "3. 💻 Ecrivez ces deux fonctions en Python et vérifiez les réponses à la question précédente."
   ]
  },
  {
   "cell_type": "code",
   "execution_count": null,
   "id": "7f1e6eec",
   "metadata": {},
   "outputs": [],
   "source": [
    "# question 3 : à vous de jouer !\n"
   ]
  },
  {
   "cell_type": "markdown",
   "id": "667ec632",
   "metadata": {},
   "source": [
    "### 🖊️ Exercice 6\n",
    "\n",
    "**Q1** : Écrivez une fonction qui prend en paramètres les coordonnées de deux vecteurs et qui renvoie la valeur du déterminant de ces deux vecteurs.\n"
   ]
  },
  {
   "cell_type": "code",
   "execution_count": null,
   "id": "01ed7145",
   "metadata": {},
   "outputs": [],
   "source": [
    "# à vous de jouer !\n"
   ]
  },
  {
   "cell_type": "markdown",
   "id": "fa1754f0",
   "metadata": {},
   "source": [
    "**Q2** : Utilisez cette fonction pour connaître le déterminant des vecteurs suivants :\n",
    "* $\\vec u \\begin{pmatrix} -2 \\\\ 4 \\end{pmatrix}$ et $\\vec v \\begin{pmatrix} 1 \\\\ 2 \\end{pmatrix}$\n",
    "* $\\vec u \\begin{pmatrix} 3 \\\\ -2 \\end{pmatrix}$ et $\\vec v \\begin{pmatrix} -6 \\\\ 4 \\end{pmatrix}$"
   ]
  },
  {
   "cell_type": "code",
   "execution_count": null,
   "id": "0f1583e0",
   "metadata": {},
   "outputs": [],
   "source": [
    "# à vous de jouer !\n"
   ]
  },
  {
   "cell_type": "markdown",
   "id": "bf90ef25",
   "metadata": {},
   "source": [
    "**Q3** : Ces couples de vecteurs sont-ils colinéaires ? Justifier\n",
    "\n",
    "**Q4** : Complétez la fonction `sont_colineaires(xu, yu, xv, yv)` suivante qui doit renvoyer `True` si les deux $\\vec u \\begin{pmatrix} xu \\\\ yu \\end{pmatrix}$ et $\\vec v \\begin{pmatrix} xv \\\\ yv \\end{pmatrix}$ sont colinéaires, `False` dans le cas contraire. *Vous utiliserez à bon escient la fonction de la question 1*."
   ]
  },
  {
   "cell_type": "code",
   "execution_count": null,
   "id": "4e1edca8",
   "metadata": {},
   "outputs": [],
   "source": [
    "# à vous de jouer !\n",
    "\n",
    "def sont_colineaires(xu, yu, xv, yv):\n",
    "    if ... :\n",
    "        return True\n",
    "    else:\n",
    "        return ..."
   ]
  },
  {
   "cell_type": "markdown",
   "id": "246581ea",
   "metadata": {},
   "source": [
    "**Q5** : Utilisez cette fonction pour vérifier vos réponses à la question 3."
   ]
  },
  {
   "cell_type": "code",
   "execution_count": null,
   "id": "6c99c7a3",
   "metadata": {},
   "outputs": [],
   "source": [
    "# à vous de jouer !\n"
   ]
  },
  {
   "cell_type": "markdown",
   "id": "8a85c152",
   "metadata": {},
   "source": [
    "---\n",
    "\n",
    "Germain BECKER, Lycée Mounier, ANGERS \n",
    "\n",
    "![Licence Creative Commons](https://i.creativecommons.org/l/by-nc-sa/4.0/88x31.png)"
   ]
  }
 ],
 "metadata": {
  "kernelspec": {
   "display_name": "Python 3",
   "language": "python",
   "name": "python3"
  },
  "language_info": {
   "codemirror_mode": {
    "name": "ipython",
    "version": 3
   },
   "file_extension": ".py",
   "mimetype": "text/x-python",
   "name": "python",
   "nbconvert_exporter": "python",
   "pygments_lexer": "ipython3",
   "version": "3.7.10"
  }
 },
 "nbformat": 4,
 "nbformat_minor": 5
}
