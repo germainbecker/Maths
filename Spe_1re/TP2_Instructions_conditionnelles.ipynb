{
 "cells": [
  {
   "cell_type": "markdown",
   "id": "0fecef2f",
   "metadata": {},
   "source": [
    "<h1 style=\"font-size: 30px; text-align: center\">TP 2 : Instructions conditionnelles</h1>\n",
    "\n",
    "---\n",
    "\n",
    "Dans ce TP, nous allons (re)définir ce que sont des *instructions conditionnelles* et des exercices seront proposés pour programmer en Python ce type d'instructions. Nous en profiterons pour réinvestir la notion de *fonction* abordée dans le TP n°1."
   ]
  },
  {
   "cell_type": "markdown",
   "id": "a50db8f6",
   "metadata": {},
   "source": [
    "## 🖊️ Exercice 1 : Réinvestissement TP1\n",
    "\n",
    "**Q1** : Écrivez une fonction `discriminant` qui prend en paramètres les coefficients `a`, `b` et `c` d’un trinôme du second degré et qui renvoie son discriminant. "
   ]
  },
  {
   "cell_type": "code",
   "execution_count": null,
   "id": "556a1a61",
   "metadata": {},
   "outputs": [],
   "source": [
    "# à vous de jouer !"
   ]
  },
  {
   "cell_type": "markdown",
   "id": "25476205",
   "metadata": {},
   "source": [
    "**Q2** : Utilisez cette fonction, en l'appelant, pour connaître la valeur du discriminant des fonctions polynômes du second degré suivantes :\n",
    "\n",
    "* $f(x)= 5x^2-7x+2$\n",
    "* $g(x) = 6x^2+4x+5$\n",
    "* $h(x) = x^2+2x+1$"
   ]
  },
  {
   "cell_type": "code",
   "execution_count": null,
   "id": "bce33068",
   "metadata": {},
   "outputs": [],
   "source": [
    "# à vous de jouer !"
   ]
  },
  {
   "cell_type": "code",
   "execution_count": null,
   "id": "4dd1ebfa",
   "metadata": {},
   "outputs": [],
   "source": [
    "# à vous de jouer !"
   ]
  },
  {
   "cell_type": "code",
   "execution_count": null,
   "id": "a01e8a0c",
   "metadata": {},
   "outputs": [],
   "source": [
    "# à vous de jouer !"
   ]
  },
  {
   "cell_type": "markdown",
   "id": "887e9c08",
   "metadata": {},
   "source": [
    "# I. Instructions conditionnelles\n",
    "\n",
    "## A. Définition\n",
    "\n",
    "<div class=\"alert alert-success\">\n",
    "    <p><strong>Définition</strong> : Une <strong>instruction conditionnelle</strong> permet de faire des choix en fonction de la valeur d'une <em>condition</em>. On parle souvent d'instruction <em>si alors</em> ou <em>if else</em> en anglais.</p>\n",
    "    <p>Une <strong>condition</strong> est une instruction qui est soit vraie soit fausse. On dit qu'il s'agit d'un <strong>booléen</strong>.</p>\n",
    "</div>"
   ]
  },
  {
   "cell_type": "markdown",
   "id": "287d2d7c",
   "metadata": {},
   "source": [
    "Voici quelques exemples pour lequels vous penserez à exécuter les cellules pour évaluer la valeur des booléens :"
   ]
  },
  {
   "cell_type": "code",
   "execution_count": null,
   "id": "96adcbcb",
   "metadata": {},
   "outputs": [],
   "source": [
    "5 < 10  # est une condition vraie"
   ]
  },
  {
   "cell_type": "code",
   "execution_count": null,
   "id": "91442aeb",
   "metadata": {},
   "outputs": [],
   "source": [
    "5 > 10  # est une condition fausse"
   ]
  },
  {
   "cell_type": "code",
   "execution_count": null,
   "id": "ea2d5488",
   "metadata": {},
   "outputs": [],
   "source": [
    "5 == 2  # est une condition fausse"
   ]
  },
  {
   "cell_type": "code",
   "execution_count": null,
   "id": "a8bed061",
   "metadata": {},
   "outputs": [],
   "source": [
    "a = 10\n",
    "b = 5\n",
    "a > b  # est une condition vraie"
   ]
  },
  {
   "cell_type": "code",
   "execution_count": null,
   "id": "74584e6f",
   "metadata": {},
   "outputs": [],
   "source": [
    "age = 17\n",
    "age >= 18  # est une condition qui est fausse "
   ]
  },
  {
   "cell_type": "markdown",
   "id": "cad9fd6a",
   "metadata": {},
   "source": [
    "<blockquote class=\"alert alert-info\" style=\"margin:10px;padding:10px\">\n",
    "    <span style=\"font-size:20px\">🔧</span> En Python, la valeur d'une condition (c'est-à-dire d'un booléen) est soit <code>True</code> (= vrai), soit <code>False</code> (= faux).\n",
    "</blockquote>"
   ]
  },
  {
   "cell_type": "markdown",
   "id": "4fdf1bb9",
   "metadata": {},
   "source": [
    "On peut alors utiliser des conditions pour écrire des instructions conditionnelles.\n",
    "\n",
    "### Exemple\n",
    "\n",
    "On souhaite connaître le vainqueur d’un match de football connaissant le score des deux équipes A et B. À la fin de l’algorithme suivant, la variable `vainqueur` contient la réponse à la question.\n",
    "\n",
    "```\n",
    "si scoreA > scoreB alors\n",
    "\tvainqueur ← \"équipe A\"     (la flèche ← signifie \"prend la valeur\")\n",
    "sinon si scoreA < scoreB alors\n",
    "\tvainqueur ← \"équipe B\"\n",
    "sinon\n",
    "\tvainqueur ← \"Match nul\"\n",
    "```\n",
    "\n",
    "Dans cet exemple, il y a deux conditions, `scoreA > scoreB` et `scoreA < scoreB`, et chacune est soit vraie, soit fausse. On voit bien qu’un choix est effectué (pour la variable `vainqueur`) selon la valeur de ces conditions."
   ]
  },
  {
   "cell_type": "markdown",
   "id": "ee84a425",
   "metadata": {},
   "source": [
    "## B. Syntaxe en Python\n",
    "\n",
    "En Python, on écrit des instructions conditionnelles en utilisant la syntaxe suivante :\n",
    "\n",
    "```python\n",
    "if condition1:\n",
    "\tbloc_instructions_1\n",
    "elif condition2:\n",
    "\tbloc_instructions_2\n",
    "else:\n",
    "\tbloc_instructions_3\n",
    "```\n",
    "\n",
    "<blockquote class=\"alert alert-info\" style=\"margin:10px;padding:10px\">\n",
    "    <span style=\"font-size:20px\">🔧</span> Les mots clés <code>if</code>, <code>elif</code> (contraction de <em>else if</em>) et <code>else</code> sont les traductions respectives de <em>si</em>, <em>sinon si</em> et <em>sinon</em>.\n",
    "</blockquote>"
   ]
  },
  {
   "cell_type": "markdown",
   "id": "4e026036",
   "metadata": {},
   "source": [
    "**Analyse** :\n",
    "\n",
    "* Il ne faut pas oublier les deux points (`:`) à la fin des lignes avec `if`, `elif` et `else`\n",
    "* Les blocs d'instructions à effectuer selon le cas sont écrits avec un « décalage vers la droite » : on parle d'*indentation*. Ces indentations sont obligatoires dans la syntaxe Python et se font automatiquement si le `:` n’a pas été oublié.\n",
    "* Il peut y avoir plusieurs lignes d’instructions et elles doivent toutes êtres indentées (cela se fait automatiquement si rien n’a été oublié).\n",
    "* Les mots clés `elif` et `else` sont optionnels, c’est-à-dire que l’on peut avoir :\n",
    "    - seulement un `if` comme ceci\n",
    "        ```python\n",
    "        if condition:\n",
    "            bloc_instructions\n",
    "        ```\n",
    "    - ou un `if` suivi d'un `else` comme cela\n",
    "        ```python\n",
    "        if condition:\n",
    "            bloc_instructions_1\n",
    "        else:\n",
    "            bloc_instructions_2\n",
    "        ```\n",
    "* On peut aussi ajouter autant d'instructions conditionnelles avec `elif` que l'on souhaite."
   ]
  },
  {
   "cell_type": "markdown",
   "id": "c86c9889",
   "metadata": {},
   "source": [
    "### Exemple (suite)\n",
    "\n",
    "Ainsi, on peut écrire une fonction Python appelée `gagnant` :\n",
    "\n",
    "- qui possède deux paramètres, les scores `scoreA` et `scoreB` des deux équipes ;\n",
    "- et qui renvoie une chaîne de caractères donnant le vainqueur du match.\n",
    "\n",
    "Voici le code de cette fonction :"
   ]
  },
  {
   "cell_type": "code",
   "execution_count": 1,
   "id": "6beb9d50",
   "metadata": {},
   "outputs": [],
   "source": [
    "def gagnant(scoreA, scoreB):\n",
    "    if scoreA > scoreB:         # si scoreA > scoreB\n",
    "        vainqueur = \"équipe A\"\n",
    "    elif scoreA < scoreB:       # sinon si scoreA < scoreB\n",
    "        vainqueur = \"équipe B\"\n",
    "    else:                       # sinon\n",
    "        vainqueur = \"Match nul\"\n",
    "    return vainqueur"
   ]
  },
  {
   "cell_type": "markdown",
   "id": "942d7d0c",
   "metadata": {},
   "source": [
    "On peut alors **appeler** la fonction pour la tester :"
   ]
  },
  {
   "cell_type": "code",
   "execution_count": 2,
   "id": "22321b99",
   "metadata": {},
   "outputs": [
    {
     "data": {
      "text/plain": [
       "'équipe B'"
      ]
     },
     "execution_count": 2,
     "metadata": {},
     "output_type": "execute_result"
    }
   ],
   "source": [
    "gagnant(2, 3)"
   ]
  },
  {
   "cell_type": "code",
   "execution_count": 3,
   "id": "e7e5935e",
   "metadata": {},
   "outputs": [
    {
     "data": {
      "text/plain": [
       "'équipe A'"
      ]
     },
     "execution_count": 3,
     "metadata": {},
     "output_type": "execute_result"
    }
   ],
   "source": [
    "gagnant(4, 0)"
   ]
  },
  {
   "cell_type": "code",
   "execution_count": 4,
   "id": "707cd8d2",
   "metadata": {},
   "outputs": [
    {
     "data": {
      "text/plain": [
       "'Match nul'"
      ]
     },
     "execution_count": 4,
     "metadata": {},
     "output_type": "execute_result"
    }
   ],
   "source": [
    "gagnant(1, 1)"
   ]
  },
  {
   "cell_type": "markdown",
   "id": "4cbff857",
   "metadata": {},
   "source": [
    "# II. Exercices"
   ]
  },
  {
   "cell_type": "markdown",
   "id": "b52ce2b1",
   "metadata": {},
   "source": [
    "## 🖊️ Exercice 2\n",
    "\n",
    "Dans un parc d’attractions imaginaire qui possède des manèges un peu \"sportifs\", le prix de l’entrée dépend de la taille et de l’âge de la personne. Pour des raisons de sécurité, une personne mesurant moins de 1,30m ne peut accéder à tous les manèges. Elle paie alors moins cher l’entrée du parc.\n",
    "\n",
    "La fonction ci-dessous renvoie le prix que doit payer une personne selon sa taille et son âge.\n",
    "\n",
    "```python\n",
    "def prix_entree(taille, age):\n",
    "    if taille < 1.30:\n",
    "        prix = age * 0.5\n",
    "    else:\n",
    "        prix = age * 1.1\n",
    "    return prix\n",
    "```"
   ]
  },
  {
   "cell_type": "markdown",
   "id": "200c3933",
   "metadata": {},
   "source": [
    "1. ✍️ Quel est le nom de cette fonction ? Combien possède-t-elle de paramètres ? Le(s)quel(s) ?\n",
    "2. ✍️ Utilisez le code de cette fonction pour déterminer le prix que va payer quelqu’un qui a 18 ans et qui mesure 1,82m.\n",
    "3. ✍️ Combien va payer un enfant de 8 ans et qui mesure 1,20m ?\n",
    "4. ✍️ Indiquez quelles modifications il faut opérer à cette fonction pour prendre en considération le fait que l’entrée soit gratuite pour les personnes mesurant moins de 90cm.\n",
    "5. 💻 Recopiez la fonction dans la cellule ci-dessous en ajoutant les modifications de la question précédente. Vérifiez ensuite les réponses aux questions 2, 3 et 4 en effectuant les bons appels."
   ]
  },
  {
   "cell_type": "code",
   "execution_count": null,
   "id": "239f3030",
   "metadata": {},
   "outputs": [],
   "source": [
    "# Q5 : à vous de jouer !"
   ]
  },
  {
   "cell_type": "code",
   "execution_count": null,
   "id": "4e38bd1d",
   "metadata": {},
   "outputs": [],
   "source": [
    "# Q5 : à vous de jouer !"
   ]
  },
  {
   "cell_type": "markdown",
   "id": "2d07656c",
   "metadata": {},
   "source": [
    "## 🖊️ Exercice 3\n",
    "\n",
    "Lorsqu’un radar mesure une vitesse, il y a, comme pour toute mesure une incertitude. De ce fait, une marge dite *marge de tolérance* est appliquée à la vitesse mesurée pour obtenir la vitesse retenue pour établir ou non l’infraction.\n",
    "\n",
    "Pour cet exercice, on s’appuiera sur l’article 6 de l’arrêté du 4 juin 2009 relatif aux cinémomètres de contrôle routier : [https://www.legifrance.gouv.fr/loda/article_lc/LEGIARTI000020779832](https://www.legifrance.gouv.fr/loda/article_lc/LEGIARTI000020779832)\n",
    "\n",
    "**Q1** : Pour cette question, on se concentre sur le cas d’une mesure effectuée par un **radar fixe**. \n",
    "\n",
    "Recopiez et complétez la fonction `radar_fixe` donnée ci-dessous qui prend en paramètre la vitesse mesurée `vitesse_mesuree` et qui renvoie la vitesse retenue pour une éventuelle contravention.\n",
    "\n",
    "```python\n",
    "def radar_fixe(vitesse_mesuree):\n",
    "    if vitesse_mesuree < 100:\n",
    "        vitesse_retenue = ...\n",
    "    else:\n",
    "        vitesse_retenue = ...\n",
    "    return vitesse_retenue\n",
    "```\n"
   ]
  },
  {
   "cell_type": "code",
   "execution_count": null,
   "id": "27268e58",
   "metadata": {},
   "outputs": [],
   "source": [
    "# à vous de jouer !"
   ]
  },
  {
   "cell_type": "markdown",
   "id": "8ba01518",
   "metadata": {},
   "source": [
    "**Q2** : Coder de même une deuxième fonction qui renvoie la vitesse retenue dans le cas d'un **radar mobile**."
   ]
  },
  {
   "cell_type": "code",
   "execution_count": null,
   "id": "54664924",
   "metadata": {},
   "outputs": [],
   "source": [
    "# à vous de jouer !"
   ]
  },
  {
   "cell_type": "markdown",
   "id": "36474983",
   "metadata": {},
   "source": [
    "**Q3** : Testez les deux fonctions en faisant différents appels."
   ]
  },
  {
   "cell_type": "code",
   "execution_count": null,
   "id": "b6a86069",
   "metadata": {},
   "outputs": [],
   "source": [
    "# à vous de jouer !"
   ]
  },
  {
   "cell_type": "markdown",
   "id": "4e2663c8",
   "metadata": {},
   "source": [
    "**Q4 (BONUS)** : *à faire une fois que tous les exercices sont faits*\n",
    "\n",
    "Proposez une fonction `est_verbalise_radar_fixe` qui prend en paramètres la vitesse mesurée `vitesse_mesuree` par un radar fixe, ainsi que la vitesse maximale autorisée `vitesse_max` et qui renvoie `True` si l'usager doit être verbalisé, et `False` sinon."
   ]
  },
  {
   "cell_type": "code",
   "execution_count": null,
   "id": "daacfae8",
   "metadata": {},
   "outputs": [],
   "source": [
    "# à vous de jouer !"
   ]
  },
  {
   "cell_type": "markdown",
   "id": "eb5a2c7a",
   "metadata": {},
   "source": [
    "## 🖊️ Exercice 4\n",
    "\n",
    "L’objectif de l’exercice est d’écrire une fonction Python qui renvoie les racines d’une fonction polynôme de degré 2.\n",
    "\n",
    "**Q1** : Remplacez de manière adéquate les pointillés aux lignes 4 et 7 du programme Python suivant."
   ]
  },
  {
   "cell_type": "code",
   "execution_count": null,
   "id": "bf6323dc",
   "metadata": {},
   "outputs": [],
   "source": [
    "from math import sqrt \n",
    "\n",
    "def racines_polynome(a, b, c):\n",
    "    delta = ...  # à remplacer\n",
    "    if delta > 0:\n",
    "        x1 = (-b-sqrt(delta)) / (2*a)\n",
    "        x2 = ...  # à remplacer\n",
    "        return x1, x2"
   ]
  },
  {
   "cell_type": "markdown",
   "id": "e3e25a2c",
   "metadata": {},
   "source": [
    "> **Remarque** : la fonction racine carrée s'écrit `sqrt` en Python (pour _**sq**are_ _**r**oo**t**_, en anglais). Pour pouvoir utiliser cette fonction, il est nécessaire d'écrire la première ligne pour l'indiquer à Python. Cette fonction se trouve dans la *bibliothèque* `math`. La première ligne se traduit littéralement par : \"importe la fonction `sqrt` de la bibliothèque `math`\"."
   ]
  },
  {
   "cell_type": "markdown",
   "id": "59eeb883",
   "metadata": {},
   "source": [
    "**Q2** : Complétez cette fonction de manière à envisager les autres cas du signe du discriminant."
   ]
  },
  {
   "cell_type": "code",
   "execution_count": null,
   "id": "198d2456",
   "metadata": {},
   "outputs": [],
   "source": [
    "# à vous de jouer ! (copiez le code de la question précédente et complétez-le)"
   ]
  },
  {
   "cell_type": "markdown",
   "id": "10b6b329",
   "metadata": {},
   "source": [
    "**Q3** : En effectuant des appels à cette fonction, donnez les solutions des équations suivantes :\n",
    "- $5x^2-7x+2 = 0$\n",
    "- $6x^2+4x+5 = 0$\n",
    "- $x^2+2x+1 = 0$"
   ]
  },
  {
   "cell_type": "code",
   "execution_count": null,
   "id": "36318b6d",
   "metadata": {},
   "outputs": [],
   "source": [
    "# à vous de jouer !"
   ]
  },
  {
   "cell_type": "code",
   "execution_count": null,
   "id": "dd16dc62",
   "metadata": {},
   "outputs": [],
   "source": [
    "# à vous de jouer !"
   ]
  },
  {
   "cell_type": "code",
   "execution_count": null,
   "id": "7df56d84",
   "metadata": {},
   "outputs": [],
   "source": [
    "# à vous de jouer !"
   ]
  },
  {
   "cell_type": "markdown",
   "id": "964b4e53",
   "metadata": {},
   "source": [
    "## 🖊️ Exercice 5\n",
    "\n",
    "**Q1** : Écrivez une fonction `est_rectangle` qui possède 3 paramètres `a`, `b`, `c` et qui renvoie `True` (= vrai) si le triangle de côtés `a`, `b` et `c` est rectangle, et `False` (= faux) sinon. On suppose que `a` est la longueur du plus grand côté.\n",
    "\n",
    "> Attention, `True` et `False` commencent par une majuscule."
   ]
  },
  {
   "cell_type": "code",
   "execution_count": null,
   "id": "a37f8c68",
   "metadata": {},
   "outputs": [],
   "source": [
    "# à vous de jouer !"
   ]
  },
  {
   "cell_type": "markdown",
   "id": "fac76b5e",
   "metadata": {},
   "source": [
    "**Q2** : Vérifiez en appelant cette fonction, que le triangle de côtés 5, 4 et 3 est rectangle, mais que celui de côtés 6, 4 et 3 ne l'est pas."
   ]
  },
  {
   "cell_type": "code",
   "execution_count": null,
   "id": "7d82e260",
   "metadata": {},
   "outputs": [],
   "source": [
    "# à vous de jouer !"
   ]
  },
  {
   "cell_type": "markdown",
   "id": "09b71346",
   "metadata": {},
   "source": [
    "**Q3 (BONUS)** : Modifiez la fonction pour que les paramètres `a`, `b`, `c` de la fonction puissent être saisis dans n'importe quel ordre (il n’est plus nécessaire que `a` soit le plus grand côté)."
   ]
  },
  {
   "cell_type": "code",
   "execution_count": null,
   "id": "8660b0f1",
   "metadata": {},
   "outputs": [],
   "source": [
    "# à vous de jouer !"
   ]
  },
  {
   "cell_type": "markdown",
   "id": "8a85c152",
   "metadata": {},
   "source": [
    "---\n",
    "\n",
    "Germain BECKER, Anthony MÉCHINAUD, Lycée Mounier, ANGERS \n",
    "\n",
    "![Licence Creative Commons](https://i.creativecommons.org/l/by-nc-sa/4.0/88x31.png)"
   ]
  }
 ],
 "metadata": {
  "celltoolbar": "Aucun(e)",
  "kernelspec": {
   "display_name": "Python 3",
   "language": "python",
   "name": "python3"
  },
  "language_info": {
   "codemirror_mode": {
    "name": "ipython",
    "version": 3
   },
   "file_extension": ".py",
   "mimetype": "text/x-python",
   "name": "python",
   "nbconvert_exporter": "python",
   "pygments_lexer": "ipython3",
   "version": "3.7.10"
  }
 },
 "nbformat": 4,
 "nbformat_minor": 5
}
