{
 "cells": [
  {
   "cell_type": "markdown",
   "id": "weird-rolling",
   "metadata": {},
   "source": [
    "<h1 style=\"font-size: 30px; text-align: center\">Les listes en Python</h1>\n",
    "\n",
    "---"
   ]
  },
  {
   "cell_type": "markdown",
   "id": "married-baghdad",
   "metadata": {},
   "source": [
    "**Plan**\n",
    "1. Générer une liste\n",
    "    - liste de notes\n",
    "    - \n",
    "\n",
    " \n",
    "2. Manipuler des éléments d'une liste et leurs indices\n",
    "    - modifier une liste : modifier un élément, ajouter un élément, concatener deux listes ?\n",
    "    \n",
    "\n",
    "3. Parcourir une liste\n",
    "4. Itérer sur les éléments d'une liste"
   ]
  },
  {
   "cell_type": "markdown",
   "id": "systematic-better",
   "metadata": {},
   "source": [
    "# Généralités\n",
    "\n",
    "## Qu'est-ce qu'une _liste_ en Python ?"
   ]
  },
  {
   "cell_type": "markdown",
   "id": "confident-tattoo",
   "metadata": {},
   "source": [
    "<div style=\"border: 2px solid rgb(0, 163, 151); padding: 5px;\">\n",
    "    Les listes sont des objets particuliers qui permettent de contenir plusieurs éléments (des valeurs ou des variables). Pour définir une liste en Python, on utilise les crochets <code>[</code> et <code>]</code> entre lesquels les différents éléments sont séparés par des virgules.\n",
    "</div>"
   ]
  },
  {
   "cell_type": "markdown",
   "id": "presidential-cathedral",
   "metadata": {},
   "source": [
    "Par exemple,"
   ]
  },
  {
   "cell_type": "code",
   "execution_count": 2,
   "id": "graphic-seminar",
   "metadata": {},
   "outputs": [],
   "source": [
    "L = [2, 3, 5, 1, 7]  # ne pas oublier d'exécuter cette cellule"
   ]
  },
  {
   "cell_type": "markdown",
   "id": "funny-darkness",
   "metadata": {},
   "source": [
    "est une liste appelée `L` qui contient les valeurs 2, 3, 5, 1 et 7.\n",
    "\n",
    ">**Remarque** : On peut ainsi voir une liste comme un tableau de plusieurs éléments. En cours de mathématiques, ces éléments seront très souvent des nombres."
   ]
  },
  {
   "cell_type": "markdown",
   "id": "facial-horse",
   "metadata": {},
   "source": [
    "## Accéder aux éléments d'une liste"
   ]
  },
  {
   "cell_type": "markdown",
   "id": "activated-today",
   "metadata": {},
   "source": [
    "<div style=\"border: 2px solid rgb(0, 163, 151); padding: 5px;\">Chaque élément dans une liste est repéré par un indice indiquant sa position dans la liste. <em>Attention, le premier élément a pour indice 0, le deuxième pour indice 1, etc.</em></div>\n",
    "   "
   ]
  },
  {
   "cell_type": "markdown",
   "id": "corporate-insured",
   "metadata": {},
   "source": [
    "Par exemple, dans la liste `L = [2, 3, 5, 1, 7]` :\n",
    "- en indice `0` on trouve la valeur `2` ;\n",
    "- en indice `1` on trouve la valeur `3` ;\n",
    "- etc.\n",
    "\n",
    "![indices et liste](images/indices_liste.png)\n",
    "\n",
    "On peut accéder à un élément d'une liste directement grâce à son indice :"
   ]
  },
  {
   "cell_type": "code",
   "execution_count": 17,
   "id": "differential-genealogy",
   "metadata": {},
   "outputs": [
    {
     "data": {
      "text/html": [
       "<iframe width=\"800\" height=\"240\" frameborder=\"0\" src=\"http://pythontutor.com/iframe-embed.html#code=L%20%3D%20%5B2,%203,%205,%201,%207%5D&codeDivHeight=400&codeDivWidth=350&cumulative=false&curInstr=1&heapPrimitives=nevernest&origin=opt-frontend.js&py=3&rawInputLstJSON=%5B%5D&textReferences=false\"> </iframe>\n"
      ],
      "text/plain": [
       "<IPython.core.display.HTML object>"
      ]
     },
     "metadata": {},
     "output_type": "display_data"
    }
   ],
   "source": [
    "%%html\n",
    "<iframe width=\"800\" height=\"240\" frameborder=\"0\" src=\"http://pythontutor.com/iframe-embed.html#code=L%20%3D%20%5B2,%203,%205,%201,%207%5D&codeDivHeight=400&codeDivWidth=350&cumulative=false&curInstr=1&heapPrimitives=nevernest&origin=opt-frontend.js&py=3&rawInputLstJSON=%5B%5D&textReferences=false\"> </iframe>"
   ]
  },
  {
   "cell_type": "code",
   "execution_count": 3,
   "id": "atomic-transparency",
   "metadata": {},
   "outputs": [
    {
     "data": {
      "text/plain": [
       "2"
      ]
     },
     "execution_count": 3,
     "metadata": {},
     "output_type": "execute_result"
    }
   ],
   "source": [
    "L[0]"
   ]
  },
  {
   "cell_type": "code",
   "execution_count": 4,
   "id": "specified-cream",
   "metadata": {},
   "outputs": [
    {
     "data": {
      "text/plain": [
       "3"
      ]
     },
     "execution_count": 4,
     "metadata": {},
     "output_type": "execute_result"
    }
   ],
   "source": [
    "L[1]"
   ]
  },
  {
   "cell_type": "code",
   "execution_count": 5,
   "id": "velvet-toronto",
   "metadata": {},
   "outputs": [
    {
     "data": {
      "text/plain": [
       "7"
      ]
     },
     "execution_count": 5,
     "metadata": {},
     "output_type": "execute_result"
    }
   ],
   "source": [
    "L[4]"
   ]
  },
  {
   "cell_type": "markdown",
   "id": "hairy-burns",
   "metadata": {},
   "source": [
    "## Connaître la taille d'une liste"
   ]
  },
  {
   "cell_type": "markdown",
   "id": "median-colony",
   "metadata": {},
   "source": [
    "<div style=\"border: 2px solid rgb(0, 163, 151); padding: 5px;\">La fonction <code>len</code> renvoie la taille d'une liste, c'est-à-dire son nombre d'éléments.</div>"
   ]
  },
  {
   "cell_type": "code",
   "execution_count": 9,
   "id": "fitted-decimal",
   "metadata": {},
   "outputs": [
    {
     "data": {
      "text/plain": [
       "5"
      ]
     },
     "execution_count": 9,
     "metadata": {},
     "output_type": "execute_result"
    }
   ],
   "source": [
    "len(L)  # renvoie 5 car il y a 5 éléments dans L"
   ]
  },
  {
   "cell_type": "markdown",
   "id": "electrical-panama",
   "metadata": {},
   "source": [
    "# Générer une liste\n",
    "\n",
    "Il existe plusieurs façons de créer ou générer des listes\n",
    "\n",
    "## Liste en extension\n",
    "\n",
    "C'est ce qui a été vu plus haut. En écrivant `L = [2, 3, 5, 1, 7]` on crée une liste `L` par extension en écrivant directement les valeurs des différents éléments de la liste.\n",
    "\n",
    "## Par ajouts successifs\n",
    "\n",
    "On peut aussi créer une liste par ajouts successifs "
   ]
  }
 ],
 "metadata": {
  "kernelspec": {
   "display_name": "Python 3",
   "language": "python",
   "name": "python3"
  },
  "language_info": {
   "codemirror_mode": {
    "name": "ipython",
    "version": 3
   },
   "file_extension": ".py",
   "mimetype": "text/x-python",
   "name": "python",
   "nbconvert_exporter": "python",
   "pygments_lexer": "ipython3",
   "version": "3.7.9"
  }
 },
 "nbformat": 4,
 "nbformat_minor": 5
}
