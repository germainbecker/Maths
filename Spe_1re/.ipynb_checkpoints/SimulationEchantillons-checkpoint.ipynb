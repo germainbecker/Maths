{
 "cells": [
  {
   "cell_type": "markdown",
   "id": "chronic-julian",
   "metadata": {
    "deletable": false,
    "editable": false
   },
   "source": [
    "<h1 style=\"font-size: 30px; text-align: center\">TP 6 : Simulation d'échantillons d'une variable aléatoire</h1>\n",
    "\n",
    "---"
   ]
  },
  {
   "cell_type": "markdown",
   "id": "artificial-suite",
   "metadata": {
    "deletable": false,
    "editable": false
   },
   "source": [
    "# I. Simuler une variable aléatoire avec Python"
   ]
  },
  {
   "cell_type": "markdown",
   "id": "competent-think",
   "metadata": {
    "deletable": false,
    "editable": false
   },
   "source": [
    "<div style=\"box-shadow: 1px 1px 5px #333; padding: 5px;\"><span><strong style=\"background-color: black; color: white; padding: 0px;\" >Définition</strong></span>\n",
    "    <p><strong>Simuler une expérience aléatoire</strong>, c’est la remplacer par une autre expérience qui conduit aux mêmes résultats dans les mêmes conditions.\n",
    "        <br><strong>Simuler une variable aléatoire</strong> définie à partir d’une expérience aléatoire revient donc à simuler l’expérience aléatoire pour obtenir une valeur de la variable aléatoire.</p>\n",
    "</div>"
   ]
  },
  {
   "cell_type": "markdown",
   "id": "greek-hawaiian",
   "metadata": {
    "deletable": false,
    "editable": false
   },
   "source": [
    "> On va utiliser Python pour simuler des expériences aléatoires (on pourrait aussi utiliser un tableur, ou des pièces de monnaies, des dés, etc.)\n",
    "\n",
    "## Exemple\n",
    "\n",
    "On veut simuler le jeu classique du « Pile ou Face » d’une pièce bien équilibrée. On sait que les probabilités des deux issues (P et F) sont égales (à 0,5).\n",
    "\n",
    "Pour simuler cette expérience avec Python, on peut générer aléatoirement un entier `a` égal à 0 ou 1 et poser la convention (0 ↔ Pile) et (1 ↔ Face). On peut utiliser pour cela la fonction `randint` du module `random`. La fonction `pile_ou_face` suivante permet de simuler l’expérience aléatoire."
   ]
  },
  {
   "cell_type": "code",
   "execution_count": null,
   "id": "animal-aberdeen",
   "metadata": {},
   "outputs": [],
   "source": [
    "# pensez à exécuter le code de cette cellule\n",
    "\n",
    "from random import randint\n",
    "\n",
    "def pile_ou_face():\n",
    "    a = randint(0, 1)\n",
    "    if a == 0:\n",
    "        piece = \"P\"\n",
    "    else:\n",
    "        piece = \"F\"\n",
    "    return piece"
   ]
  },
  {
   "cell_type": "markdown",
   "id": "allied-schema",
   "metadata": {
    "deletable": false,
    "editable": false
   },
   "source": [
    "**Remarques** : \n",
    "- l'instruction `randint(0, 1)` renvoie un entier aléatoire compris entre 0 et 1.\n",
    "- De manière générale, `randint(m, n)` renvoie un entier aléatoire compris entre `m` et `n`.\n",
    "\n",
    "On peut alors appeler la fonction pour simuler l'expérience aléatoire et voir le résultat obtenu :"
   ]
  },
  {
   "cell_type": "code",
   "execution_count": null,
   "id": "systematic-abortion",
   "metadata": {},
   "outputs": [],
   "source": [
    "# exécutez la cellule plusieurs fois pour simuler plusieurs fois l'expérience\n",
    "pile_ou_face()"
   ]
  },
  {
   "cell_type": "markdown",
   "id": "lyric-knock",
   "metadata": {
    "deletable": false,
    "editable": false
   },
   "source": [
    "On peut aussi générer aléatoirement un nombre décimal `a` compris entre 0 et 1 et poser la convention (`a < 0.5` ↔ Pile) et (`a >= 0.5` ↔ Face). On peut utiliser pour cela la fonction `random` du module `random`. Voici donc une autre fonction `pile_ou_face_bis` qui simule notre expérience :\n"
   ]
  },
  {
   "cell_type": "code",
   "execution_count": null,
   "id": "spectacular-norway",
   "metadata": {},
   "outputs": [],
   "source": [
    "from random import random\n",
    "\n",
    "def pile_ou_face_bis():\n",
    "    a = random()\n",
    "    if a < 0.5:\n",
    "        piece = \"P\"\n",
    "    else:\n",
    "        piece = \"F\"\n",
    "    return piece\n",
    "\n",
    "# pensez à exécuter la cellule"
   ]
  },
  {
   "cell_type": "markdown",
   "id": "professional-central",
   "metadata": {
    "deletable": false,
    "editable": false
   },
   "source": [
    "**Remarque** : l'instruction `random()` renvoie un nombre décimal aléatoire compris entre 0 et 1\n",
    "\n",
    "On peut aussi appeler cette seconde fonction pour simuler notre expérience."
   ]
  },
  {
   "cell_type": "code",
   "execution_count": null,
   "id": "utility-fight",
   "metadata": {},
   "outputs": [],
   "source": [
    "# exécutez la cellule plusieurs fois pour simuler plusieurs fois l'expérience\n",
    "pile_ou_face_bis()"
   ]
  },
  {
   "cell_type": "markdown",
   "id": "royal-keyboard",
   "metadata": {
    "deletable": false,
    "editable": false
   },
   "source": [
    "## Exercice 1\n",
    "\n",
    "Une roulette est formée de 10 cases, 1 case rouge et 9 cases noires. Lorsque la case rouge sort, on gagne 100 €, sinon on perd 12 €.\n",
    "$X$ est la variable aléatoire qui donne le gain algébrique du joueur. \n",
    "On veut écrire une fonction appelée `gain` qui simule la variable aléatoire X. Une version incomplète est donnée ci-dessous."
   ]
  },
  {
   "cell_type": "code",
   "execution_count": null,
   "id": "available-session",
   "metadata": {},
   "outputs": [],
   "source": [
    "from random import randint\n",
    "\n",
    "def gain():\n",
    "    a = randint(..., ...)\n",
    "    if a == 1:\n",
    "        x = 100\n",
    "    else:\n",
    "        x = ...\n",
    "    return ..."
   ]
  },
  {
   "cell_type": "markdown",
   "id": "growing-arrival",
   "metadata": {
    "deletable": false,
    "editable": false
   },
   "source": [
    "**Question 1** : Remplacez ci-dessus les pointillés par les bonnes instructions puis exécutez le code pour mémoriser la fonction.\n",
    "\n",
    "**Question 2** : Appelez plusieurs fois cette fonction pour simuler plusieurs parties :"
   ]
  },
  {
   "cell_type": "code",
   "execution_count": null,
   "id": "searching-contribution",
   "metadata": {},
   "outputs": [],
   "source": [
    "# Appel à faire ici :\n"
   ]
  },
  {
   "cell_type": "markdown",
   "id": "exclusive-chorus",
   "metadata": {
    "deletable": false,
    "editable": false
   },
   "source": [
    "## Exercice 2\n",
    "\n",
    "On lance un dé équilibré dont les faces sont numérotées de 1 à 6. La variable aléatoire $X$ donne le gain du joueur : on gagne 10 € s’il sort un numéro supérieur ou égal à 5, on perd 5 € sinon.\n",
    "\n",
    "**Question 1** : Recopiez et adaptez la fonction `gain` de l’exercice précédent pour qu’elle simule cette nouvelle variable aléatoire $X$."
   ]
  },
  {
   "cell_type": "code",
   "execution_count": null,
   "id": "objective-conservation",
   "metadata": {},
   "outputs": [],
   "source": [
    "# à vous de jouer (n'oubliez pas d'exécuter le code lorsque la fonction est écrite) :\n"
   ]
  },
  {
   "cell_type": "markdown",
   "id": "intellectual-amsterdam",
   "metadata": {
    "deletable": false,
    "editable": false
   },
   "source": [
    "**Question 2** :  Appelez plusieurs fois cette fonction pour simuler plusieurs parties :"
   ]
  },
  {
   "cell_type": "code",
   "execution_count": null,
   "id": "loaded-explorer",
   "metadata": {},
   "outputs": [],
   "source": [
    "# Appel à faire ici :\n"
   ]
  },
  {
   "cell_type": "markdown",
   "id": "paperback-baseball",
   "metadata": {
    "deletable": false,
    "editable": false
   },
   "source": [
    "# II.  Simuler un échantillon"
   ]
  },
  {
   "cell_type": "markdown",
   "id": "unavailable-omaha",
   "metadata": {},
   "source": [
    "<div style=\"box-shadow: 1px 1px 5px #333; padding: 5px;\"><span><strong style=\"background-color: black; color: white; padding: 0px;\" >Définition</strong></span>\n",
    "    <p>Pour une expérience aléatoire, un échantillon de taille $n$ est la liste des $n$ résultats obtenus lorsque l’on répète $n$ fois de façon indépendante cette expérience.\n",
    "        <br>De la même manière, un <strong>échantillon de taille $n$ d’une variable aléatoire</strong> est la liste des $n$ valeurs de la variable aléatoire si on la simule $n$ fois de façon indépendante.</p>\n",
    "</div>"
   ]
  },
  {
   "cell_type": "markdown",
   "id": "sudden-football",
   "metadata": {
    "deletable": false,
    "editable": false
   },
   "source": [
    "Dans les exemples précédents il était nécessaire d’appeler plusieurs fois la fonction « manuellement » pour simuler plusieurs fois l’expérience ou la variable aléatoire et ainsi obtenir un échantillon. Comme c’est fastidieux de procéder ainsi, on va préférer automatiser la création d’un échantillon.\n",
    "\n",
    ">On va pour cela s’appuyer sur la notion de _liste_ en Python"
   ]
  },
  {
   "cell_type": "markdown",
   "id": "nasty-impression",
   "metadata": {
    "deletable": false,
    "editable": false
   },
   "source": [
    "## Exemple\n",
    "\n",
    "On veut simuler un échantillon de taille $n$ de notre expérience aléatoire du « Pile ou Face ». La fonction `echantillon` donnée ci-dessous utilise $n$ fois la fonction `pile_ou_face` pour simuler un tel échantillon.\n",
    "\n",
    "```python\n",
    "def echantillon(n):\n",
    "    L = []  # création d'une liste vide L\n",
    "    for k in range(n):  # on répète n fois la simulation\n",
    "        x = pile_ou_face()  # x est le résultat d'une simulation (ici \"P\" ou \"F\")\n",
    "        L.append(x)  # on ajoute x à la liste L\n",
    "    return L  # on renvoie la liste L qui est notre échantillon\n",
    "```\n",
    "\n",
    "**Explications** : la fonction crée une liste vide `L` au départ (grâce aux crochets vides `[]`), puis simule n fois l’expérience aléatoire en stockant les n résultats obtenus dans la liste `L` par ajouts successifs grâce à l’instruction `append()`.\n",
    "\n"
   ]
  },
  {
   "cell_type": "markdown",
   "id": "imported-inquiry",
   "metadata": {
    "deletable": false,
    "editable": false
   },
   "source": [
    "## Exercice 3\n",
    "\n",
    "**Question 1** : Exécutez le code ci-dessous pour mémoriser cette nouvelle fonction."
   ]
  },
  {
   "cell_type": "code",
   "execution_count": null,
   "id": "processed-tribute",
   "metadata": {},
   "outputs": [],
   "source": [
    "from random import randint\n",
    "\n",
    "def pile_ou_face():  # on a juste recopié la fonction pile_ou_face donnée précédemment\n",
    "    a = randint(0, 1)\n",
    "    if a == 0:\n",
    "        piece = \"P\"\n",
    "    else:\n",
    "        piece = \"F\"\n",
    "    return piece\n",
    "\n",
    "def echantillon(n):\n",
    "    L = []  # création d'une liste vide L\n",
    "    for k in range(n):  # on répète n fois la simulation\n",
    "        x = pile_ou_face()  # x est le résultat d'une simulation (ici \"P\" ou \"F\")\n",
    "        L.append(x)  # on ajoute x à la liste L\n",
    "    return L  # on renvoie la liste L qui est notre échantillon"
   ]
  },
  {
   "cell_type": "markdown",
   "id": "joined-medline",
   "metadata": {
    "deletable": false,
    "editable": false
   },
   "source": [
    "**Question 2** : Appelez la fonction `echantillon` ci-dessous pour créer un échantillon de taille 5, puis un autre en exécutant à nouveau la cellule."
   ]
  },
  {
   "cell_type": "code",
   "execution_count": null,
   "id": "federal-surfing",
   "metadata": {},
   "outputs": [],
   "source": [
    "# à vous de jouer :\n"
   ]
  },
  {
   "cell_type": "markdown",
   "id": "underlying-beaver",
   "metadata": {
    "deletable": false,
    "editable": false
   },
   "source": [
    "**Question 3** : Faites de même pour créer un échantillon de taille 100 puis d'autres en exécutant plusieurs fois la cellule (pour faire différents appels)."
   ]
  },
  {
   "cell_type": "code",
   "execution_count": null,
   "id": "blessed-preservation",
   "metadata": {},
   "outputs": [],
   "source": [
    "# à vous de jouer :\n"
   ]
  },
  {
   "cell_type": "markdown",
   "id": "balanced-amsterdam",
   "metadata": {
    "deletable": false,
    "editable": false
   },
   "source": [
    ">Vous pouvez cliquer sur ce [lien](http://pythontutor.com/visualize.html#code=from%20random%20import%20randint%0A%0Adef%20pile_ou_face%28%29%3A%0A%20%20%20%20a%20%3D%20randint%280,%201%29%0A%20%20%20%20if%20a%20%3D%3D%200%3A%0A%20%20%20%20%20%20%20%20piece%20%3D%20%22P%22%0A%20%20%20%20else%3A%0A%20%20%20%20%20%20%20%20piece%20%3D%20%22F%22%0A%20%20%20%20return%20piece%0A%0Adef%20echantillon%28n%29%3A%0A%20%20%20%20L%20%3D%20%5B%5D%0A%20%20%20%20for%20k%20in%20range%28n%29%3A%0A%20%20%20%20%20%20%20%20x%20%3D%20pile_ou_face%28%29%0A%20%20%20%20%20%20%20%20L.append%28x%29%0A%20%20%20%20return%20L%0A%0A%23%20appel%20pour%20cr%C3%A9er%20un%20%C3%A9chantillon%20%28de%20taille%204%29%0Aechantillon%284%29&cumulative=false&curInstr=4&heapPrimitives=nevernest&mode=display&origin=opt-frontend.js&py=3&rawInputLstJSON=%5B%5D&textReferences=false) pour ouvrir le code avec Pythontutor et visualiser la construction d’un échantillon étape par étape en cliquant sur le bouton `Next >`"
   ]
  },
  {
   "cell_type": "markdown",
   "id": "executive-hawaiian",
   "metadata": {
    "deletable": false,
    "editable": false
   },
   "source": [
    "## Exercice 4\n",
    "\n",
    "On reprend l’expérience et la variable aléatoire $X$ de l’exercice 1 dont on rappelle le contexte ci-dessous.\n",
    "\n",
    "_Une roulette est formée de 10 cases, 1 case rouge et 9 cases noires. Lorsque la case rouge sort, on gagne 100 €, sinon on perd 12 €.\n",
    "$X$ est la variable aléatoire qui donne le gain algébrique du joueur._\n",
    "\n",
    ">L’objectif est de simuler un échantillon de taille $n$ de la variable aléatoire X."
   ]
  },
  {
   "cell_type": "markdown",
   "id": "ordinary-donor",
   "metadata": {
    "deletable": false,
    "editable": false
   },
   "source": [
    "**Question 1** : On a recopié ci-dessous le code de la fonction `gain` (voir exercice 1) et le code incomplet d'une fonction `echantillon`. Complétez la fonction `echantillon` pour qu’elle simule un échantillon de taille $n$ de la variable aléatoire X."
   ]
  },
  {
   "cell_type": "code",
   "execution_count": null,
   "id": "hazardous-information",
   "metadata": {},
   "outputs": [],
   "source": [
    "from random import randint\n",
    "\n",
    "def gain():\n",
    "    a = randint(1, 10)\n",
    "    if a == 1:\n",
    "        x = 100\n",
    "    else:\n",
    "        x = -12\n",
    "    return x\n",
    "\n",
    "# à compléter :\n",
    "def echantillon(n):\n",
    "    L = []\n",
    "    for k in range(...):\n",
    "        x = ...\n",
    "        L.append(x)\n",
    "    return L"
   ]
  },
  {
   "cell_type": "markdown",
   "id": "timely-eligibility",
   "metadata": {
    "deletable": false,
    "editable": false
   },
   "source": [
    "**Question 2** : Après avoir exécutez la cellule ci-dessus avec les fonctions, appelez la fonction `echantillon` dans la console pour simuler un échantillon de taille 10 de la variable aléatoire $X$. Simulez ensuite des échantillons plus grands."
   ]
  },
  {
   "cell_type": "code",
   "execution_count": null,
   "id": "substantial-infrastructure",
   "metadata": {},
   "outputs": [],
   "source": [
    "# à vous de jouer :\n"
   ]
  },
  {
   "cell_type": "markdown",
   "id": "baking-honey",
   "metadata": {
    "deletable": false,
    "editable": false
   },
   "source": [
    "# III. Renvoyer la moyenne d'un échantillon\n",
    "\n",
    "À partir d’un échantillon d’une variable aléatoire, on peut facilement calculer la moyenne des valeurs stockées dans la liste. La fonction `moyenne` ci-dessous utilise la fonction `echantillon` pour créer un échantillon de taille $n$, puis calcule et renvoie la moyenne de l’échantillon.\n",
    "\n",
    "```python\n",
    "def moyenne(n):\n",
    "    L = echantillon(n)  # construction d'un échantillon de taille n\n",
    "    s = sum(L)  # somme des valeurs de l'échantillon\n",
    "    m = s / n  # la moyenne est la somme divisée par la taille n de l'échantillon\n",
    "    return m  # on renvoie la moyenne\n",
    "```"
   ]
  },
  {
   "cell_type": "markdown",
   "id": "stock-conservative",
   "metadata": {
    "deletable": false,
    "editable": false
   },
   "source": [
    "**Explications** : La fonction `sum` de Python utilisée ici renvoie la somme des valeurs d'une liste. Pour obtenir la moyenne il faut diviser la somme `s` des valeurs par la taille $n$ de l’échantillon."
   ]
  },
  {
   "cell_type": "markdown",
   "id": "elegant-prairie",
   "metadata": {
    "deletable": false,
    "editable": false
   },
   "source": [
    "## Exercice 5\n",
    "\n",
    "On reprend le contexte de l’exercice 1 que l’on rappelle ci-dessous.\n",
    "\n",
    "_Une roulette est formée de 10 cases, 1 case rouge et 9 cases noires. Lorsque la case rouge sort, on gagne 100 €, sinon on perd 12 €. X est la variable aléatoire qui donne le gain algébrique du joueur._\n",
    "\n",
    "**Question 1** : Exécutez le code ci-dessous pour mémoriser cette nouvelle fonction `moyenne`."
   ]
  },
  {
   "cell_type": "code",
   "execution_count": null,
   "id": "important-knock",
   "metadata": {},
   "outputs": [],
   "source": [
    "from random import randint\n",
    "\n",
    "def gain():  # on a juste recopié la fonction gain donnée précédemment\n",
    "    a = randint(1, 10)\n",
    "    if a == 1:\n",
    "        x = 100\n",
    "    else:\n",
    "        x = -12\n",
    "    return x\n",
    "\n",
    "def echantillon(n):  # on a juste recopié la fonction echantillon donnée précédemment\n",
    "    L = []\n",
    "    for k in range(n):\n",
    "        x = gain()\n",
    "        L.append(x)\n",
    "    return L\n",
    "\n",
    "def moyenne(n):  # on a juste recopié la fonction moyenne donnée précédemment\n",
    "    L = echantillon(n)\n",
    "    s = sum(L)\n",
    "    m = s / n\n",
    "    return m\n"
   ]
  },
  {
   "cell_type": "markdown",
   "id": "indonesian-involvement",
   "metadata": {
    "deletable": false,
    "editable": false
   },
   "source": [
    "**Question 2** : Appelez plusieurs fois la fonction `moyenne` pour calculer la moyenne de la variable aléatoire $X$ (le gain moyen) pour des échantillons de taille 100. Le gain moyen varie-t-il beaucoup d’un échantillon à un autre ?"
   ]
  },
  {
   "cell_type": "code",
   "execution_count": null,
   "id": "outer-encyclopedia",
   "metadata": {},
   "outputs": [],
   "source": [
    "# à vous de jouer :\n"
   ]
  },
  {
   "cell_type": "markdown",
   "id": "invalid-iceland",
   "metadata": {
    "deletable": false,
    "editable": false
   },
   "source": [
    "**Question 3 (à faire sur votre feuille !!)** :\n",
    "\n",
    "1. Déterminez la loi de probabilité de $X$.\n",
    "2. Déterminez l’espérance de la variable aléatoire $X$. Interpréter le résultat."
   ]
  },
  {
   "cell_type": "markdown",
   "id": "meaningful-jewel",
   "metadata": {
    "deletable": false,
    "editable": false
   },
   "source": [
    "**Question 4** : La fonction `distance` suivante renvoie la distance entre la moyenne d’un échantillon de $X$ de taille $n$ et l’espérance de $X$. \n",
    "\n",
    "```python\n",
    "def distance(n):\n",
    "    e = -0.8\n",
    "    d = abs(moyenne(n)-e)  # abs = valeur absolue\n",
    "    return d\n",
    "```\n",
    "\n",
    "\n",
    "Recopiez cette fonction à la suite des autres dans le programme Python ci-dessous."
   ]
  },
  {
   "cell_type": "code",
   "execution_count": null,
   "id": "russian-dinner",
   "metadata": {},
   "outputs": [],
   "source": [
    "from random import randint\n",
    "\n",
    "def gain():  # on a juste recopié la fonction gain donnée précédemment\n",
    "    a = randint(1, 10)\n",
    "    if a == 1:\n",
    "        x = 100\n",
    "    else:\n",
    "        x = -12\n",
    "    return x\n",
    "\n",
    "def echantillon(n):  # on a juste recopié la fonction echantillon donnée précédemment\n",
    "    L = []\n",
    "    for k in range(n):\n",
    "        x = gain()\n",
    "        L.append(x)\n",
    "    return L\n",
    "\n",
    "def moyenne(n):  # on a juste recopié la fonction moyenne donnée précédemment\n",
    "    L = echantillon(n)\n",
    "    s = sum(L)\n",
    "    m = s / n\n",
    "    return m\n",
    "\n",
    "# recopiez ici la fonction distance :\n"
   ]
  },
  {
   "cell_type": "markdown",
   "id": "directed-learning",
   "metadata": {
    "deletable": false,
    "editable": false
   },
   "source": [
    "**Question 5** : Exécutez l’ensemble du programme ci-dessus puis appelez la fonction `distance` avec des valeurs de `n` de plus en plus grandes. Commentez les résultats obtenus"
   ]
  },
  {
   "cell_type": "code",
   "execution_count": null,
   "id": "searching-interaction",
   "metadata": {},
   "outputs": [],
   "source": [
    "# à vous de jouer :\n"
   ]
  },
  {
   "cell_type": "markdown",
   "id": "cathedral-confusion",
   "metadata": {
    "deletable": false,
    "editable": false
   },
   "source": [
    "## Exercice 6\n",
    "\n",
    "On reprend le contexte de l’exercice 2 que l’on rappelle ci-dessous.\n",
    "\n",
    "_On lance un dé équilibré dont les faces sont numérotées de 1 à 6. La variable aléatoire $X$ donne le gain du joueur : on gagne 10 € s’il sort un numéro supérieur ou égal à 5, on perd 5 € sinon._\n"
   ]
  },
  {
   "cell_type": "markdown",
   "id": "gothic-newspaper",
   "metadata": {
    "deletable": false,
    "editable": false
   },
   "source": [
    "**Question 1 (à faire sur votre feuille !!)** :\n",
    "\n",
    "1. Déterminez la loi de probabilité de $X$.\n",
    "2. Déterminez l’espérance de la variable aléatoire $X$. Interpréter le résultat. \n",
    "\n",
    "**Question 2** : Adaptez le programme de l'exercice 5 (question 4) pour créer les fonctions `gains`, `echantillon`, `moyenne` et `distance` correspondant à la variable aléatoire $X$ de cet exercice."
   ]
  },
  {
   "cell_type": "code",
   "execution_count": null,
   "id": "short-fifth",
   "metadata": {},
   "outputs": [],
   "source": [
    "# à vous de jouer :\n"
   ]
  },
  {
   "cell_type": "markdown",
   "id": "attempted-finish",
   "metadata": {
    "deletable": false,
    "editable": false
   },
   "source": [
    ">N'oubliez pas d'exécuter le code ci-dessus avant de poursuivre.\n",
    "\n",
    "**Question 3** : Vérifiez qu’en augmentant la taille de l’échantillon de $X$, le gain moyen se rapproche de plus en plus de l’espérance de $X$."
   ]
  },
  {
   "cell_type": "code",
   "execution_count": null,
   "id": "muslim-capital",
   "metadata": {},
   "outputs": [],
   "source": [
    "# à vous de jouer :\n"
   ]
  },
  {
   "cell_type": "markdown",
   "id": "paperback-transaction",
   "metadata": {
    "deletable": false,
    "editable": false
   },
   "source": [
    "## Exercice 7\n",
    "\n",
    "Dans une liste Python, chaque élément a une position. Par exemple, dans la liste `L` suivante le premier élément (qui est 4) est en position 0, le deuxième élément (qui est 2) est en position 1, etc."
   ]
  },
  {
   "cell_type": "code",
   "execution_count": null,
   "id": "ambient-wealth",
   "metadata": {},
   "outputs": [],
   "source": [
    "L = [4, 2, 3, -1, 5, 4, 2] # à exécuter !"
   ]
  },
  {
   "cell_type": "markdown",
   "id": "muslim-sauce",
   "metadata": {
    "deletable": false,
    "editable": false
   },
   "source": [
    "On peut ainsi accéder à chaque élément d’une liste `L` grâce à sa position. Par exemple, `L[0]` renvoie la valeur 4, `L[1]` renvoie la valeur 2, etc. Vous pouvez vérifier cela en exécutant les cellules ci-dessous"
   ]
  },
  {
   "cell_type": "code",
   "execution_count": null,
   "id": "competent-whale",
   "metadata": {},
   "outputs": [],
   "source": [
    "L[0]"
   ]
  },
  {
   "cell_type": "code",
   "execution_count": null,
   "id": "according-hawaii",
   "metadata": {},
   "outputs": [],
   "source": [
    "L[1]"
   ]
  },
  {
   "cell_type": "code",
   "execution_count": null,
   "id": "color-break",
   "metadata": {},
   "outputs": [],
   "source": [
    "L[5]"
   ]
  },
  {
   "cell_type": "markdown",
   "id": "outdoor-croatia",
   "metadata": {
    "deletable": false,
    "editable": false
   },
   "source": [
    "On considère la fonction Python suivante\n",
    "\n",
    "```python\n",
    "def mystere(L):\n",
    "\tn = len(L)  # n est égal à la taille de la liste L (= son nombre d'éléments)\n",
    "\ts = 0\n",
    "\tfor k in range(n):\n",
    "\t\ts = s + L[k]\n",
    "\treturn s\n",
    "```"
   ]
  },
  {
   "cell_type": "markdown",
   "id": "completed-creation",
   "metadata": {
    "deletable": false,
    "editable": false
   },
   "source": [
    "**Question 1 (à votre sur votre feuille !!)** :\n",
    "\n",
    "1. On fait l’appel `mystere([2, 1, -1, 2, 3])`. Que vaut la variable `n` dans ce cas ? Et quelles sont alors les valeurs prises par la variable `k` crée par la boucle `for` ?\n",
    "2. Complétez autant que nécessaire le tableau des valeurs successives des différentes variables ci-dessous lors de l’appel `mystere([2, 1, -1, 2, 3])`.\n",
    "\n",
    "<table style=\"border: 1px solid black; background-color: white;\">\n",
    "    <thead>\n",
    "        <tr>\n",
    "            <th style=\"border: 1px solid; text-align:center; background-color: white;\">Tour de boucle</th>\n",
    "            <th style=\"border: 1px solid; text-align:center; background-color: white;\"><code>k</code></th>\n",
    "            <th style=\"border: 1px solid; text-align:center; background-color: white;\"><code>L[k]</code></th>\n",
    "            <th style=\"border: 1px solid; text-align:center; background-color: white;\"><code>s</code></th>\n",
    "        </tr>\n",
    "    </thead>\n",
    "    <tbody>\n",
    "        <tr>\n",
    "            <td style=\"border: 1px solid; text-align:center; background-color: #eee;\"></td>\n",
    "            <td style=\"border: 1px solid; text-align:center; background-color: #eee;\"></td>\n",
    "            <td style=\"border: 1px solid; text-align:center; background-color: #eee;\"></td>\n",
    "            <td style=\"border: 1px solid; text-align:center; background-color: white;\">0</td>\n",
    "        </tr>\n",
    "        <tr>\n",
    "            <th style=\"border: 1px solid; text-align:center; background-color: white; font-weight: normal;\">1er</th>\n",
    "            <th style=\"border: 1px solid; text-align:center; background-color: white; font-weight: normal;\">0</th>\n",
    "            <th style=\"border: 1px solid; text-align:center; background-color: white;\"></th>\n",
    "            <th style=\"border: 1px solid; text-align:center; background-color: white;\"></th>\n",
    "        </tr>\n",
    "        <tr>\n",
    "            <th style=\"border: 1px solid; text-align:center; background-color: white;\">...</th>\n",
    "            <th style=\"border: 1px solid; text-align:center; background-color: white;\"></th>\n",
    "            <th style=\"border: 1px solid; text-align:center; background-color: white;\"></th>\n",
    "            <th style=\"border: 1px solid; text-align:center; background-color: white;\"></th>\n",
    "        </tr>\n",
    "        <tr>\n",
    "            <th style=\"border: 1px solid; text-align:center; background-color: white;\">...</th>\n",
    "            <th style=\"border: 1px solid; text-align:center; background-color: white;\"></th>\n",
    "            <th style=\"border: 1px solid; text-align:center; background-color: white;\"></th>\n",
    "            <th style=\"border: 1px solid; text-align:center; background-color: white;\"></th>\n",
    "        </tr>\n",
    "        <tr>\n",
    "            <th style=\"border: 1px solid; text-align:center; background-color: white;\">...</th>\n",
    "            <th style=\"border: 1px solid; text-align:center; background-color: white;\"></th>\n",
    "            <th style=\"border: 1px solid; text-align:center; background-color: white;\"></th>\n",
    "            <th style=\"border: 1px solid; text-align:center; background-color: white;\"></th>\n",
    "        </tr>\n",
    "        <tr>\n",
    "            <th style=\"border: 1px solid; text-align:center; background-color: white;\">...</th>\n",
    "            <th style=\"border: 1px solid; text-align:center; background-color: white;\"></th>\n",
    "            <th style=\"border: 1px solid; text-align:center; background-color: white;\"></th>\n",
    "            <th style=\"border: 1px solid; text-align:center; background-color: white;\"></th>\n",
    "        </tr>\n",
    "        <tr>\n",
    "            <th style=\"border: 1px solid; text-align:center; background-color: white;\">...</th>\n",
    "            <th style=\"border: 1px solid; text-align:center; background-color: white;\"></th>\n",
    "            <th style=\"border: 1px solid; text-align:center; background-color: white;\"></th>\n",
    "            <th style=\"border: 1px solid; text-align:center; background-color: white;\"></th>\n",
    "        </tr>        \n",
    "    </tbody>\n",
    "</table>\n",
    "\t\t\t\n",
    "3. En déduire la valeur renvoyée par cet appel.\n",
    "4. Quel est le rôle de cette fonction ?\n",
    "5. Dans les exercices précédents, on a utilisé une fonction prédéfinie du langage Python qui a le même rôle que cette fonction `mystere`, laquelle ?\n",
    "\n",
    "**Question 2** : Vérifiez vos réponses précédentes en écrivant ci-dessous cette fonction et en faisant l’appel demandé, et d’autres, pour vérifier.\t\n"
   ]
  },
  {
   "cell_type": "code",
   "execution_count": null,
   "id": "turkish-contemporary",
   "metadata": {},
   "outputs": [],
   "source": [
    "# à vous de jouer :\n"
   ]
  },
  {
   "cell_type": "markdown",
   "id": "incorporated-durham",
   "metadata": {
    "deletable": false,
    "editable": false
   },
   "source": [
    "---\n",
    "\n",
    "Germain BECKER, Lycée Mounier, ANGERS \n",
    "\n",
    "![Licence Creative Commons](https://i.creativecommons.org/l/by-nc-sa/4.0/88x31.png)\n"
   ]
  }
 ],
 "metadata": {
  "celltoolbar": "Aucun(e)",
  "kernelspec": {
   "display_name": "Python 3",
   "language": "python",
   "name": "python3"
  },
  "language_info": {
   "codemirror_mode": {
    "name": "ipython",
    "version": 3
   },
   "file_extension": ".py",
   "mimetype": "text/x-python",
   "name": "python",
   "nbconvert_exporter": "python",
   "pygments_lexer": "ipython3",
   "version": "3.7.9"
  }
 },
 "nbformat": 4,
 "nbformat_minor": 5
}
