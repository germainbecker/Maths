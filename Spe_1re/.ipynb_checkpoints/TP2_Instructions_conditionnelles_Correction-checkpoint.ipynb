{
 "cells": [
  {
   "cell_type": "markdown",
   "id": "0fecef2f",
   "metadata": {},
   "source": [
    "<h1 style=\"font-size: 30px; text-align: center\">CORRECTION - TP 2 : Instructions conditionnelles</h1>\n",
    "\n",
    "---"
   ]
  },
  {
   "cell_type": "markdown",
   "id": "a50db8f6",
   "metadata": {},
   "source": [
    "## 🖊️ Exercice 1 : Réinvestissement TP1\n",
    " "
   ]
  },
  {
   "cell_type": "code",
   "execution_count": 2,
   "id": "556a1a61",
   "metadata": {},
   "outputs": [],
   "source": [
    "# CORRECTION Q1\n",
    "def discriminant(a, b, c):\n",
    "    delta = b**2 - 4*a*c\n",
    "    return delta"
   ]
  },
  {
   "cell_type": "code",
   "execution_count": 3,
   "id": "bce33068",
   "metadata": {},
   "outputs": [
    {
     "data": {
      "text/plain": [
       "9"
      ]
     },
     "execution_count": 3,
     "metadata": {},
     "output_type": "execute_result"
    }
   ],
   "source": [
    "# CORRECTION Q2\n",
    "discriminant(5, -7, 2)"
   ]
  },
  {
   "cell_type": "code",
   "execution_count": 4,
   "id": "4dd1ebfa",
   "metadata": {},
   "outputs": [
    {
     "data": {
      "text/plain": [
       "-104"
      ]
     },
     "execution_count": 4,
     "metadata": {},
     "output_type": "execute_result"
    }
   ],
   "source": [
    "# CORRECTION Q2\n",
    "discriminant(6, 4, 5)"
   ]
  },
  {
   "cell_type": "code",
   "execution_count": 5,
   "id": "a01e8a0c",
   "metadata": {},
   "outputs": [
    {
     "data": {
      "text/plain": [
       "0"
      ]
     },
     "execution_count": 5,
     "metadata": {},
     "output_type": "execute_result"
    }
   ],
   "source": [
    "# CORRECTION Q2\n",
    "discriminant(1, 2, 1)"
   ]
  },
  {
   "cell_type": "markdown",
   "id": "4cbff857",
   "metadata": {},
   "source": [
    "# II. Exercices"
   ]
  },
  {
   "cell_type": "markdown",
   "id": "b52ce2b1",
   "metadata": {},
   "source": [
    "## 🖊️ Exercice 2\n"
   ]
  },
  {
   "cell_type": "markdown",
   "id": "c19b5794",
   "metadata": {},
   "source": [
    "**CORRECTION**\n",
    "\n",
    "1. Elle s'appelle `prix_entree`, possède 2 paramètres : `taille` et `age`.\n",
    "2. La condition `taille < 1.30` est fausse donc on est dans le cas du `else`. Le prix est : $18 \\times 1,1 = 19,8$ euros.\n",
    "3. La condition `taille < 1.30` est vraie donc on est dans le cas du `if`. Le prix est : $8 \\times 0,5 = 4$ euros.\n",
    "4. On teste au début si la condition `taille < 0.90` est vraie. Dans l'affirmative la variable `prix` doit valoir 0. On modifie le `if taille < 1.30` en `elif taille < 1.30`."
   ]
  },
  {
   "cell_type": "code",
   "execution_count": 6,
   "id": "239f3030",
   "metadata": {},
   "outputs": [],
   "source": [
    "# Q5 : CORRECTION\n",
    "\n",
    "def prix_entree(taille, age):\n",
    "    if taille < 0.90:\n",
    "        prix = 0\n",
    "    elif taille < 1.30:\n",
    "        prix = age * 0.5\n",
    "    else:\n",
    "        prix = age * 1.1\n",
    "    return prix"
   ]
  },
  {
   "cell_type": "code",
   "execution_count": 7,
   "id": "5862d9a7",
   "metadata": {},
   "outputs": [
    {
     "data": {
      "text/plain": [
       "19.8"
      ]
     },
     "execution_count": 7,
     "metadata": {},
     "output_type": "execute_result"
    }
   ],
   "source": [
    "prix_entree(1.82, 18)"
   ]
  },
  {
   "cell_type": "code",
   "execution_count": 8,
   "id": "eef0b278",
   "metadata": {},
   "outputs": [
    {
     "data": {
      "text/plain": [
       "4.0"
      ]
     },
     "execution_count": 8,
     "metadata": {},
     "output_type": "execute_result"
    }
   ],
   "source": [
    "prix_entree(1.20, 8)"
   ]
  },
  {
   "cell_type": "code",
   "execution_count": 9,
   "id": "7ae3b9ca",
   "metadata": {},
   "outputs": [
    {
     "data": {
      "text/plain": [
       "0"
      ]
     },
     "execution_count": 9,
     "metadata": {},
     "output_type": "execute_result"
    }
   ],
   "source": [
    "prix_entree(0.85, 4)"
   ]
  },
  {
   "cell_type": "markdown",
   "id": "2d07656c",
   "metadata": {},
   "source": [
    "## 🖊️ Exercice 3"
   ]
  },
  {
   "cell_type": "code",
   "execution_count": 10,
   "id": "27268e58",
   "metadata": {},
   "outputs": [],
   "source": [
    "# CORRECTION Q1\n",
    "\n",
    "def radar_fixe(vitesse_mesuree):\n",
    "    if vitesse_mesuree < 100:\n",
    "        vitesse_retenue = vitesse_mesuree - 5\n",
    "    else:\n",
    "        vitesse_retenue = vitesse_mesuree * 0.95\n",
    "    return vitesse_retenue"
   ]
  },
  {
   "cell_type": "code",
   "execution_count": 11,
   "id": "54664924",
   "metadata": {},
   "outputs": [],
   "source": [
    "# CORRECTION Q2\n",
    "\n",
    "def radar_mobile(vitesse_mesuree):\n",
    "    if vitesse_mesuree < 100:\n",
    "        vitesse_retenue = vitesse_mesuree - 10\n",
    "    else:\n",
    "        vitesse_retenue = vitesse_mesuree * 0.90\n",
    "    return vitesse_retenue"
   ]
  },
  {
   "cell_type": "code",
   "execution_count": 12,
   "id": "b6a86069",
   "metadata": {},
   "outputs": [
    {
     "data": {
      "text/plain": [
       "51"
      ]
     },
     "execution_count": 12,
     "metadata": {},
     "output_type": "execute_result"
    }
   ],
   "source": [
    "# CORRECTION Q3\n",
    "radar_fixe(56)"
   ]
  },
  {
   "cell_type": "code",
   "execution_count": 13,
   "id": "cf3902bb",
   "metadata": {},
   "outputs": [
    {
     "data": {
      "text/plain": [
       "46"
      ]
     },
     "execution_count": 13,
     "metadata": {},
     "output_type": "execute_result"
    }
   ],
   "source": [
    "# CORRECTION Q3\n",
    "radar_mobile(56)"
   ]
  },
  {
   "cell_type": "code",
   "execution_count": 14,
   "id": "1a5b532b",
   "metadata": {},
   "outputs": [
    {
     "data": {
      "text/plain": [
       "114.0"
      ]
     },
     "execution_count": 14,
     "metadata": {},
     "output_type": "execute_result"
    }
   ],
   "source": [
    "# CORRECTION Q3\n",
    "radar_fixe(120)"
   ]
  },
  {
   "cell_type": "code",
   "execution_count": 15,
   "id": "3c20bb5b",
   "metadata": {},
   "outputs": [
    {
     "data": {
      "text/plain": [
       "108.0"
      ]
     },
     "execution_count": 15,
     "metadata": {},
     "output_type": "execute_result"
    }
   ],
   "source": [
    "# CORRECTION Q3\n",
    "radar_mobile(120)"
   ]
  },
  {
   "cell_type": "code",
   "execution_count": 16,
   "id": "dc3eed20",
   "metadata": {},
   "outputs": [
    {
     "data": {
      "text/plain": [
       "(True, False)"
      ]
     },
     "execution_count": 16,
     "metadata": {},
     "output_type": "execute_result"
    }
   ],
   "source": [
    "# CORRECTION Q4 (BONUS)\n",
    "\n",
    "def est_verbalise_radar_fixe(vitesse_mesuree, vitesse_max):\n",
    "    # on calcule d'abord la vitesse retenue en utilisant la fonction radar_fixe\n",
    "    vitesse_retenue = radar_fixe(vitesse_mesuree)\n",
    "    # on teste si celle-ci est supérieure ou non à la vitesse maximale\n",
    "    if vitesse_retenue > vitesse_max:\n",
    "        return True\n",
    "    else:\n",
    "        return False\n",
    "\n",
    "# essais\n",
    "\n",
    "est_verbalise_radar_fixe(120, 110), est_verbalise_radar_fixe(114, 110)"
   ]
  },
  {
   "cell_type": "markdown",
   "id": "eb5a2c7a",
   "metadata": {},
   "source": [
    "## 🖊️ Exercice 4\n"
   ]
  },
  {
   "cell_type": "code",
   "execution_count": 17,
   "id": "e916d418",
   "metadata": {},
   "outputs": [],
   "source": [
    "# CORRECTION Q1\n",
    "\n",
    "from math import sqrt \n",
    "\n",
    "def racines_polynome(a, b, c):\n",
    "    delta = discriminant(a, b, b)  # on utilise la fonction de l'exercice 1 (ou directement b**2 - 4*a*c)\n",
    "    if delta > 0:\n",
    "        x1 = (-b-sqrt(delta)) / (2*a)\n",
    "        x2 = (-b+sqrt(delta)) / (2*a)\n",
    "        return x1, x2"
   ]
  },
  {
   "cell_type": "code",
   "execution_count": 18,
   "id": "198d2456",
   "metadata": {},
   "outputs": [],
   "source": [
    "# CORRECTION Q2\n",
    "\n",
    "from math import sqrt \n",
    "\n",
    "def racines_polynome(a, b, c):\n",
    "    delta = discriminant(a, b, c)  # on utilise la fonction de l'exercice 1 (ou directement b**2 - 4*a*c)\n",
    "    if delta > 0:\n",
    "        x1 = (-b-sqrt(delta)) / (2*a)\n",
    "        x2 = (-b+sqrt(delta)) / (2*a)\n",
    "        return x1, x2\n",
    "    elif delta == 0:\n",
    "        x0 = -b / (2*a)\n",
    "        return x0\n",
    "    else:\n",
    "        return None"
   ]
  },
  {
   "cell_type": "code",
   "execution_count": 19,
   "id": "36318b6d",
   "metadata": {},
   "outputs": [
    {
     "data": {
      "text/plain": [
       "(0.4, 1.0)"
      ]
     },
     "execution_count": 19,
     "metadata": {},
     "output_type": "execute_result"
    }
   ],
   "source": [
    "# CORRECTION Q3\n",
    "racines_polynome(5, -7, 2)"
   ]
  },
  {
   "cell_type": "code",
   "execution_count": 20,
   "id": "dd16dc62",
   "metadata": {},
   "outputs": [],
   "source": [
    "# CORRECTION Q3\n",
    "racines_polynome(6, 4, 5)  # ne renvoie rien car il n'y a pas de racines"
   ]
  },
  {
   "cell_type": "code",
   "execution_count": 21,
   "id": "7df56d84",
   "metadata": {},
   "outputs": [
    {
     "data": {
      "text/plain": [
       "-1.0"
      ]
     },
     "execution_count": 21,
     "metadata": {},
     "output_type": "execute_result"
    }
   ],
   "source": [
    "# CORRECTION Q3\n",
    "racines_polynome(1, 2, 1)"
   ]
  },
  {
   "cell_type": "markdown",
   "id": "964b4e53",
   "metadata": {},
   "source": [
    "## 🖊️ Exercice 5\n"
   ]
  },
  {
   "cell_type": "code",
   "execution_count": 22,
   "id": "a37f8c68",
   "metadata": {},
   "outputs": [],
   "source": [
    "# CORRECTION Q1\n",
    "\n",
    "def est_rectangle(a, b, c):\n",
    "    if a**2 == b**2 + c**2:\n",
    "        return True\n",
    "    else:\n",
    "        return False"
   ]
  },
  {
   "cell_type": "code",
   "execution_count": 23,
   "id": "8e09767f",
   "metadata": {},
   "outputs": [
    {
     "data": {
      "text/plain": [
       "True"
      ]
     },
     "execution_count": 23,
     "metadata": {},
     "output_type": "execute_result"
    }
   ],
   "source": [
    "# CORRECTION Q2\n",
    "est_rectangle(5, 4, 3)"
   ]
  },
  {
   "cell_type": "code",
   "execution_count": 24,
   "id": "8d3abb15",
   "metadata": {},
   "outputs": [
    {
     "data": {
      "text/plain": [
       "False"
      ]
     },
     "execution_count": 24,
     "metadata": {},
     "output_type": "execute_result"
    }
   ],
   "source": [
    "# CORRECTION Q2\n",
    "est_rectangle(6, 4, 3)"
   ]
  },
  {
   "cell_type": "code",
   "execution_count": 25,
   "id": "8660b0f1",
   "metadata": {},
   "outputs": [
    {
     "data": {
      "text/plain": [
       "(True, True)"
      ]
     },
     "execution_count": 25,
     "metadata": {},
     "output_type": "execute_result"
    }
   ],
   "source": [
    "# CORRECTION Q3\n",
    "\n",
    "def est_rectangle(a, b, c):\n",
    "    # on cherche d'abord le plus grand côté\n",
    "    plus_grand_cote = max(a, b, c)\n",
    "    # puis on stocke les deux autres dans les variables cote1 et cote2\n",
    "    if a == plus_grand_cote:\n",
    "        cote1 = b\n",
    "        cote2 = c\n",
    "    elif b == plus_grand_cote :\n",
    "        cote1 = a\n",
    "        cote2 = c\n",
    "    else:\n",
    "        cote1 = a\n",
    "        cote2 = b\n",
    "    \n",
    "    # on utilise le théorème de Pythagore pour répondre\n",
    "    if plus_grand_cote**2 == cote1**2 + cote2**2:\n",
    "        return True\n",
    "    else:\n",
    "        return False\n",
    "\n",
    "# ESSAIS\n",
    "\n",
    "est_rectangle(5, 4, 3), est_rectangle(3, 5, 4)"
   ]
  },
  {
   "cell_type": "markdown",
   "id": "8a85c152",
   "metadata": {},
   "source": [
    "---\n",
    "\n",
    "Germain BECKER, Anthony MÉCHINAUD, Lycée Mounier, ANGERS \n",
    "\n",
    "![Licence Creative Commons](https://i.creativecommons.org/l/by-nc-sa/4.0/88x31.png)"
   ]
  }
 ],
 "metadata": {
  "celltoolbar": "Aucun(e)",
  "kernelspec": {
   "display_name": "Python 3",
   "language": "python",
   "name": "python3"
  },
  "language_info": {
   "codemirror_mode": {
    "name": "ipython",
    "version": 3
   },
   "file_extension": ".py",
   "mimetype": "text/x-python",
   "name": "python",
   "nbconvert_exporter": "python",
   "pygments_lexer": "ipython3",
   "version": "3.7.10"
  }
 },
 "nbformat": 4,
 "nbformat_minor": 5
}
