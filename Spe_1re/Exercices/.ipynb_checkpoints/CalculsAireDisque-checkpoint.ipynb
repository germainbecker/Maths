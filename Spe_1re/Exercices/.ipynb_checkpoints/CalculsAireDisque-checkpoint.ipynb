{
 "cells": [
  {
   "cell_type": "markdown",
   "id": "c2fb5eb0",
   "metadata": {},
   "source": [
    "# Calculs de l'aire d'un disque\n",
    "___\n",
    "\n",
    "> Pour communiquer votre travail à votre professeur, vous cliquerez sur l'icône \"Share this notebook\" <img style=\"display:inline-block;\" src=\"data:image/png;base64,iVBORw0KGgoAAAANSUhEUgAAABkAAAAYCAIAAACA18GRAAAAAXNSR0IArs4c6QAAAARnQU1BAACxjwv8YQUAAAAJcEhZcwAADsMAAA7DAcdvqGQAAAF3SURBVEhLY/hPPTAizfrz5tTq/uqsqKhYvKikc/GOG5/+QDVBAKpZPy9ODTYmHjiUb38D1QkCKGa92ZgHVUUssOw/D9ULBChmXZwIVYIVWCZPPfXo06f3b25sbAqBihnnbUS4jHizmo58hSoDghuzfSGiZJlViBI0/0/3Q4SJMcsyqqp/5cYNU2sTHZwz+jGijAR3hUy8+BMqBkwlYPLlxZULV1589PPnT9LCK2rlfagIGLzZ257oAJHBAATN8p17FSoCAW9OLK6OtARKWHpGRUW6gVgwQNiPloUbnkK89ufN06dQ7765fw8aao+2V0ODi6iwNza2dQPmlRBnIMvSrXDuKZiJEABP1cSZhQbSNzyFqgKBn0c7IcJkmWWciIiQP083FEIDjTyzgL6Oql64/dTBDf1ZiFjN24rDrJ8nOpHjiAiQuPIRVC8QoJgFKnSmRxFtnEPpVuQwRDcLBH4+vXHqxClC6OK991D1cIDFLLIB9cz6/x8APlICPuYG0N4AAAAASUVORK5CYII=\"> dans la barre de menu, puis sur \"Copier dans le presse-papier\" pour copier le lien de partage. Ce lien est à coller dans l'espace de travail en réponse au devoir intitulé \"DM2 - Exercice de programmation\".\n",
    "\n"
   ]
  },
  {
   "cell_type": "markdown",
   "id": "314f280c",
   "metadata": {},
   "source": [
    "## Calcul avec la formule exacte\n",
    "\n",
    "**Q1** : Complétez la fonction `aire_disque` suivante qui possède un paramètre `r` et qui renvoie l'aire du disque de rayon `r`."
   ]
  },
  {
   "cell_type": "code",
   "execution_count": null,
   "id": "f68c5576",
   "metadata": {},
   "outputs": [],
   "source": [
    "from math import pi  # pour pouvoir utiliser le nombre pi\n",
    "\n",
    "def aire_disque(...):\n",
    "    aire = pi * ...\n",
    "    return ..."
   ]
  },
  {
   "cell_type": "markdown",
   "id": "3e7b18e3",
   "metadata": {},
   "source": [
    "**Q2** : Appelez la fonction `aire_disque` pour connaître l'aire d'un disque de rayon $r$ = 5 cm."
   ]
  },
  {
   "cell_type": "code",
   "execution_count": null,
   "id": "49397c92",
   "metadata": {},
   "outputs": [],
   "source": [
    "# à vous de jouer !\n"
   ]
  },
  {
   "cell_type": "markdown",
   "id": "ba9286f4",
   "metadata": {},
   "source": [
    "## Calcul selon une méthode égyptienne\n",
    "\n",
    "Il y a bien longtemps, les Égyptiens utilisaient le programme de calcul ci-dessous pour calculer l'aire (approchée) d'un disque :\n",
    "\n",
    "- Multiplier le diamètre par 8\n",
    "- Diviser le résultat par 9\n",
    "- Élever le résultat au carré\n",
    "\n",
    "L'aire du disque est la dernière valeur obtenue."
   ]
  },
  {
   "cell_type": "markdown",
   "id": "f50fca4e",
   "metadata": {},
   "source": [
    "**Q3** : ✍️ Calculer à la main l'aire d'un disque de rayon $r$ = 5 cm en utilisant la méthode égyptienne. *Arrondir à $10^{-3}$ près*."
   ]
  },
  {
   "cell_type": "raw",
   "id": "f07cfbb8",
   "metadata": {},
   "source": [
    "Réponse (avec les calculs) : "
   ]
  },
  {
   "cell_type": "markdown",
   "id": "84d43373",
   "metadata": {},
   "source": [
    "**Q4** : Écrivez une fonction appelée `aire_egyptienne_disque` qui prend en paramètre le rayon `r` d'un disque et qui renvoie son aire selon la méthode égyptienne."
   ]
  },
  {
   "cell_type": "code",
   "execution_count": null,
   "id": "879e57e1",
   "metadata": {},
   "outputs": [],
   "source": [
    "# à vous de jouer !\n"
   ]
  },
  {
   "cell_type": "markdown",
   "id": "35cf058d",
   "metadata": {},
   "source": [
    "**Q5** : Appelez cette fonction pour vérifier la réponse à la question 3."
   ]
  },
  {
   "cell_type": "code",
   "execution_count": null,
   "id": "ef2e36c5",
   "metadata": {},
   "outputs": [],
   "source": [
    "# à vous de jouer !\n"
   ]
  },
  {
   "cell_type": "markdown",
   "id": "af16dcdd",
   "metadata": {},
   "source": [
    "## Bonus\n",
    "\n",
    "**Q6** : Proposez une fonction qui permet de renvoyer la différence, en valeur absolue, entre l'aire donnée par la méthode égyptienne et l'aire réelle d'un disque.\n",
    "\n",
    "> 💡 En Python, la fonction `abs` renvoie la valeur absolue d'un nombre : `abs(x)` renvoie la valeur absolue de `x` (`x` étant soit un entier soit un flottant)."
   ]
  },
  {
   "cell_type": "code",
   "execution_count": null,
   "id": "8b3602e0",
   "metadata": {},
   "outputs": [],
   "source": [
    "# à vous de jouer !\n"
   ]
  },
  {
   "cell_type": "markdown",
   "id": "a63adb3d",
   "metadata": {},
   "source": [
    "**Q7** : L'approximation de la méthode égyptienne est-elle meilleure pour des petits disques ou des grands disques ? *Vous utiliserez un programme Python pour justifier la réponse (relisez vos cours de Mathématiques et de SNT de l'an dernier si nécessaire)*."
   ]
  },
  {
   "cell_type": "raw",
   "id": "1ee07b8c",
   "metadata": {},
   "source": [
    "Réponse (à compléter) : "
   ]
  },
  {
   "cell_type": "code",
   "execution_count": null,
   "id": "47e54eda",
   "metadata": {},
   "outputs": [],
   "source": [
    "# à vous de jouer !\n"
   ]
  },
  {
   "cell_type": "markdown",
   "id": "fdf6189a",
   "metadata": {},
   "source": [
    "---\n",
    "\n",
    "Germain BECKER, Lycée Mounier, ANGERS \n",
    "\n",
    "![Licence Creative Commons](https://i.creativecommons.org/l/by-nc-sa/4.0/88x31.png)"
   ]
  }
 ],
 "metadata": {
  "kernelspec": {
   "display_name": "Python 3",
   "language": "python",
   "name": "python3"
  },
  "language_info": {
   "codemirror_mode": {
    "name": "ipython",
    "version": 3
   },
   "file_extension": ".py",
   "mimetype": "text/x-python",
   "name": "python",
   "nbconvert_exporter": "python",
   "pygments_lexer": "ipython3",
   "version": "3.7.10"
  }
 },
 "nbformat": 4,
 "nbformat_minor": 5
}
