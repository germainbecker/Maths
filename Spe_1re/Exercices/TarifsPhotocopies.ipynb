{
 "cells": [
  {
   "cell_type": "markdown",
   "id": "ea9dc2e4",
   "metadata": {},
   "source": [
    "# Tarif de photocopies\n",
    "---\n",
    "\n",
    "> Pour communiquer votre travail à votre professeur, vous cliquerez sur l'icône \"Share this notebook\" <img style=\"display:inline-block;\" src=\"data:image/png;base64,iVBORw0KGgoAAAANSUhEUgAAABkAAAAYCAIAAACA18GRAAAAAXNSR0IArs4c6QAAAARnQU1BAACxjwv8YQUAAAAJcEhZcwAADsMAAA7DAcdvqGQAAAF3SURBVEhLY/hPPTAizfrz5tTq/uqsqKhYvKikc/GOG5/+QDVBAKpZPy9ODTYmHjiUb38D1QkCKGa92ZgHVUUssOw/D9ULBChmXZwIVYIVWCZPPfXo06f3b25sbAqBihnnbUS4jHizmo58hSoDghuzfSGiZJlViBI0/0/3Q4SJMcsyqqp/5cYNU2sTHZwz+jGijAR3hUy8+BMqBkwlYPLlxZULV1589PPnT9LCK2rlfagIGLzZ257oAJHBAATN8p17FSoCAW9OLK6OtARKWHpGRUW6gVgwQNiPloUbnkK89ufN06dQ7765fw8aao+2V0ODi6iwNza2dQPmlRBnIMvSrXDuKZiJEABP1cSZhQbSNzyFqgKBn0c7IcJkmWWciIiQP083FEIDjTyzgL6Oql64/dTBDf1ZiFjN24rDrJ8nOpHjiAiQuPIRVC8QoJgFKnSmRxFtnEPpVuQwRDcLBH4+vXHqxClC6OK991D1cIDFLLIB9cz6/x8APlICPuYG0N4AAAAASUVORK5CYII=\"> dans la barre de menu, puis sur \"Copier dans le presse-papier\" pour copier le lien de partage. Ce lien est à coller dans l'espace de travail en réponse au devoir intitulé \"DM3 - Exercice de programmation\". Vous pouvez aussi recopier vos réponses sur une feuille..."
   ]
  },
  {
   "cell_type": "markdown",
   "id": "34a757b8",
   "metadata": {},
   "source": [
    "Un magasin de reprographie propose un tatif dégressif : les 20 premières photocopies sont facturées à 10 centimes pièce, et les suivantes à 8 centimes.\n",
    "\n",
    "**Question 1** : Calculer à la main le montant à payer pour 15 photocopies. Et pour 38 photocopies ?"
   ]
  },
  {
   "cell_type": "raw",
   "id": "6e2d44d3",
   "metadata": {},
   "source": [
    "Réponse (avec les calculs) : ...\n"
   ]
  },
  {
   "cell_type": "markdown",
   "id": "60b51dab",
   "metadata": {},
   "source": [
    "On veut écrire une fonction Python permettant de renvoyer le prix à payer selon le nombre `nb_photocopies` de photocopies à réaliser. Voici le code incomplet de cette fonction.\n",
    "\n",
    "```python\n",
    "def montant(nb_photocopies):\n",
    "    if ...:\n",
    "        prix = nb_photocopies * ...\n",
    "    else:\n",
    "        ...\n",
    "    return ...\n",
    "```"
   ]
  },
  {
   "cell_type": "markdown",
   "id": "5f10ac0d",
   "metadata": {},
   "source": [
    "**Question 2** : Quel est le nom de cette fonction ? Combien possède-t-elle de paramètres et le(s)quel(s) ?"
   ]
  },
  {
   "cell_type": "raw",
   "id": "5b0e85a4",
   "metadata": {},
   "source": [
    "Réponse :\n",
    "\n",
    "nom de la fonction : ...\n",
    "paramètres : ..."
   ]
  },
  {
   "cell_type": "markdown",
   "id": "5271e6e3",
   "metadata": {},
   "source": [
    "**Question 3** : Recopier le code de la fonction et compléter les pointillés pour qu'elle soit correcte."
   ]
  },
  {
   "cell_type": "code",
   "execution_count": 1,
   "id": "e0eb19e3",
   "metadata": {},
   "outputs": [],
   "source": [
    "# à vous de jouer !\n"
   ]
  },
  {
   "cell_type": "markdown",
   "id": "b1fa6626",
   "metadata": {},
   "source": [
    "**Question 4** : Faites les appels nécessaires à la fonction pour vérifier les réponses à la question 1."
   ]
  },
  {
   "cell_type": "code",
   "execution_count": 2,
   "id": "756edea3",
   "metadata": {},
   "outputs": [],
   "source": [
    "# à vous de jouer !\n"
   ]
  },
  {
   "cell_type": "code",
   "execution_count": 3,
   "id": "30cb6b50",
   "metadata": {},
   "outputs": [],
   "source": [
    "# à vous de jouer !\n"
   ]
  },
  {
   "cell_type": "markdown",
   "id": "975fb113",
   "metadata": {},
   "source": [
    "---\n",
    "\n",
    "Germain BECKER, Lycée Mounier, ANGERS \n",
    "\n",
    "![Licence Creative Commons](https://i.creativecommons.org/l/by-nc-sa/4.0/88x31.png)"
   ]
  }
 ],
 "metadata": {
  "kernelspec": {
   "display_name": "Python 3",
   "language": "python",
   "name": "python3"
  },
  "language_info": {
   "codemirror_mode": {
    "name": "ipython",
    "version": 3
   },
   "file_extension": ".py",
   "mimetype": "text/x-python",
   "name": "python",
   "nbconvert_exporter": "python",
   "pygments_lexer": "ipython3",
   "version": "3.7.10"
  }
 },
 "nbformat": 4,
 "nbformat_minor": 5
}
